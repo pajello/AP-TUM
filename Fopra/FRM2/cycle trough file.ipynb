{
 "cells": [
  {
   "cell_type": "code",
   "execution_count": 38,
   "id": "21cd97eb",
   "metadata": {},
   "outputs": [],
   "source": [
    "import os\n",
    "import pandas as pd\n",
    "import numpy as np\n",
    "from astropy.io import fits\n",
    "import re"
   ]
  },
  {
   "cell_type": "code",
   "execution_count": 109,
   "id": "c3825ac4",
   "metadata": {},
   "outputs": [],
   "source": [
    "folders=[]\n",
    "filenames=[]\n",
    "for foldername in os.listdir(r'C:\\Users\\patri\\Documents\\Uni\\Fopra\\FRM2\\02_resolution_scans'):\n",
    "    folders.append(foldername)\n",
    "for foldername in folders:\n",
    "    path=os.path.join(r'C:\\Users\\patri\\Documents\\Uni\\Fopra\\FRM2\\02_resolution_scans',foldername)\n",
    "    for filename in os.listdir(path):\n",
    "        filenames.append(os.path.join(r'C:\\Users\\patri\\Documents\\Uni\\Fopra\\FRM2\\02_resolution_scans',foldername,filename))"
   ]
  },
  {
   "cell_type": "code",
   "execution_count": 108,
   "id": "bc1e3d26",
   "metadata": {},
   "outputs": [
    {
     "data": {
      "text/plain": [
       "[20.0,\n",
       " 40.0,\n",
       " 60.0,\n",
       " 80.0,\n",
       " 100.0,\n",
       " 120.0,\n",
       " 140.0,\n",
       " 160.0,\n",
       " 180.0,\n",
       " 200.0,\n",
       " 220.0,\n",
       " 240.0,\n",
       " 260.0,\n",
       " 280.0,\n",
       " 300.0]"
      ]
     },
     "execution_count": 108,
     "metadata": {},
     "output_type": "execute_result"
    }
   ],
   "source": [
    "SDD=[]\n",
    "for name in filenames:\n",
    "    x=re.findall(\"[0-9]+mm.fits\",name)\n",
    "    measure_temp=str(x[0])\n",
    "    measure=re.split(\"mm\",measure_temp)\n",
    "    SDD_value=float(measure[0])\n",
    "    SDD.append(SDD_value)\n",
    "SDD"
   ]
  },
  {
   "cell_type": "code",
   "execution_count": 100,
   "id": "d27ed464",
   "metadata": {},
   "outputs": [
    {
     "data": {
      "text/plain": [
       "20.0"
      ]
     },
     "execution_count": 100,
     "metadata": {},
     "output_type": "execute_result"
    }
   ],
   "source": [
    "x=re.findall(\"[0-9]+mm.fits\",filenames[0])\n",
    "measure_temp=str(x[0])\n",
    "measure=re.split(\"mm\",measure_temp)\n",
    "SDD=float(measure[0])"
   ]
  },
  {
   "cell_type": "code",
   "execution_count": 69,
   "id": "633db57f",
   "metadata": {},
   "outputs": [],
   "source": [
    "x=re.split(\"mm\",str(x))\n",
    "x=np.array(x[0])"
   ]
  },
  {
   "cell_type": "code",
   "execution_count": null,
   "id": "4ae60992",
   "metadata": {},
   "outputs": [],
   "source": []
  }
 ],
 "metadata": {
  "kernelspec": {
   "display_name": "Python 3 (ipykernel)",
   "language": "python",
   "name": "python3"
  },
  "language_info": {
   "codemirror_mode": {
    "name": "ipython",
    "version": 3
   },
   "file_extension": ".py",
   "mimetype": "text/x-python",
   "name": "python",
   "nbconvert_exporter": "python",
   "pygments_lexer": "ipython3",
   "version": "3.9.7"
  }
 },
 "nbformat": 4,
 "nbformat_minor": 5
}
