{
 "cells": [
  {
   "cell_type": "code",
   "execution_count": 1,
   "id": "9e5af416",
   "metadata": {},
   "outputs": [],
   "source": [
    "import pandas as pd\n",
    "import matplotlib.pyplot as plt\n",
    "import numpy as np\n",
    "import scipy\n",
    "import os"
   ]
  },
  {
   "cell_type": "markdown",
   "id": "1a594d7d",
   "metadata": {},
   "source": [
    "Time is in nanoseconds\n",
    "Voltage is in millivolt"
   ]
  },
  {
   "cell_type": "code",
   "execution_count": 2,
   "id": "43b1f08e",
   "metadata": {},
   "outputs": [],
   "source": [
    "def csv_conv(filename):\n",
    "    df=pd.read_csv(filename)\n",
    "    df=df.drop(0)\n",
    "    df=df.rename(columns={\"Time\": \"Time[ns]\", \"Channel A\": \"Voltage[mV]\"})\n",
    "    df=df.reset_index(drop=True)\n",
    "    df.to_csv(filename,index=False)"
   ]
  },
  {
   "cell_type": "code",
   "execution_count": 3,
   "id": "828628a1",
   "metadata": {},
   "outputs": [],
   "source": [
    "csv_conv(r'C:\\Users\\patri\\Documents\\Uni\\Fopra\\Silizium\\FOPRA_Walther_patrick_schwarzfischer\\54p3_1pe\\54p3_1pe_001.csv')"
   ]
  },
  {
   "cell_type": "code",
   "execution_count": 4,
   "id": "b00c15ae",
   "metadata": {},
   "outputs": [],
   "source": [
    "folders=[]\n",
    "filenames=[]\n",
    "for foldername in os.listdir(r'C:\\Users\\patri\\Documents\\Uni\\Fopra\\Silizium\\FOPRA_Walther_patrick_schwarzfischer'):\n",
    "    folders.append(foldername)\n",
    "for foldername in folders:\n",
    "    path_temp=os.path.join(r'C:\\Users\\patri\\Documents\\Uni\\Fopra\\Silizium\\FOPRA_Walther_patrick_schwarzfischer',foldername)\n",
    "    for filename in os.listdir(path_temp):\n",
    "        path=os.path.join(path_temp,filename)\n",
    "        csv_conv(path)       "
   ]
  },
  {
   "cell_type": "code",
   "execution_count": null,
   "id": "2e6b173d",
   "metadata": {},
   "outputs": [],
   "source": [
    "df=pd.read_csv(r'C:\\Users\\patri\\Documents\\Uni\\Fopra\\Silizium\\FOPRA_Walther_patrick_schwarzfischer\\54p3_1pe\\54p3_1pe_001_final.csv',dtype=float)\n",
    "df.head()"
   ]
  }
 ],
 "metadata": {
  "kernelspec": {
   "display_name": "Python 3 (ipykernel)",
   "language": "python",
   "name": "python3"
  },
  "language_info": {
   "codemirror_mode": {
    "name": "ipython",
    "version": 3
   },
   "file_extension": ".py",
   "mimetype": "text/x-python",
   "name": "python",
   "nbconvert_exporter": "python",
   "pygments_lexer": "ipython3",
   "version": "3.9.7"
  }
 },
 "nbformat": 4,
 "nbformat_minor": 5
}
