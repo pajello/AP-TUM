{
 "cells": [
  {
   "cell_type": "code",
   "execution_count": 78,
   "id": "7d936125",
   "metadata": {},
   "outputs": [],
   "source": [
    "\"\"\"Evaluation of the spatial resolution from knife edge measurements.\"\"\"\n",
    "\n",
    "import os\n",
    "import pandas as pd\n",
    "import numpy as np\n",
    "from astropy.io import fits\n",
    "import re\n",
    "import matplotlib.pyplot as plt "
   ]
  },
  {
   "cell_type": "code",
   "execution_count": null,
   "id": "f100b09b",
   "metadata": {},
   "outputs": [],
   "source": [
    "     #problem with nan and inf values in their data\n",
    "    df=pd.DataFrame(data_image)\n",
    "    df=df.astype(float).replace([np.inf,-np.inf],np.nan) \n",
    "    df=df.dropna()\n",
    "    data_image=np.array(df)"
   ]
  },
  {
   "cell_type": "code",
   "execution_count": 51,
   "id": "0ce5880b",
   "metadata": {},
   "outputs": [],
   "source": [
    "def open_fits(filepath):\n",
    "    \"\"\"Open the file at filepath and return the data image as 2D numpy array.\"\"\"\n",
    "    # Fits files consist of a list of \"header data units\" => possible to store multiple images per file\n",
    "    hdu_list = fits.open(filepath)\n",
    "    # We only store one image per file\n",
    "    # data grabs the image data as numpy array\n",
    "    image = hdu_list[0].data\n",
    "    # The convention for the origin of the image is bottom left for FITS but top left for numpy/matplotlib etc.\n",
    "    # => flip the order of the rows of the array\n",
    "    return image[::-1]\n",
    "\n",
    "def  crop_to_regionofinterest(data_image, x_min, x_max, y_min, y_max):\n",
    "    #crop only the top and teh bottom, change contrast to see pic\n",
    "    \"\"\"Crop the data_image to the given boundaries.\"\"\"\n",
    "    # If you don't understand the syntax below: google for 'numpy array slicing'\n",
    "    # Note: numpy sees arrays as a[row, column] or a[row][column] => row corresponds to the y direction and columns are in x\n",
    "    return data_image[y_min:y_max,x_min:x_max]\n",
    "def move_to_xlsx(filepath,data):\n",
    "    df = pd.DataFrame(data)\n",
    "    filepath_pd=filepath\n",
    "    df.to_excel(filepath_pd,index=False)\n",
    "    \n",
    "def find_nearest(array, value):\n",
    "    #as the name says finds the index of the value in the array closest to a given value \n",
    "    array = np.asarray(array)\n",
    "    idx = (np.abs(array - value)).argmin()\n",
    "    return idx\n",
    "    \n",
    "def modulation_transfer_function(data_image, pixel_size):\n",
    "    \"\"\"\n",
    "    Calculate the modulation transfer function of a knife edge data image.\n",
    "    \n",
    "    @param data_image: 2D numpy array\n",
    "    @param pixel_size: Size of a pixel in micrometer\n",
    "    @return: normalized MTF, Spatial frequencies [line-pairs/mm]\n",
    "    \"\"\"\n",
    "    number_pixels_x = data_image.shape[1]\n",
    "   \n",
    "\n",
    "    # Calculate the edge spread function\n",
    "    # Hint: np.mean gives the average of the whole array, np.std the standard deviation\n",
    "    esf = (data_image-np.mean(data_image))/np.std(data_image)\n",
    "    \n",
    "    \n",
    "    # Calculate the line spread function\n",
    "    # Specifying an axis for np.mean averages only over one direction (in this case along y (rows))\n",
    "    # => the 2D array collapses to a 1D array\n",
    "    lsf = np.gradient(\n",
    "        np.mean(esf, axis=0),\n",
    "        pixel_size\n",
    "    )\n",
    "    \n",
    "     \n",
    "    # Calculate the modulation transfer function\n",
    "    # Hint: a nice discrete fourier transform method is np.fft.rfft()\n",
    "    mtf = np.abs(np.fft.rfft(lsf))/np.max(np.abs(np.fft.rfft(lsf))) \n",
    "    \n",
    "    # Calculate the spatial frequencies corresponding to the MTF values\n",
    "    # pixel_size is in um therefore we need a factor 1000 to get to the common unit of line-pairs per mm\n",
    "    frequencies = np.arange(len(mtf)) / (pixel_size * number_pixels_x) * 1000\n",
    "\n",
    "    return mtf, frequencies"
   ]
  },
  {
   "cell_type": "code",
   "execution_count": 58,
   "id": "bf211d1e",
   "metadata": {},
   "outputs": [],
   "source": [
    "'''\n",
    "Cycle trough the entire folder and save mft, frequencies in designated lists, same for spatial resolution\n",
    "Also writes down the filepath\n",
    "'''\n",
    "folders=[]\n",
    "filenames=[]\n",
    "spat_res=[]\n",
    "for foldername in os.listdir(r'C:\\Users\\patri\\Documents\\Uni\\Fopra\\FRM2\\02_resolution_scans'):\n",
    "    folders.append(foldername)\n",
    "for foldername in folders:\n",
    "    path=os.path.join(r'C:\\Users\\patri\\Documents\\Uni\\Fopra\\FRM2\\02_resolution_scans',foldername)\n",
    "    for filename in os.listdir(path):\n",
    "        filenames.append(filename)\n",
    "        fit=open_fits(os.path.join(path,filename))\n",
    "        fit2=crop_to_regionofinterest(fit,776,1444,452,1840)\n",
    "        pixel_size=33 #micrometers, TO DO check units\n",
    "        mft, frequencies=modulation_transfer_function(fit2,pixel_size) \n",
    "        id_spat_res=find_nearest(mft,np.max(mft)/10) \n",
    "        spat_res.append(frequencies[id_spat_res])"
   ]
  },
  {
   "cell_type": "code",
   "execution_count": 75,
   "id": "122ad8a9",
   "metadata": {},
   "outputs": [],
   "source": [
    "distance=np.linspace(20,300,15)\n",
    "#spatial resolution has 45 entries, 15 for each folder\n",
    "spat_res_8p9=spat_res[0:15]\n",
    "spat_res_17p8=spat_res[15:30]\n",
    "spat_res_35p68=spat_res[30:45]"
   ]
  },
  {
   "cell_type": "code",
   "execution_count": 83,
   "id": "7bca05ca",
   "metadata": {},
   "outputs": [
    {
     "data": {
      "text/plain": [
       "<matplotlib.collections.PathCollection at 0x215f6ebbf70>"
      ]
     },
     "execution_count": 83,
     "metadata": {},
     "output_type": "execute_result"
    },
    {
     "data": {
      "image/png": "[encoded data removed]",
      "text/plain": [
       "<Figure size 432x288 with 1 Axes>"
      ]
     },
     "metadata": {
      "needs_background": "light"
     },
     "output_type": "display_data"
    }
   ],
   "source": [
    "plt.scatter(distance,spat_res_8p9)\n",
    "plt.scatter(distance,spat_res_17p8)\n",
    "plt.scatter(distance,spat_res_35p68)"
   ]
  },
  {
   "cell_type": "code",
   "execution_count": null,
   "id": "714b43e7",
   "metadata": {},
   "outputs": [],
   "source": []
  }
 ],
 "metadata": {
  "kernelspec": {
   "display_name": "Python 3 (ipykernel)",
   "language": "python",
   "name": "python3"
  },
  "language_info": {
   "codemirror_mode": {
    "name": "ipython",
    "version": 3
   },
   "file_extension": ".py",
   "mimetype": "text/x-python",
   "name": "python",
   "nbconvert_exporter": "python",
   "pygments_lexer": "ipython3",
   "version": "3.9.7"
  }
 },
 "nbformat": 4,
 "nbformat_minor": 5
}
