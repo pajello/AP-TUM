{
 "cells": [
  {
   "cell_type": "markdown",
   "id": "magnetic-tactics",
   "metadata": {},
   "source": [
    "Second try of the Pol code since the first one did not give any sensible fits"
   ]
  },
  {
   "cell_type": "code",
   "execution_count": 107,
   "id": "flush-sacramento",
   "metadata": {},
   "outputs": [],
   "source": [
    "import pandas as pd\n",
    "import numpy as np\n",
    "import matplotlib.pyplot as plt\n",
    "from scipy.optimize import curve_fit\n",
    "from scipy.signal import find_peaks\n",
    "%matplotlib inline"
   ]
  },
  {
   "cell_type": "code",
   "execution_count": 108,
   "id": "single-toolbox",
   "metadata": {},
   "outputs": [
    {
     "data": {
      "text/html": [
       "<div>\n",
       "<style scoped>\n",
       "    .dataframe tbody tr th:only-of-type {\n",
       "        vertical-align: middle;\n",
       "    }\n",
       "\n",
       "    .dataframe tbody tr th {\n",
       "        vertical-align: top;\n",
       "    }\n",
       "\n",
       "    .dataframe thead th {\n",
       "        text-align: right;\n",
       "    }\n",
       "</style>\n",
       "<table border=\"1\" class=\"dataframe\">\n",
       "  <thead>\n",
       "    <tr style=\"text-align: right;\">\n",
       "      <th></th>\n",
       "      <th>Time [s]</th>\n",
       "      <th>Phi [deg] 0.2A</th>\n",
       "      <th>Phi [deg] 0.29A</th>\n",
       "      <th>Phi [deg] 0.4A</th>\n",
       "      <th>Phi [deg] 0.49A</th>\n",
       "      <th>Phi [deg] 0.6A</th>\n",
       "      <th>Phi [deg] 0.7A</th>\n",
       "      <th>Phi [deg] 0.81A</th>\n",
       "      <th>Phi [deg] 0.9A</th>\n",
       "      <th>Phi [deg] 1.0A</th>\n",
       "      <th>Phi [deg] 1.1A</th>\n",
       "      <th>Phi [deg] 1.2A</th>\n",
       "      <th>Phi [deg] 1.3A</th>\n",
       "      <th>Phi [deg] 1.4A</th>\n",
       "      <th>Phi [deg] 1.5A</th>\n",
       "    </tr>\n",
       "  </thead>\n",
       "  <tbody>\n",
       "    <tr>\n",
       "      <th>0</th>\n",
       "      <td>0.025</td>\n",
       "      <td>-0.0076</td>\n",
       "      <td>-0.0072</td>\n",
       "      <td>-0.0084</td>\n",
       "      <td>-0.0080</td>\n",
       "      <td>-0.0088</td>\n",
       "      <td>-0.0092</td>\n",
       "      <td>-0.0068</td>\n",
       "      <td>-0.0100</td>\n",
       "      <td>-0.0086</td>\n",
       "      <td>-0.0080</td>\n",
       "      <td>-0.0058</td>\n",
       "      <td>-0.0090</td>\n",
       "      <td>-0.0070</td>\n",
       "      <td>-0.0056</td>\n",
       "    </tr>\n",
       "    <tr>\n",
       "      <th>1</th>\n",
       "      <td>0.075</td>\n",
       "      <td>-0.0090</td>\n",
       "      <td>-0.0054</td>\n",
       "      <td>-0.0086</td>\n",
       "      <td>-0.0070</td>\n",
       "      <td>-0.0106</td>\n",
       "      <td>-0.0062</td>\n",
       "      <td>-0.0084</td>\n",
       "      <td>-0.0084</td>\n",
       "      <td>-0.0088</td>\n",
       "      <td>-0.0074</td>\n",
       "      <td>-0.0062</td>\n",
       "      <td>-0.0080</td>\n",
       "      <td>-0.0066</td>\n",
       "      <td>-0.0072</td>\n",
       "    </tr>\n",
       "    <tr>\n",
       "      <th>2</th>\n",
       "      <td>0.125</td>\n",
       "      <td>-0.0088</td>\n",
       "      <td>-0.0082</td>\n",
       "      <td>-0.0078</td>\n",
       "      <td>-0.0084</td>\n",
       "      <td>-0.0074</td>\n",
       "      <td>-0.0074</td>\n",
       "      <td>-0.0066</td>\n",
       "      <td>-0.0074</td>\n",
       "      <td>-0.0082</td>\n",
       "      <td>-0.0084</td>\n",
       "      <td>-0.0060</td>\n",
       "      <td>-0.0080</td>\n",
       "      <td>-0.0058</td>\n",
       "      <td>-0.0056</td>\n",
       "    </tr>\n",
       "    <tr>\n",
       "      <th>3</th>\n",
       "      <td>0.175</td>\n",
       "      <td>-0.0096</td>\n",
       "      <td>-0.0072</td>\n",
       "      <td>-0.0086</td>\n",
       "      <td>-0.0078</td>\n",
       "      <td>-0.0094</td>\n",
       "      <td>-0.0066</td>\n",
       "      <td>-0.0078</td>\n",
       "      <td>-0.0094</td>\n",
       "      <td>-0.0074</td>\n",
       "      <td>-0.0074</td>\n",
       "      <td>-0.0062</td>\n",
       "      <td>-0.0078</td>\n",
       "      <td>-0.0078</td>\n",
       "      <td>-0.0070</td>\n",
       "    </tr>\n",
       "    <tr>\n",
       "      <th>4</th>\n",
       "      <td>0.225</td>\n",
       "      <td>-0.0088</td>\n",
       "      <td>-0.0080</td>\n",
       "      <td>-0.0068</td>\n",
       "      <td>-0.0082</td>\n",
       "      <td>-0.0082</td>\n",
       "      <td>-0.0082</td>\n",
       "      <td>-0.0078</td>\n",
       "      <td>-0.0094</td>\n",
       "      <td>-0.0094</td>\n",
       "      <td>-0.0078</td>\n",
       "      <td>-0.0062</td>\n",
       "      <td>-0.0094</td>\n",
       "      <td>-0.0054</td>\n",
       "      <td>-0.0058</td>\n",
       "    </tr>\n",
       "  </tbody>\n",
       "</table>\n",
       "</div>"
      ],
      "text/plain": [
       "   Time [s]  Phi [deg] 0.2A  Phi [deg] 0.29A  Phi [deg] 0.4A  Phi [deg] 0.49A  \\\n",
       "0     0.025         -0.0076          -0.0072         -0.0084          -0.0080   \n",
       "1     0.075         -0.0090          -0.0054         -0.0086          -0.0070   \n",
       "2     0.125         -0.0088          -0.0082         -0.0078          -0.0084   \n",
       "3     0.175         -0.0096          -0.0072         -0.0086          -0.0078   \n",
       "4     0.225         -0.0088          -0.0080         -0.0068          -0.0082   \n",
       "\n",
       "   Phi [deg] 0.6A  Phi [deg] 0.7A  Phi [deg] 0.81A  Phi [deg] 0.9A  \\\n",
       "0         -0.0088         -0.0092          -0.0068         -0.0100   \n",
       "1         -0.0106         -0.0062          -0.0084         -0.0084   \n",
       "2         -0.0074         -0.0074          -0.0066         -0.0074   \n",
       "3         -0.0094         -0.0066          -0.0078         -0.0094   \n",
       "4         -0.0082         -0.0082          -0.0078         -0.0094   \n",
       "\n",
       "   Phi [deg] 1.0A  Phi [deg] 1.1A  Phi [deg] 1.2A  Phi [deg] 1.3A  \\\n",
       "0         -0.0086         -0.0080         -0.0058         -0.0090   \n",
       "1         -0.0088         -0.0074         -0.0062         -0.0080   \n",
       "2         -0.0082         -0.0084         -0.0060         -0.0080   \n",
       "3         -0.0074         -0.0074         -0.0062         -0.0078   \n",
       "4         -0.0094         -0.0078         -0.0062         -0.0094   \n",
       "\n",
       "   Phi [deg] 1.4A  Phi [deg] 1.5A  \n",
       "0         -0.0070         -0.0056  \n",
       "1         -0.0066         -0.0072  \n",
       "2         -0.0058         -0.0056  \n",
       "3         -0.0078         -0.0070  \n",
       "4         -0.0054         -0.0058  "
      ]
     },
     "execution_count": 108,
     "metadata": {},
     "output_type": "execute_result"
    }
   ],
   "source": [
    "df0=pd.read_excel('POL Daten.xlsx',sheet_name='t, phi')\n",
    "labels=list(df0.columns)  #Nehme mir die labels von den spalten\n",
    "labels=labels[1:] #Erste weg, ist ja t\n",
    "lambda_list=[]\n",
    "omega_list=[]\n",
    "omega_fehler=[]\n",
    "lambda_fehler=[]\n",
    "\n",
    "df0.head()"
   ]
  },
  {
   "cell_type": "code",
   "execution_count": 109,
   "id": "impressive-hacker",
   "metadata": {},
   "outputs": [
    {
     "data": {
      "text/plain": [
       "<matplotlib.axes._subplots.AxesSubplot at 0x147bdf8f820>"
      ]
     },
     "execution_count": 109,
     "metadata": {},
     "output_type": "execute_result"
    },
    {
     "data": {
      "image/png": "[encoded data removed]",
      "text/plain": [
       "<Figure size 432x288 with 1 Axes>"
      ]
     },
     "metadata": {
      "needs_background": "light"
     },
     "output_type": "display_data"
    }
   ],
   "source": [
    "df0.plot(x=\"Time [s]\")"
   ]
  },
  {
   "cell_type": "markdown",
   "id": "induced-blame",
   "metadata": {},
   "source": [
    "Will try the code for one dataset. New ideas:\n",
    "Start at maximum since I'm using a cosine function which starts at 1, so we can ignore the phaseshift"
   ]
  },
  {
   "cell_type": "code",
   "execution_count": 110,
   "id": "outdoor-element",
   "metadata": {},
   "outputs": [],
   "source": [
    "I=[0.2,0.29,0.4,0.49,0.6,0.7,0.81,0.9,1,1.1,1.2,1.3,1.4,1.5]"
   ]
  },
  {
   "cell_type": "code",
   "execution_count": 140,
   "id": "european-session",
   "metadata": {},
   "outputs": [],
   "source": [
    "for i in range(len(labels)):\n",
    "    df=df0.copy(deep=True) #necessary to create copy, otherwise orginal dataframe will be modyfied. Problem for t data\n",
    "    title=labels[i]\n",
    "    t=df['Time [s]'] #define x data\n",
    "    phi=df[title].dropna() #define y data, dropna makes sure i have no nans in my data, which are there since the datasets \n",
    "    #are not all the same length\n",
    "    max_pos=df.idxmax() #finding index of maximum for each dataset\n",
    "    max_pos=max_pos[1:] #getting rid of max for the time column\n",
    "    phi0=df[title][max_pos[i]] #setting phi0 as maximum of function\n",
    "    phi=phi[max_pos[i]:] #making y data start at maximum\n",
    "    phi=phi.reset_index(drop=True) #resets index of phi, useful for while loop otherwise difficult to call elements\n",
    "    count=0\n",
    "    while (phi[0]-phi[1])<(phi[0]/100):\n",
    "        del phi[0]\n",
    "        phi=phi.reset_index(drop=True) #have to reset it every time\n",
    "        count+=1\n",
    "    t_max=t[max_pos[i]] #need to shift the t to zero to get a good fit so we need t value of starting point\n",
    "    t=t[max_pos[i]+count:] #making x data start at max of y\n",
    "    t-=t_max\n",
    "    t=t.reset_index(drop=True)\n",
    "    if len(t)!= len(phi): #just making sure that x and y have the same length\n",
    "        t=t[:len(phi)]\n",
    "    def func(t, lam, omega, beta, phi): #defining ,my function here after finding Phi0, otherwise have to use lambda funct to \n",
    "        #pass parameter i think\n",
    "        return phi*np.exp(-lam*t)*np.cos(omega*t+beta)\n",
    "    popt, pcov = curve_fit(func, t, phi,maxfev=5000) #this is just fitting, we are interested in the first to things that popt returns\n",
    "    lambdat,omegat,betat, phi=popt[0],popt[1],popt[2],popt[3] #assigning a bit of stuff to make the code more readable\n",
    "    lambda_list.append(lambdat)\n",
    "    omega_list.append(omegat)\n",
    "    fehler=np.sqrt(np.diag(pcov))\n",
    "    #lambdafehler, omegafehler = fehler[0], fehler[1] davon muss man noch die wurzel ziehen\n",
    "    omega_fehler.append(fehler[1])\n",
    "    lambda_fehler.append(fehler[0])"
   ]
  },
  {
   "cell_type": "code",
   "execution_count": 141,
   "id": "continued-surveillance",
   "metadata": {},
   "outputs": [
    {
     "name": "stdout",
     "output_type": "stream",
     "text": [
      "0     -0.0056\n",
      "1     -0.0072\n",
      "2     -0.0056\n",
      "3     -0.0070\n",
      "4     -0.0058\n",
      "        ...  \n",
      "595       NaN\n",
      "596       NaN\n",
      "597       NaN\n",
      "598       NaN\n",
      "599       NaN\n",
      "Name: Phi [deg] 1.5A, Length: 600, dtype: float64\n"
     ]
    }
   ],
   "source": [
    "phi=df[title]\n",
    "print(phi)"
   ]
  },
  {
   "cell_type": "code",
   "execution_count": 126,
   "id": "adolescent-button",
   "metadata": {},
   "outputs": [
    {
     "data": {
      "text/plain": [
       "[0.036230741630449106,\n",
       " 0.07417633337467791,\n",
       " 0.1258957288077742,\n",
       " 0.18145238681955841,\n",
       " 0.2642580320020387,\n",
       " 0.3489455728843724,\n",
       " 0.46334242597593794,\n",
       " 0.5759067661557854,\n",
       " 0.698043345077656,\n",
       " 0.8369132754118522,\n",
       " 0.9795464639482916,\n",
       " 1.154917252250028,\n",
       " 1.3274802783236586,\n",
       " 1.4987945450540505]"
      ]
     },
     "execution_count": 126,
     "metadata": {},
     "output_type": "execute_result"
    }
   ],
   "source": [
    "lambda_list"
   ]
  },
  {
   "cell_type": "code",
   "execution_count": 129,
   "id": "charged-special",
   "metadata": {},
   "outputs": [
    {
     "data": {
      "text/plain": [
       "[0.0009091413974328875,\n",
       " 0.0008721323691673068,\n",
       " 0.0010198511415803115,\n",
       " 0.0011265612512952102,\n",
       " 0.001295279065465566,\n",
       " 0.0016882239817346753,\n",
       " 0.0021978619180317064,\n",
       " 0.0024069858412060045,\n",
       " 0.002740397182424323,\n",
       " 0.002904328377604656,\n",
       " 0.003726578871285589,\n",
       " 0.0042344624222764695,\n",
       " 0.0055842978624245036,\n",
       " 0.007973452969859216]"
      ]
     },
     "execution_count": 129,
     "metadata": {},
     "output_type": "execute_result"
    }
   ],
   "source": [
    "lambda_fehler"
   ]
  },
  {
   "cell_type": "code",
   "execution_count": 2,
   "id": "irish-technician",
   "metadata": {},
   "outputs": [
    {
     "ename": "NameError",
     "evalue": "name 'np' is not defined",
     "output_type": "error",
     "traceback": [
      "\u001b[1;31m---------------------------------------------------------------------------\u001b[0m",
      "\u001b[1;31mNameError\u001b[0m                                 Traceback (most recent call last)",
      "\u001b[1;32m<ipython-input-2-d5156d79aca1>\u001b[0m in \u001b[0;36m<module>\u001b[1;34m\u001b[0m\n\u001b[1;32m----> 1\u001b[1;33m \u001b[0mlambda_list_numpy\u001b[0m\u001b[1;33m=\u001b[0m\u001b[0mnp\u001b[0m\u001b[1;33m.\u001b[0m\u001b[0masarray\u001b[0m\u001b[1;33m(\u001b[0m\u001b[0mlambda_list\u001b[0m\u001b[1;33m)\u001b[0m\u001b[1;33m\u001b[0m\u001b[1;33m\u001b[0m\u001b[0m\n\u001b[0m\u001b[0;32m      2\u001b[0m \u001b[0mlambda_fehler_numpy\u001b[0m\u001b[1;33m=\u001b[0m\u001b[0mnp\u001b[0m\u001b[1;33m.\u001b[0m\u001b[0masarray\u001b[0m\u001b[1;33m(\u001b[0m\u001b[0mlambda_fehler\u001b[0m\u001b[1;33m)\u001b[0m\u001b[1;33m\u001b[0m\u001b[1;33m\u001b[0m\u001b[0m\n",
      "\u001b[1;31mNameError\u001b[0m: name 'np' is not defined"
     ]
    }
   ],
   "source": [
    "lambda_list_numpy=np.asarray(lambda_list)\n",
    "lambda_fehler_numpy=np.asarray(lambda_fehler)"
   ]
  },
  {
   "cell_type": "code",
   "execution_count": 132,
   "id": "urban-administrator",
   "metadata": {},
   "outputs": [
    {
     "data": {
      "text/plain": [
       "'\\\\begin{tabular}{lr}\\n\\\\toprule\\n{} &  damping constant \\\\\\\\\\n\\\\midrule\\n0  &          0.036231 \\\\\\\\\\n1  &          0.074176 \\\\\\\\\\n2  &          0.125896 \\\\\\\\\\n3  &          0.181452 \\\\\\\\\\n4  &          0.264258 \\\\\\\\\\n5  &          0.348946 \\\\\\\\\\n6  &          0.463342 \\\\\\\\\\n7  &          0.575907 \\\\\\\\\\n8  &          0.698043 \\\\\\\\\\n9  &          0.836913 \\\\\\\\\\n10 &          0.979546 \\\\\\\\\\n11 &          1.154917 \\\\\\\\\\n12 &          1.327480 \\\\\\\\\\n13 &          1.498795 \\\\\\\\\\n\\\\bottomrule\\n\\\\end{tabular}\\n'"
      ]
     },
     "execution_count": 132,
     "metadata": {},
     "output_type": "execute_result"
    }
   ],
   "source": [
    "lambda_list_panda.to_latex()"
   ]
  },
  {
   "cell_type": "code",
   "execution_count": 6,
   "id": "falling-there",
   "metadata": {},
   "outputs": [],
   "source": [
    "omega=popt[1]"
   ]
  },
  {
   "cell_type": "code",
   "execution_count": 7,
   "id": "sealed-theater",
   "metadata": {},
   "outputs": [
    {
     "data": {
      "text/plain": [
       "array([ 1.49879455,  2.77679047, -0.67028345,  2.09291943])"
      ]
     },
     "execution_count": 7,
     "metadata": {},
     "output_type": "execute_result"
    }
   ],
   "source": [
    "popt"
   ]
  },
  {
   "cell_type": "markdown",
   "id": "ranging-sport",
   "metadata": {},
   "source": [
    "# Following 2 plots are with wrong data\n",
    "The following plots look bad because the last 5 data points somehow get fitted in a very weird way. further down it is done again witha a few manual adjustments to aparameters and we get much  better results"
   ]
  },
  {
   "cell_type": "code",
   "execution_count": 8,
   "id": "offensive-bowling",
   "metadata": {},
   "outputs": [
    {
     "data": {
      "text/plain": [
       "14"
      ]
     },
     "execution_count": 8,
     "metadata": {},
     "output_type": "execute_result"
    }
   ],
   "source": [
    "len(lambda_list)\n"
   ]
  },
  {
   "cell_type": "code",
   "execution_count": 11,
   "id": "configured-gilbert",
   "metadata": {},
   "outputs": [
    {
     "data": {
      "text/plain": [
       "14"
      ]
     },
     "execution_count": 11,
     "metadata": {},
     "output_type": "execute_result"
    }
   ],
   "source": [
    "len(I)"
   ]
  },
  {
   "cell_type": "markdown",
   "id": "interior-death",
   "metadata": {},
   "source": [
    "rows=[I][lambda_list][]\n",
    "print('Tabulate Table:')\n",
    "print(tabulate(rows, headers='firstrow'))\n",
    "table = Texttable()\n",
    "table.set_cols_align([\"c\"] * 4)\n",
    "table.set_deco(Texttable.HEADER | Texttable.VLINES)\n",
    "print('\\nTexttable Table:')\n",
    "print(table.draw())"
   ]
  },
  {
   "cell_type": "markdown",
   "id": "dangerous-monaco",
   "metadata": {},
   "source": [
    "print(‘\\nTabulate Latex:’)\n",
    "print(tabulate(rows, headers=’firstrow’, tablefmt=’latex’))\n",
    "print(‘\\nTexttable Latex:’)\n",
    "print(latextable.draw_latex(table, caption=”fitted values of damping constant and natural freqhency”))"
   ]
  },
  {
   "cell_type": "code",
   "execution_count": 12,
   "id": "square-promotion",
   "metadata": {},
   "outputs": [],
   "source": [
    "def format(xlabel, ylabel):\n",
    "    plt.xlabel(xlabel, fontsize=15, labelpad=None)\n",
    "    plt.ylabel(ylabel, fontsize=15, labelpad=None)\n",
    "    plt.grid(b=True, which='major', axis='both')\n",
    "    plt.xticks(fontsize=15 )\n",
    "    plt.yticks(fontsize=15 )\n",
    "    plt.show()\n",
    "    "
   ]
  },
  {
   "cell_type": "code",
   "execution_count": 13,
   "id": "civic-piece",
   "metadata": {
    "scrolled": false
   },
   "outputs": [
    {
     "data": {
      "image/png": "[encoded data removed]",
      "text/plain": [
       "<Figure size 432x288 with 1 Axes>"
      ]
     },
     "metadata": {
      "needs_background": "light"
     },
     "output_type": "display_data"
    }
   ],
   "source": [
    "plt.scatter(I,lambda_list)\n",
    "def func3(Strom,d,c):  \n",
    "    return d*pow(Strom,2)+c\n",
    "popt3, pcov3 = curve_fit(func3, I, lambda_list,maxfev=5000)\n",
    "\n",
    "l=[func3(x,*popt3) for x in I]\n",
    "xdata_liste=[]\n",
    "for i in arrange(26):\n",
    "    xdata_liste.append(xdate[i])\n",
    "    \n",
    "plt.plot(I, l)\n",
    "plt.grid(b=True, which='major', axis='both')\n",
    "format(\"current/A\"  , \"damping constant/Hz\")\n"
   ]
  },
  {
   "cell_type": "code",
   "execution_count": 14,
   "id": "italian-netherlands",
   "metadata": {},
   "outputs": [
    {
     "data": {
      "text/plain": [
       "array([0.66481588, 0.02347392])"
      ]
     },
     "execution_count": 14,
     "metadata": {},
     "output_type": "execute_result"
    }
   ],
   "source": [
    "popt3"
   ]
  },
  {
   "cell_type": "code",
   "execution_count": 15,
   "id": "particular-vacuum",
   "metadata": {},
   "outputs": [
    {
     "data": {
      "text/plain": [
       "array([[ 1.34310609e-05, -1.18867764e-05],\n",
       "       [-1.18867764e-05,  1.71208460e-05]])"
      ]
     },
     "execution_count": 15,
     "metadata": {},
     "output_type": "execute_result"
    }
   ],
   "source": [
    "pcov3"
   ]
  },
  {
   "cell_type": "code",
   "execution_count": 16,
   "id": "comfortable-threat",
   "metadata": {},
   "outputs": [
    {
     "data": {
      "text/plain": [
       "array([0.00366484, 0.00413773])"
      ]
     },
     "execution_count": 16,
     "metadata": {},
     "output_type": "execute_result"
    }
   ],
   "source": [
    "np.sqrt(np.diag(pcov3))"
   ]
  },
  {
   "cell_type": "markdown",
   "id": "considered-bermuda",
   "metadata": {},
   "source": [
    "$\\omega_d=\\sqrt{\\frac{k}{\\Omega}-\\lambda ^2}$\n",
    "\n",
    "$\\omega_0=\\sqrt{\\frac{k}{\\Omega}}$\n",
    "\n",
    "The plot below looks like it could be fitted to the $\\omega_d$ function"
   ]
  },
  {
   "cell_type": "code",
   "execution_count": 55,
   "id": "official-parcel",
   "metadata": {},
   "outputs": [],
   "source": [
    "def func2 (lamm,a):\n",
    "    return np.sqrt(a-np.power(lamm,2))"
   ]
  },
  {
   "cell_type": "code",
   "execution_count": 56,
   "id": "rough-colorado",
   "metadata": {},
   "outputs": [
    {
     "data": {
      "text/plain": [
       "[0.036230741630449106,\n",
       " 0.07417633337467791,\n",
       " 0.1258957288077742,\n",
       " 0.18145238681955841,\n",
       " 0.2642580320020387,\n",
       " 0.3489455728843724,\n",
       " 0.46334242597593794,\n",
       " 0.5759067661557854,\n",
       " 0.698043345077656,\n",
       " 0.8369132754118522,\n",
       " 0.9795464639482916,\n",
       " 1.154917252250028,\n",
       " 1.3274802783236586,\n",
       " 1.4987945450540505]"
      ]
     },
     "execution_count": 56,
     "metadata": {},
     "output_type": "execute_result"
    }
   ],
   "source": [
    "lambda_list\n"
   ]
  },
  {
   "cell_type": "code",
   "execution_count": 58,
   "id": "dutch-japanese",
   "metadata": {},
   "outputs": [],
   "source": [
    "lambda_squared=[]"
   ]
  },
  {
   "cell_type": "code",
   "execution_count": 65,
   "id": "painful-company",
   "metadata": {},
   "outputs": [],
   "source": [
    "for i in np.arange(len(lambda_list)):\n",
    "    lambda_squared.append(np.power(lambda_list[i],2))"
   ]
  },
  {
   "cell_type": "code",
   "execution_count": 66,
   "id": "moved-change",
   "metadata": {},
   "outputs": [
    {
     "data": {
      "text/plain": [
       "[0.001312666639092358,\n",
       " 0.005502128432911356,\n",
       " 0.015849734532040624,\n",
       " 0.032924968682514655,\n",
       " 0.0698323074775905,\n",
       " 0.12176301283560284,\n",
       " 0.21468620370926753,\n",
       " 0.3316686033040145,\n",
       " 0.4872645116072035,\n",
       " 0.7004238305605949,\n",
       " 0.9595112750336017,\n",
       " 1.3338338595447548,\n",
       " 1.762203889338258,\n",
       " 2.246385088283778]"
      ]
     },
     "execution_count": 66,
     "metadata": {},
     "output_type": "execute_result"
    }
   ],
   "source": [
    "lambda_squared\n"
   ]
  },
  {
   "cell_type": "code",
   "execution_count": 77,
   "id": "sensitive-louisiana",
   "metadata": {},
   "outputs": [],
   "source": [
    "initial_guess=[2.25]"
   ]
  },
  {
   "cell_type": "code",
   "execution_count": 78,
   "id": "agricultural-rebecca",
   "metadata": {},
   "outputs": [
    {
     "data": {
      "text/plain": [
       "1"
      ]
     },
     "execution_count": 78,
     "metadata": {},
     "output_type": "execute_result"
    }
   ],
   "source": [
    "len(initial_guess)"
   ]
  },
  {
   "cell_type": "code",
   "execution_count": 79,
   "id": "allied-agreement",
   "metadata": {
    "scrolled": true
   },
   "outputs": [],
   "source": [
    "popt2, pcov2 = curve_fit(func2, lambda_list, omega_list, initial_guess, maxfev=10000)\n"
   ]
  },
  {
   "cell_type": "code",
   "execution_count": 1,
   "id": "valuable-sponsorship",
   "metadata": {},
   "outputs": [
    {
     "ename": "NameError",
     "evalue": "name 'popt2' is not defined",
     "output_type": "error",
     "traceback": [
      "\u001b[1;31m---------------------------------------------------------------------------\u001b[0m",
      "\u001b[1;31mNameError\u001b[0m                                 Traceback (most recent call last)",
      "\u001b[1;32m<ipython-input-1-f16f867d6e90>\u001b[0m in \u001b[0;36m<module>\u001b[1;34m\u001b[0m\n\u001b[1;32m----> 1\u001b[1;33m \u001b[0ma\u001b[0m\u001b[1;33m=\u001b[0m\u001b[0mpopt2\u001b[0m\u001b[1;33m[\u001b[0m\u001b[1;36m0\u001b[0m\u001b[1;33m]\u001b[0m\u001b[1;33m\u001b[0m\u001b[1;33m\u001b[0m\u001b[0m\n\u001b[0m\u001b[0;32m      2\u001b[0m \u001b[0ma_Fehler\u001b[0m\u001b[1;33m=\u001b[0m\u001b[0mpvov2\u001b[0m\u001b[1;33m[\u001b[0m\u001b[1;36m0\u001b[0m\u001b[1;33m]\u001b[0m\u001b[1;33m\u001b[0m\u001b[1;33m\u001b[0m\u001b[0m\n",
      "\u001b[1;31mNameError\u001b[0m: name 'popt2' is not defined"
     ]
    }
   ],
   "source": [
    "a=popt2[0]\n",
    "a_Fehler=pvov2[0]"
   ]
  },
  {
   "cell_type": "code",
   "execution_count": 80,
   "id": "norman-quarterly",
   "metadata": {},
   "outputs": [
    {
     "data": {
      "text/plain": [
       "array([10.07110967])"
      ]
     },
     "execution_count": 80,
     "metadata": {},
     "output_type": "execute_result"
    }
   ],
   "source": [
    "popt2"
   ]
  },
  {
   "cell_type": "code",
   "execution_count": 84,
   "id": "dominican-level",
   "metadata": {},
   "outputs": [
    {
     "data": {
      "text/plain": [
       "array([0.0254627])"
      ]
     },
     "execution_count": 84,
     "metadata": {},
     "output_type": "execute_result"
    }
   ],
   "source": [
    "np.sqrt(np.diag(pcov2))"
   ]
  },
  {
   "cell_type": "code",
   "execution_count": 81,
   "id": "secret-evolution",
   "metadata": {
    "scrolled": true
   },
   "outputs": [
    {
     "data": {
      "image/png": "[encoded data removed]",
      "text/plain": [
       "<Figure size 432x288 with 1 Axes>"
      ]
     },
     "metadata": {
      "needs_background": "light"
     },
     "output_type": "display_data"
    }
   ],
   "source": [
    "plt.scatter(lambda_list,omega_list)\n",
    "plt.plot(lambda_list,func2(lambda_list,10))\n",
    "plt.grid(b=True, which='major', axis='both')\n",
    "format(\"damping constant/Hz\"  , \"natural frequency/Hz\")\n"
   ]
  },
  {
   "cell_type": "markdown",
   "id": "prescribed-stylus",
   "metadata": {},
   "source": [
    "a alias k/THeta"
   ]
  },
  {
   "cell_type": "code",
   "execution_count": 46,
   "id": "opposed-accommodation",
   "metadata": {},
   "outputs": [
    {
     "ename": "NameError",
     "evalue": "name 'a' is not defined",
     "output_type": "error",
     "traceback": [
      "\u001b[1;31m---------------------------------------------------------------------------\u001b[0m",
      "\u001b[1;31mNameError\u001b[0m                                 Traceback (most recent call last)",
      "\u001b[1;32m<ipython-input-46-3f786850e387>\u001b[0m in \u001b[0;36m<module>\u001b[1;34m\u001b[0m\n\u001b[1;32m----> 1\u001b[1;33m \u001b[0ma\u001b[0m\u001b[1;33m\u001b[0m\u001b[1;33m\u001b[0m\u001b[0m\n\u001b[0m",
      "\u001b[1;31mNameError\u001b[0m: name 'a' is not defined"
     ]
    }
   ],
   "source": [
    "a"
   ]
  },
  {
   "cell_type": "markdown",
   "id": "vulnerable-litigation",
   "metadata": {},
   "source": [
    "Fehler von a alsias k/theta"
   ]
  },
  {
   "cell_type": "code",
   "execution_count": null,
   "id": "comparable-crystal",
   "metadata": {},
   "outputs": [],
   "source": [
    "a_Fehler=pvov2[0]"
   ]
  },
  {
   "cell_type": "code",
   "execution_count": 20,
   "id": "descending-alaska",
   "metadata": {},
   "outputs": [
    {
     "data": {
      "text/plain": [
       "14"
      ]
     },
     "execution_count": 20,
     "metadata": {},
     "output_type": "execute_result"
    }
   ],
   "source": [
    "len(omega_list)"
   ]
  },
  {
   "cell_type": "code",
   "execution_count": 21,
   "id": "indirect-benjamin",
   "metadata": {},
   "outputs": [
    {
     "ename": "NameError",
     "evalue": "name 'a' is not defined",
     "output_type": "error",
     "traceback": [
      "\u001b[1;31m---------------------------------------------------------------------------\u001b[0m",
      "\u001b[1;31mNameError\u001b[0m                                 Traceback (most recent call last)",
      "\u001b[1;32m<ipython-input-21-f79a2fda05b6>\u001b[0m in \u001b[0;36m<module>\u001b[1;34m\u001b[0m\n\u001b[1;32m----> 1\u001b[1;33m \u001b[0mprint\u001b[0m\u001b[1;33m(\u001b[0m\u001b[1;34m'The eigenfrequency is'\u001b[0m\u001b[1;33m,\u001b[0m\u001b[0mnp\u001b[0m\u001b[1;33m.\u001b[0m\u001b[0msqrt\u001b[0m\u001b[1;33m(\u001b[0m\u001b[0ma\u001b[0m\u001b[1;33m)\u001b[0m\u001b[1;33m)\u001b[0m\u001b[1;33m\u001b[0m\u001b[1;33m\u001b[0m\u001b[0m\n\u001b[0m",
      "\u001b[1;31mNameError\u001b[0m: name 'a' is not defined"
     ]
    }
   ],
   "source": [
    "print('The eigenfrequency is',np.sqrt(a))"
   ]
  },
  {
   "cell_type": "code",
   "execution_count": null,
   "id": "skilled-directory",
   "metadata": {},
   "outputs": [],
   "source": []
  },
  {
   "cell_type": "code",
   "execution_count": null,
   "id": "binary-there",
   "metadata": {},
   "outputs": [],
   "source": []
  },
  {
   "cell_type": "code",
   "execution_count": null,
   "id": "therapeutic-diamond",
   "metadata": {},
   "outputs": [],
   "source": []
  }
 ],
 "metadata": {
  "kernelspec": {
   "display_name": "Python 3",
   "language": "python",
   "name": "python3"
  },
  "language_info": {
   "codemirror_mode": {
    "name": "ipython",
    "version": 3
   },
   "file_extension": ".py",
   "mimetype": "text/x-python",
   "name": "python",
   "nbconvert_exporter": "python",
   "pygments_lexer": "ipython3",
   "version": "3.8.3"
  }
 },
 "nbformat": 4,
 "nbformat_minor": 5
}
