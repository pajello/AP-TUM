{
 "cells": [
  {
   "cell_type": "code",
   "execution_count": 173,
   "id": "9a63ae85",
   "metadata": {},
   "outputs": [],
   "source": [
    "import pandas as pd\n",
    "import numpy as np\n",
    "import matplotlib.pyplot as plt\n",
    "import matplotlib\n",
    "from scipy.optimize import curve_fit\n",
    "from uncertainties import *\n",
    "from uncertainties import unumpy as unp\n",
    "import  seaborn as sns\n",
    "from scipy.odr import *\n",
    "from scipy.constants import R\n",
    "%matplotlib inline\n",
    "sns.set()"
   ]
  },
  {
   "cell_type": "code",
   "execution_count": 96,
   "id": "425a970c",
   "metadata": {},
   "outputs": [],
   "source": [
    "def ex3(filename,sheetname):\n",
    "    df=pd.read_excel(filename,sheet_name=sheetname)\n",
    "    #creating uarray for the volume\n",
    "    VTemp=np.array(df['Volume[ml]'])\n",
    "    n=len(VTemp)\n",
    "    VErTemp=[0.1]*n\n",
    "\n",
    "    V=unp.uarray(VTemp,VErTemp)\n",
    "\n",
    "    #creating uarray for the pressure\n",
    "\n",
    "    pTemp=np.array(df['p[atm]'])\n",
    "    pErTemp=[0.5]*n\n",
    "\n",
    "    p=unp.uarray(pTemp,pErTemp)\n",
    "\n",
    "    #preparing the arrays for plotting\n",
    "    pV=p*V\n",
    "    invV=1/V\n",
    "    return pV,invV"
   ]
  },
  {
   "cell_type": "code",
   "execution_count": 94,
   "id": "5fb16114",
   "metadata": {},
   "outputs": [],
   "source": [
    "df=pd.read_excel('ZUS.xlsx',sheet_name='A1_25.2grad')\n",
    "#creating uarray for the volume\n",
    "VTemp=np.array(df['Volume[ml]'])\n",
    "n=len(VTemp)\n",
    "VErTemp=[0.1]*n\n",
    "\n",
    "V=unp.uarray(VTemp,VErTemp)\n",
    "\n",
    "#creating uarray for the pressure\n",
    "\n",
    "pTemp=np.array(df['p[atm]'])\n",
    "pErTemp=[0.5]*n\n",
    "\n",
    "p=unp.uarray(pTemp,pErTemp)\n",
    "\n",
    "#preparing the arrays for plotting\n",
    "pV=p*V\n",
    "invV=1/V"
   ]
  },
  {
   "cell_type": "markdown",
   "id": "cbd1227a",
   "metadata": {},
   "source": [
    "# Uncertainties\n",
    "p has an uncertainti of pm 0.5 atm\n",
    "V has an uncertainty of 0.3 ml, this one is just decided by us becaus eof readout error"
   ]
  },
  {
   "cell_type": "code",
   "execution_count": 24,
   "id": "c6954f5c",
   "metadata": {},
   "outputs": [],
   "source": [
    "filenames=['ZUS.xlsx','Mappe1.xlsx']\n",
    "sheetname=['A1_25.2grad','A1_39.9grad','A1_49.6grad','A1_32.6grad','A1_42.2grad','A1_54grad']"
   ]
  },
  {
   "cell_type": "code",
   "execution_count": 97,
   "id": "0902f2d3",
   "metadata": {},
   "outputs": [],
   "source": [
    "pV252,invV252=ex3(filenames[0],sheetname[0])\n",
    "pV399,invV399=ex3(filenames[0],sheetname[1])\n",
    "pV496,invV496=ex3(filenames[0],sheetname[2])\n",
    "pV326,invV326=ex3(filenames[1],sheetname[3])\n",
    "pV422,invV422=ex3(filenames[1],sheetname[4])\n",
    "pV54,invV54=ex3(filenames[1],sheetname[5])"
   ]
  },
  {
   "cell_type": "markdown",
   "id": "b52be2c9",
   "metadata": {},
   "source": [
    "# Plotting pV vs 1/v\n",
    "In red measurements from othe group, in blue ours.\n",
    "\n",
    "Brauche in der aufgabe nur 2 messreihen..."
   ]
  },
  {
   "cell_type": "code",
   "execution_count": 148,
   "id": "ec23d245",
   "metadata": {},
   "outputs": [],
   "source": [
    "def line(B,x):\n",
    "    return B[0]*x + B[1]"
   ]
  },
  {
   "cell_type": "markdown",
   "id": "a29eeba7",
   "metadata": {},
   "source": [
    "Fitting with error bars"
   ]
  },
  {
   "cell_type": "code",
   "execution_count": 144,
   "id": "75c1e3aa",
   "metadata": {},
   "outputs": [],
   "source": [
    "# Create a model for fitting.\n",
    "fit_model = Model(line)\n",
    "\n",
    "# Create a RealData object using our initiated data from above.\n",
    "data = RealData(unp.nominal_values(invV399), unp.nominal_values(pV399), sx=unp.std_devs(invV399), sy=unp.std_devs(pV399)) \n",
    "\n",
    "# Set up ODR with the model and data.\n",
    "odr = ODR(data, fit_model, beta0=[0.1,0.5])\n",
    "\n",
    "# Run the regression.\n",
    "out = odr.run()\n",
    "\n",
    "B399=out.beta\n",
    "B399err=out.sd_beta"
   ]
  },
  {
   "cell_type": "code",
   "execution_count": 147,
   "id": "7e322dd4",
   "metadata": {},
   "outputs": [],
   "source": [
    "# Create a model for fitting.\n",
    "fit_model = Model(line)\n",
    "\n",
    "# Create a RealData object using our initiated data from above.\n",
    "data = RealData(unp.nominal_values(invV54), unp.nominal_values(pV54), sx=unp.std_devs(invV54), sy=unp.std_devs(pV54)) \n",
    "\n",
    "# Set up ODR with the model and data.\n",
    "odr = ODR(data, fit_model, beta0=[0.1,0.5])\n",
    "\n",
    "# Run the regression.\n",
    "out = odr.run()\n",
    "\n",
    "\n",
    "B54=out.beta\n",
    "B54err=out.sd_beta"
   ]
  },
  {
   "cell_type": "code",
   "execution_count": 149,
   "id": "f4cc0c6a",
   "metadata": {},
   "outputs": [],
   "source": [
    "x=np.linspace(0,3,200)\n",
    "y399=line(B399,x)\n",
    "y54=line(B54,x)"
   ]
  },
  {
   "cell_type": "code",
   "execution_count": 195,
   "id": "8ca34e76",
   "metadata": {},
   "outputs": [
    {
     "data": {
      "image/png": "[encoded data removed]",
      "text/plain": [
       "<Figure size 432x288 with 1 Axes>"
      ]
     },
     "metadata": {},
     "output_type": "display_data"
    }
   ],
   "source": [
    "'''plt.errorbar(unp.nominal_values(invV252), unp.nominal_values(pV252),unp.std_devs(pV252),unp.std_devs(invV252),\n",
    "             fmt='.',color='r',ecolor='r', elinewidth=0.5)'''\n",
    "plt.errorbar(unp.nominal_values(invV399), unp.nominal_values(pV399),unp.std_devs(pV399),unp.std_devs(invV399),\n",
    "             fmt=',',color='r',ecolor='r',elinewidth=0.5)\n",
    "'''plt.errorbar(unp.nominal_values(invV496), unp.nominal_values(pV496),unp.std_devs(pV496),unp.std_devs(invV496),\n",
    "             fmt='.',color='r',ecolor='r',elinewidth=0.5)'''\n",
    "plt.plot(x,y399,color='r')\n",
    "'''plt.errorbar(unp.nominal_values(invV326), unp.nominal_values(pV326),unp.std_devs(pV326),unp.std_devs(invV326),\n",
    "             fmt='.',color='b',ecolor='b',elinewidth=0.5)\n",
    "plt.errorbar(unp.nominal_values(invV422), unp.nominal_values(pV422),unp.std_devs(pV422),unp.std_devs(invV422),\n",
    "             fmt=',',color='b',ecolor='b',elinewidth=0.5)'''\n",
    "plt.errorbar(unp.nominal_values(invV54), unp.nominal_values(pV54),unp.std_devs(pV54),unp.std_devs(invV54),\n",
    "             fmt='.',color='b',ecolor='b',elinewidth=0.5)\n",
    "plt.plot(x,y54,color='b')\n",
    "plt.xlabel('1/V [1/ml]')\n",
    "plt.ylabel('pV [atm*ml]')\n",
    "plt.xlim(0,3)\n",
    "plt.ylim(0,70)\n",
    "plt.savefig('ex3', dpi=1000,bbox_inches=\"tight\")"
   ]
  },
  {
   "cell_type": "code",
   "execution_count": 152,
   "id": "cb3cf112",
   "metadata": {},
   "outputs": [
    {
     "name": "stdout",
     "output_type": "stream",
     "text": [
      "The intercept with the y axis is  66.89230991136047 for T=39.9 and  68.9523577544893  for T=54\n"
     ]
    }
   ],
   "source": [
    "print('The intercept with the y axis is ',B399[1], 'for T=39.9 and ',B54[1],' for T=54')"
   ]
  },
  {
   "cell_type": "markdown",
   "id": "9fbbecf0",
   "metadata": {},
   "source": [
    "pV=nRT"
   ]
  },
  {
   "cell_type": "code",
   "execution_count": 192,
   "id": "400e6f63",
   "metadata": {},
   "outputs": [],
   "source": [
    "T399=39.9+273.15\n",
    "T54=54+273.15\n",
    "pV399extra=ufloat(B399[1],B399err[1])*101.324998/1e6 #from atm to kPa and from cm3 to m3\n",
    "pV54extra=ufloat(B54[1],B54err[1])*101.324998/1e6"
   ]
  },
  {
   "cell_type": "code",
   "execution_count": 182,
   "id": "05da9f0d",
   "metadata": {},
   "outputs": [],
   "source": [
    "n399=pV399extra/(R*T399)\n",
    "n54=pV54extra/(R*T54)"
   ]
  },
  {
   "cell_type": "code",
   "execution_count": 191,
   "id": "41a94232",
   "metadata": {},
   "outputs": [
    {
     "name": "stdout",
     "output_type": "stream",
     "text": [
      "bei 39.9 is n = (2.604+/-0.022)e-06\n",
      "bei 54 is n = (2.569+/-0.011)e-06\n"
     ]
    }
   ],
   "source": [
    "print('bei 39.9 is n =' ,n399)\n",
    "print('bei 54 is n =' ,n54)"
   ]
  },
  {
   "cell_type": "markdown",
   "id": "d5dcca2b",
   "metadata": {},
   "source": [
    "Calculating weighted average"
   ]
  },
  {
   "cell_type": "code",
   "execution_count": 190,
   "id": "0128b020",
   "metadata": {},
   "outputs": [],
   "source": [
    "entries=[unp.nominal_values(n399),unp.nominal_values(n54)]\n",
    "weights=[1/(unp.std_devs(n399))**2,1/(unp.std_devs(n54))**2]\n",
    "n=np.average(entries,weights=weights)"
   ]
  },
  {
   "cell_type": "code",
   "execution_count": 189,
   "id": "3450576b",
   "metadata": {},
   "outputs": [
    {
     "data": {
      "text/plain": [
       "2.5750908749551942e-06"
      ]
     },
     "execution_count": 189,
     "metadata": {},
     "output_type": "execute_result"
    }
   ],
   "source": [
    "n"
   ]
  },
  {
   "cell_type": "markdown",
   "id": "61f8bdc5",
   "metadata": {},
   "source": [
    "Should be e-3 not e-6. Number is correct otherwise"
   ]
  },
  {
   "cell_type": "markdown",
   "id": "4ad4b005",
   "metadata": {},
   "source": [
    "Error is 6/5 of smaller error, calculated on paper"
   ]
  },
  {
   "cell_type": "code",
   "execution_count": 194,
   "id": "ac1bcf48",
   "metadata": {},
   "outputs": [
    {
     "data": {
      "text/plain": [
       "0.013199999999999998"
      ]
     },
     "execution_count": 194,
     "metadata": {},
     "output_type": "execute_result"
    }
   ],
   "source": [
    "6/5 * 0.011"
   ]
  },
  {
   "cell_type": "code",
   "execution_count": null,
   "id": "a06e92bb",
   "metadata": {},
   "outputs": [],
   "source": []
  }
 ],
 "metadata": {
  "kernelspec": {
   "display_name": "Python 3 (ipykernel)",
   "language": "python",
   "name": "python3"
  },
  "language_info": {
   "codemirror_mode": {
    "name": "ipython",
    "version": 3
   },
   "file_extension": ".py",
   "mimetype": "text/x-python",
   "name": "python",
   "nbconvert_exporter": "python",
   "pygments_lexer": "ipython3",
   "version": "3.9.7"
  }
 },
 "nbformat": 4,
 "nbformat_minor": 5
}
