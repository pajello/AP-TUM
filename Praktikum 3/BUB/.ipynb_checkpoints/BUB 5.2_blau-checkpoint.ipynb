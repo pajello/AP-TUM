{
 "cells": [
  {
   "cell_type": "code",
   "execution_count": 1,
   "id": "protected-london",
   "metadata": {},
   "outputs": [],
   "source": [
    "from uncertainties import *\n",
    "from uncertainties import unumpy #need to import unumpy like this otherwise calling functions like unumpy.tan \n",
    "# will be difficult since they are called the same as in numpy\n",
    "import pandas as pd\n",
    "import numpy as np\n",
    "import matplotlib.pyplot as plt\n",
    "%matplotlib inline\n",
    "from pylab import *\n",
    "from scipy.optimize import curve_fit"
   ]
  },
  {
   "cell_type": "code",
   "execution_count": 2,
   "id": "double-girlfriend",
   "metadata": {},
   "outputs": [],
   "source": [
    "df = pd.read_excel (r'BUB_blau.xlsx',sheet_name='blau')   #call dataframe df otherwise function distance wont work\n",
    "#write file name and path. \n",
    "#If in the same folder no file name needed"
   ]
  },
  {
   "cell_type": "code",
   "execution_count": 3,
   "id": "hearing-character",
   "metadata": {},
   "outputs": [],
   "source": [
    "df=df.drop([0],axis=0) #erste lehre zeile droppen"
   ]
  },
  {
   "cell_type": "code",
   "execution_count": 4,
   "id": "reasonable-authorization",
   "metadata": {},
   "outputs": [],
   "source": [
    "l0=71.26 #schirmposition\n",
    "l1=l0-13.3 #distance between grid and panel\n",
    "l2=l0-23.8\n",
    "l3=l0-33.8\n",
    "l1_u=ufloat(l1,0.5+0.05*l1) #5mm fehler plus 5 prozent\n",
    "l2_u=ufloat(l2,0.5+0.05*l2)\n",
    "l3_u=ufloat(l3,0.5+0.05*l3)"
   ]
  },
  {
   "cell_type": "code",
   "execution_count": 5,
   "id": "second-affect",
   "metadata": {},
   "outputs": [],
   "source": [
    "df['Ordnung'] = df['Ordnung'].apply(lambda x: np.abs(x)) #minus zeichen bei der Ordnung wegmachen\n",
    "df['Ordnung'] = df['Ordnung'].astype(int) #Ordung in integre transformieren"
   ]
  },
  {
   "cell_type": "code",
   "execution_count": 6,
   "id": "continental-visibility",
   "metadata": {},
   "outputs": [],
   "source": [
    "def distance(col_name,err):\n",
    "    '''This function takes a given column and error and returns that as an earray filled with ufloats'''\n",
    "    arr = np.array([ufloat(df[col_name][1] , err + + 0.05*df[col_name][1])])\n",
    "    for i in range(2,len(df[col_name])+1):\n",
    "        x = [ufloat(df[col_name][i] , err + + 0.05*df[col_name][1])]\n",
    "        arr = np.append(arr,x)\n",
    "    return arr"
   ]
  },
  {
   "cell_type": "code",
   "execution_count": 7,
   "id": "young-issue",
   "metadata": {},
   "outputs": [],
   "source": [
    "s_13=distance('13,8cm',0.5)\n",
    "s_23=distance('23,8 cm',0.5)\n",
    "s_33=distance('33,8cm',0.5)"
   ]
  },
  {
   "cell_type": "code",
   "execution_count": 8,
   "id": "limited-pursuit",
   "metadata": {},
   "outputs": [],
   "source": [
    "tan1=s_13/l1_u\n",
    "tan2=s_23/l2_u\n",
    "tan3=s_33/l3_u"
   ]
  },
  {
   "cell_type": "code",
   "execution_count": 9,
   "id": "smart-silence",
   "metadata": {},
   "outputs": [
    {
     "data": {
      "text/plain": [
       "array([0.06658972510904623+/-0.017097404432050083,\n",
       "       0.13230237631023817+/-0.018215712215934352,\n",
       "       0.20134303521684185+/-0.019890393096753587,\n",
       "       0.2651205876188808+/-0.02162189699392735,\n",
       "       0.33010347700739506+/-0.02332594679678054,\n",
       "       0.06658972510904623+/-0.017097404432050083,\n",
       "       0.13490073417780776+/-0.0182713634694,\n",
       "       0.20635273837643017+/-0.02002341045265521,\n",
       "       0.2651205876188808+/-0.02162189699392735,\n",
       "       0.33234595975423536+/-0.023381124291254052], dtype=object)"
      ]
     },
     "execution_count": 9,
     "metadata": {},
     "output_type": "execute_result"
    }
   ],
   "source": [
    "sin1=unumpy.sin(unumpy.arctan(tan1)) #y axis of graph with sin(a)\n",
    "sin2=unumpy.sin(unumpy.arctan(tan2))\n",
    "sin3=unumpy.sin(unumpy.arctan(tan3))\n",
    "sin3"
   ]
  },
  {
   "cell_type": "code",
   "execution_count": 10,
   "id": "collected-inflation",
   "metadata": {},
   "outputs": [],
   "source": [
    "x=df['Ordnung'].apply(lambda x: abs(x)) #x axis of graph\n",
    "xc=x"
   ]
  },
  {
   "cell_type": "code",
   "execution_count": 11,
   "id": "novel-julian",
   "metadata": {},
   "outputs": [],
   "source": [
    "y1_v, y1_u = [sin1[i].nominal_value for i in range(len(sin1))] , [sin1[i].s for i in range(len(sin1))]\n",
    "y2_v, y2_u = [sin2[i].nominal_value for i in range(len(sin2))] , [sin2[i].s for i in range(len(sin2))]\n",
    "y3_v, y3_u = [sin3[i].nominal_value for i in range(len(sin3))] , [sin3[i].s for i in range(len(sin3))]\n",
    "y1_cv,y1_cu = y1_v, y1_u #copies of original data,useful for later\n",
    "y2_cv,y2_cu = y2_v, y2_u\n",
    "y3_cv,y3_cu = y3_v, y3_u"
   ]
  },
  {
   "cell_type": "code",
   "execution_count": 12,
   "id": "czech-constant",
   "metadata": {},
   "outputs": [
    {
     "data": {
      "image/png": "[encoded data removed]",
      "text/plain": [
       "<Figure size 432x288 with 1 Axes>"
      ]
     },
     "metadata": {
      "needs_background": "light"
     },
     "output_type": "display_data"
    }
   ],
   "source": [
    "plt.errorbar(x, y1_v, yerr=y1_u, fmt='o', c='r', label='13,8cm')\n",
    "plt.errorbar(x, y2_v, yerr=y2_u, fmt='o', c='g', label='23,8cm')\n",
    "plt.errorbar(x, y3_v, yerr=y3_u, fmt='o', c='y', label='33,8cm')\n",
    "plt.xlabel('Order of Minimum')\n",
    "plt.ylabel('sin(a)')\n",
    "plt.legend()\n",
    "plt.savefig('Blue_Minimum_vs_sin.png')"
   ]
  },
  {
   "cell_type": "code",
   "execution_count": 13,
   "id": "verified-yield",
   "metadata": {},
   "outputs": [],
   "source": [
    "def linearFunc(x,intercept,slope):\n",
    "    y = intercept + slope * x\n",
    "    return y\n",
    "def data_fitting_error(linearFunc, freq,  Kmax, d_Kmax, Data, x_label, y_label, titlee):\n",
    "    '''freq= xdata\n",
    "        Kmax=ydata\n",
    "        d_Kmax=yerror\n",
    "        Data=name of dataset'''\n",
    "    a_fit,cov=curve_fit(linearFunc,freq,Kmax,sigma=d_Kmax)\n",
    "    inter = a_fit[0]\n",
    "    slope = a_fit[1]\n",
    "    d_inter = sqrt(cov[0][0])\n",
    "    d_slope = sqrt(cov[1][1])\n",
    "    # Create a graph showing the data.\n",
    "    errorbar(freq,Kmax,yerr=d_Kmax,fmt='r.',label=Data)\n",
    "\n",
    "    # Compute a best fit line from the fit intercept and slope.\n",
    "    Kmax_fit = inter + slope*freq\n",
    "\n",
    "    # Create a graph of the fit to the data. We just use the ordinary plot\n",
    "    # command for this.\n",
    "    plot(freq,Kmax_fit,label='Fit')\n",
    "\n",
    "    # Display a legend, label the x and y axes and title the graph.\n",
    "    legend()\n",
    "    xlabel(x_label)\n",
    "    ylabel(y_label)\n",
    "    title(titlee + ' ' + Data)\n",
    "\n",
    "    # Save the figure to a file\n",
    "    plt.savefig(Data+'.png')\n",
    "\n",
    "    # Show the graph in a new window on the users screen.\n",
    "    show()\n",
    "    return slope, d_slope, inter, d_inter,freq,Kmax_fit"
   ]
  },
  {
   "cell_type": "code",
   "execution_count": 14,
   "id": "exempt-hopkins",
   "metadata": {},
   "outputs": [
    {
     "data": {
      "text/html": [
       "<div>\n",
       "<style scoped>\n",
       "    .dataframe tbody tr th:only-of-type {\n",
       "        vertical-align: middle;\n",
       "    }\n",
       "\n",
       "    .dataframe tbody tr th {\n",
       "        vertical-align: top;\n",
       "    }\n",
       "\n",
       "    .dataframe thead th {\n",
       "        text-align: right;\n",
       "    }\n",
       "</style>\n",
       "<table border=\"1\" class=\"dataframe\">\n",
       "  <thead>\n",
       "    <tr style=\"text-align: right;\">\n",
       "      <th></th>\n",
       "      <th>Ordnung</th>\n",
       "      <th>13,8cm</th>\n",
       "      <th>23,8 cm</th>\n",
       "      <th>33,8cm</th>\n",
       "      <th>13,8cm_u</th>\n",
       "      <th>23,8 cm_u</th>\n",
       "      <th>33,8cm_u</th>\n",
       "    </tr>\n",
       "  </thead>\n",
       "  <tbody>\n",
       "    <tr>\n",
       "      <th>1</th>\n",
       "      <td>1</td>\n",
       "      <td>0.027595</td>\n",
       "      <td>0.042103</td>\n",
       "      <td>0.066590</td>\n",
       "      <td>0.010125</td>\n",
       "      <td>0.012863</td>\n",
       "      <td>0.017097</td>\n",
       "    </tr>\n",
       "    <tr>\n",
       "      <th>2</th>\n",
       "      <td>2</td>\n",
       "      <td>0.056844</td>\n",
       "      <td>0.090233</td>\n",
       "      <td>0.132302</td>\n",
       "      <td>0.010498</td>\n",
       "      <td>0.013613</td>\n",
       "      <td>0.018216</td>\n",
       "    </tr>\n",
       "    <tr>\n",
       "      <th>3</th>\n",
       "      <td>3</td>\n",
       "      <td>0.084241</td>\n",
       "      <td>0.131589</td>\n",
       "      <td>0.201343</td>\n",
       "      <td>0.011048</td>\n",
       "      <td>0.014593</td>\n",
       "      <td>0.019890</td>\n",
       "    </tr>\n",
       "    <tr>\n",
       "      <th>4</th>\n",
       "      <td>4</td>\n",
       "      <td>0.114832</td>\n",
       "      <td>0.172270</td>\n",
       "      <td>0.265121</td>\n",
       "      <td>0.011848</td>\n",
       "      <td>0.015761</td>\n",
       "      <td>0.021622</td>\n",
       "    </tr>\n",
       "    <tr>\n",
       "      <th>5</th>\n",
       "      <td>5</td>\n",
       "      <td>NaN</td>\n",
       "      <td>NaN</td>\n",
       "      <td>0.330103</td>\n",
       "      <td>NaN</td>\n",
       "      <td>NaN</td>\n",
       "      <td>0.023326</td>\n",
       "    </tr>\n",
       "    <tr>\n",
       "      <th>6</th>\n",
       "      <td>1</td>\n",
       "      <td>0.029318</td>\n",
       "      <td>0.044205</td>\n",
       "      <td>0.066590</td>\n",
       "      <td>0.010140</td>\n",
       "      <td>0.012885</td>\n",
       "      <td>0.017097</td>\n",
       "    </tr>\n",
       "    <tr>\n",
       "      <th>7</th>\n",
       "      <td>2</td>\n",
       "      <td>0.055127</td>\n",
       "      <td>0.090233</td>\n",
       "      <td>0.134901</td>\n",
       "      <td>0.010469</td>\n",
       "      <td>0.013613</td>\n",
       "      <td>0.018271</td>\n",
       "    </tr>\n",
       "    <tr>\n",
       "      <th>8</th>\n",
       "      <td>3</td>\n",
       "      <td>0.089358</td>\n",
       "      <td>0.135691</td>\n",
       "      <td>0.206353</td>\n",
       "      <td>0.011170</td>\n",
       "      <td>0.014703</td>\n",
       "      <td>0.020023</td>\n",
       "    </tr>\n",
       "    <tr>\n",
       "      <th>9</th>\n",
       "      <td>4</td>\n",
       "      <td>0.116523</td>\n",
       "      <td>0.178302</td>\n",
       "      <td>0.265121</td>\n",
       "      <td>0.011896</td>\n",
       "      <td>0.015946</td>\n",
       "      <td>0.021622</td>\n",
       "    </tr>\n",
       "    <tr>\n",
       "      <th>10</th>\n",
       "      <td>5</td>\n",
       "      <td>NaN</td>\n",
       "      <td>NaN</td>\n",
       "      <td>0.332346</td>\n",
       "      <td>NaN</td>\n",
       "      <td>NaN</td>\n",
       "      <td>0.023381</td>\n",
       "    </tr>\n",
       "  </tbody>\n",
       "</table>\n",
       "</div>"
      ],
      "text/plain": [
       "    Ordnung    13,8cm   23,8 cm    33,8cm  13,8cm_u  23,8 cm_u  33,8cm_u\n",
       "1         1  0.027595  0.042103  0.066590  0.010125   0.012863  0.017097\n",
       "2         2  0.056844  0.090233  0.132302  0.010498   0.013613  0.018216\n",
       "3         3  0.084241  0.131589  0.201343  0.011048   0.014593  0.019890\n",
       "4         4  0.114832  0.172270  0.265121  0.011848   0.015761  0.021622\n",
       "5         5       NaN       NaN  0.330103       NaN        NaN  0.023326\n",
       "6         1  0.029318  0.044205  0.066590  0.010140   0.012885  0.017097\n",
       "7         2  0.055127  0.090233  0.134901  0.010469   0.013613  0.018271\n",
       "8         3  0.089358  0.135691  0.206353  0.011170   0.014703  0.020023\n",
       "9         4  0.116523  0.178302  0.265121  0.011896   0.015946  0.021622\n",
       "10        5       NaN       NaN  0.332346       NaN        NaN  0.023381"
      ]
     },
     "execution_count": 14,
     "metadata": {},
     "output_type": "execute_result"
    }
   ],
   "source": [
    "df2=df.copy()\n",
    "df2['13,8cm'],df2['23,8 cm'],df2['33,8cm'] = y1_v,y2_v,y3_v\n",
    "df2['13,8cm_u'],df2['23,8 cm_u'],df2['33,8cm_u'] = y1_u,y2_u,y3_u\n",
    "df2"
   ]
  },
  {
   "cell_type": "code",
   "execution_count": 15,
   "id": "intimate-hopkins",
   "metadata": {},
   "outputs": [],
   "source": [
    "def dropna_single_column(df,x_name,col_name,err_name):\n",
    "    '''\n",
    "    df=dataframe\n",
    "    x_name=column of value for x axis\n",
    "    col_name=values of y axis\n",
    "    err_name=errors of y axis\n",
    "    '''\n",
    "    df=df.dropna(subset=[col_name])\n",
    "    v=df[col_name]\n",
    "    u=df[err_name]\n",
    "    x=df[x_name]\n",
    "    return x,v,u"
   ]
  },
  {
   "cell_type": "code",
   "execution_count": 16,
   "id": "second-authority",
   "metadata": {},
   "outputs": [],
   "source": [
    "x1,y1_v,y1_u=dropna_single_column(df2,'Ordnung','13,8cm','13,8cm_u')\n",
    "x2,y2_v,y2_u=dropna_single_column(df2,'Ordnung','23,8 cm','23,8 cm_u')"
   ]
  },
  {
   "cell_type": "code",
   "execution_count": 17,
   "id": "casual-evanescence",
   "metadata": {},
   "outputs": [
    {
     "data": {
      "image/png": "[encoded data removed]",
      "text/plain": [
       "<Figure size 432x288 with 1 Axes>"
      ]
     },
     "metadata": {
      "needs_background": "light"
     },
     "output_type": "display_data"
    },
    {
     "name": "stdout",
     "output_type": "stream",
     "text": [
      "The slope = 0.02921866512665115, with uncertainty 0.0005952213523598547\n",
      "The intercept = -0.001335490436394977, with uncertainty 0.0015559607011239416\n"
     ]
    }
   ],
   "source": [
    "(slope1, d_slope1, inter1, d_inter1,x1,y1_fit) = data_fitting_error(linearFunc, x1, y1_v, y1_u, 'Blue_13,8cm', \n",
    "                            'Order of Minimum', 'sin(arctan(s/l))', 'Order of Minimum vs sin(arctan(s/l)) fit')\n",
    "print(f'The slope = {slope1}, with uncertainty {d_slope1}')\n",
    "print(f'The intercept = {inter1}, with uncertainty {d_inter1}')"
   ]
  },
  {
   "cell_type": "code",
   "execution_count": 18,
   "id": "sunrise-whale",
   "metadata": {},
   "outputs": [
    {
     "data": {
      "image/png": "[encoded data removed]",
      "text/plain": [
       "<Figure size 432x288 with 1 Axes>"
      ]
     },
     "metadata": {
      "needs_background": "light"
     },
     "output_type": "display_data"
    },
    {
     "name": "stdout",
     "output_type": "stream",
     "text": [
      "The slope = 0.044120257633227945, with uncertainty 0.0008308273631414695\n",
      "The intercept = 0.00029418449505121206, with uncertainty 0.00214064581724748\n"
     ]
    }
   ],
   "source": [
    "(slope2, d_slope2, inter2, d_inter2,x2,y2_fit) = data_fitting_error(linearFunc, x2, y2_v, y2_u, 'Blue_23,8cm', \n",
    "                            'Order of Minimum', 'sin(arctan(s/l))', 'Order of Minimum vs sin(arctan(s/l)) fit')\n",
    "print(f'The slope = {slope2}, with uncertainty {d_slope2}')\n",
    "print(f'The intercept = {inter2}, with uncertainty {d_inter2}')"
   ]
  },
  {
   "cell_type": "code",
   "execution_count": 19,
   "id": "dominican-equity",
   "metadata": {},
   "outputs": [
    {
     "data": {
      "image/png": "[encoded data removed]",
      "text/plain": [
       "<Figure size 432x288 with 1 Axes>"
      ]
     },
     "metadata": {
      "needs_background": "light"
     },
     "output_type": "display_data"
    },
    {
     "name": "stdout",
     "output_type": "stream",
     "text": [
      "The slope = 0.06624948056111968, with uncertainty 0.000586374097852894\n",
      "The intercept = 0.0013512362881678995, with uncertainty 0.0017735978918797814\n"
     ]
    }
   ],
   "source": [
    "(slope3, d_slope3, inter3, d_inter3,x3,y3_fit) = data_fitting_error(linearFunc, x, y3_v, y3_u, 'Blue_33,8cm', \n",
    "                            'Order of Minimum', 'sin(arctan(s/l))', 'Order of Minimum vs sin(arctan(s/l)) fit')\n",
    "print(f'The slope = {slope3}, with uncertainty {d_slope3}')\n",
    "print(f'The intercept = {inter3}, with uncertainty {d_inter3}')"
   ]
  },
  {
   "cell_type": "code",
   "execution_count": 20,
   "id": "illegal-operations",
   "metadata": {},
   "outputs": [
    {
     "data": {
      "image/png": "[encoded data removed]",
      "text/plain": [
       "<Figure size 432x288 with 1 Axes>"
      ]
     },
     "metadata": {
      "needs_background": "light"
     },
     "output_type": "display_data"
    }
   ],
   "source": [
    "plt.errorbar(xc, y1_cv, yerr=y1_cu, fmt='o', c='r', label='13,8cm')\n",
    "plt.errorbar(xc, y2_cv, yerr=y2_cu, fmt='o', c='g', label='23,8cm')\n",
    "plt.errorbar(xc, y3_cv, yerr=y3_cu, fmt='o', c='y', label='33,8cm')\n",
    "plt.plot(x1,y1_fit,c='r')\n",
    "plt.plot(x2,y2_fit,c='g')\n",
    "plt.plot(x,y3_fit,c='y')\n",
    "plt.xlabel('Order of Minimum')\n",
    "plt.ylabel('sin(a)')\n",
    "plt.legend()\n",
    "plt.savefig('Blue_Minimum_vs_sin_fit.png')"
   ]
  },
  {
   "cell_type": "code",
   "execution_count": 21,
   "id": "public-banks",
   "metadata": {},
   "outputs": [],
   "source": [
    "slope_arr_compl = np.array([ufloat(slope1 , d_slope1) , ufloat(slope2 , d_slope2) , ufloat(slope3 , d_slope3)])"
   ]
  },
  {
   "cell_type": "markdown",
   "id": "metropolitan-rolling",
   "metadata": {},
   "source": [
    "$$\\lambda = m \\cdot a $$\n",
    "mit m slope und a gitterkonstante"
   ]
  },
  {
   "cell_type": "code",
   "execution_count": 22,
   "id": "civilian-builder",
   "metadata": {},
   "outputs": [
    {
     "data": {
      "text/plain": [
       "465.2946777366626+/-4.036413201028469"
      ]
     },
     "execution_count": 22,
     "metadata": {},
     "output_type": "execute_result"
    }
   ],
   "source": [
    "a=ufloat(10,0.02) #in micrometer\n",
    "lam=a*slope_arr_compl\n",
    "lam_avg=np.mean(lam)*1000 #in nanometer\n",
    "lam_avg"
   ]
  },
  {
   "cell_type": "code",
   "execution_count": 24,
   "id": "radio-europe",
   "metadata": {},
   "outputs": [],
   "source": [
    "intercept_arr_compl = np.array([ufloat(inter1 , d_inter1) , ufloat(inter2 , d_inter2) , ufloat(inter3 , d_inter3)])"
   ]
  },
  {
   "cell_type": "code",
   "execution_count": 26,
   "id": "arctic-radius",
   "metadata": {},
   "outputs": [
    {
     "data": {
      "text/plain": [
       "array([-0.001335490436394977+/-0.0015559607011239416,\n",
       "       0.00029418449505121206+/-0.00214064581724748,\n",
       "       0.0013512362881678995+/-0.0017735978918797814], dtype=object)"
      ]
     },
     "execution_count": 26,
     "metadata": {},
     "output_type": "execute_result"
    }
   ],
   "source": [
    "intercept_arr_compl"
   ]
  },
  {
   "cell_type": "code",
   "execution_count": null,
   "id": "encouraging-camera",
   "metadata": {},
   "outputs": [],
   "source": []
  }
 ],
 "metadata": {
  "kernelspec": {
   "display_name": "Python 3",
   "language": "python",
   "name": "python3"
  },
  "language_info": {
   "codemirror_mode": {
    "name": "ipython",
    "version": 3
   },
   "file_extension": ".py",
   "mimetype": "text/x-python",
   "name": "python",
   "nbconvert_exporter": "python",
   "pygments_lexer": "ipython3",
   "version": "3.8.3"
  }
 },
 "nbformat": 4,
 "nbformat_minor": 5
}
