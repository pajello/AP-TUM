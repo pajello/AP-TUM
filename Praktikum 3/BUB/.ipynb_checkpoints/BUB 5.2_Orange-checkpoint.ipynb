{
 "cells": [
  {
   "cell_type": "code",
   "execution_count": 1,
   "id": "adjacent-worth",
   "metadata": {},
   "outputs": [],
   "source": [
    "from uncertainties import *\n",
    "from uncertainties import unumpy #need to import unumpy like this otherwise calling functions like unumpy.tan \n",
    "# will be difficult since they are called the same as in numpy\n",
    "import pandas as pd\n",
    "import numpy as np\n",
    "import matplotlib.pyplot as plt\n",
    "%matplotlib inline\n",
    "from pylab import *\n",
    "from scipy.optimize import curve_fit"
   ]
  },
  {
   "cell_type": "code",
   "execution_count": 2,
   "id": "compressed-layer",
   "metadata": {},
   "outputs": [],
   "source": [
    "def distance(col_name,err):\n",
    "    '''This function takes a given column and error and returns that as an earray filled with ufloats'''\n",
    "    arr = np.array([ufloat(df[col_name][1] , err + + 0.05*df[col_name][1])])\n",
    "    for i in range(2,len(df[col_name])+1):\n",
    "        x = [ufloat(df[col_name][i] , err + + 0.05*df[col_name][1])]\n",
    "        arr = np.append(arr,x)\n",
    "    return arr\n",
    "def linearFunc(x,intercept,slope):\n",
    "    y = intercept + slope * x\n",
    "    return y\n",
    "def data_fitting_error(linearFunc, freq,  Kmax, d_Kmax, Data, x_label, y_label, titlee):\n",
    "    '''freq= xdata\n",
    "        Kmax=ydata\n",
    "        d_Kmax=yerror\n",
    "        Data=name of dataset'''\n",
    "    a_fit,cov=curve_fit(linearFunc,freq,Kmax,sigma=d_Kmax)\n",
    "    inter = a_fit[0]\n",
    "    slope = a_fit[1]\n",
    "    d_inter = sqrt(cov[0][0])\n",
    "    d_slope = sqrt(cov[1][1])\n",
    "    # Create a graph showing the data.\n",
    "    errorbar(freq,Kmax,yerr=d_Kmax,fmt='r.',label=Data)\n",
    "\n",
    "    # Compute a best fit line from the fit intercept and slope.\n",
    "    Kmax_fit = inter + slope*freq\n",
    "\n",
    "    # Create a graph of the fit to the data. We just use the ordinary plot\n",
    "    # command for this.\n",
    "    plot(freq,Kmax_fit,label='Fit')\n",
    "\n",
    "    # Display a legend, label the x and y axes and title the graph.\n",
    "    legend()\n",
    "    xlabel(x_label)\n",
    "    ylabel(y_label)\n",
    "    title(titlee + ' ' + Data)\n",
    "\n",
    "    # Save the figure to a file\n",
    "    plt.savefig(Data+'.png')\n",
    "\n",
    "    # Show the graph in a new window on the users screen.\n",
    "    show()\n",
    "    return slope, d_slope, inter, d_inter,freq,Kmax_fit\n",
    "def dropna_single_column(df,x_name,col_name,err_name):\n",
    "    '''\n",
    "    df=dataframe\n",
    "    x_name=column of value for x axis\n",
    "    col_name=values of y axis\n",
    "    err_name=errors of y axis\n",
    "    '''\n",
    "    df=df.dropna(subset=[col_name])\n",
    "    v=df[col_name]\n",
    "    u=df[err_name]\n",
    "    x=df[x_name]\n",
    "    return x,v,u"
   ]
  },
  {
   "cell_type": "code",
   "execution_count": 3,
   "id": "patent-surge",
   "metadata": {},
   "outputs": [],
   "source": [
    "df = pd.read_excel (r'BUB_Orange.xlsx',sheet_name='blau')   #call dataframe df otherwise function distance wont work\n",
    "#write file name and path. \n",
    "#If in the same folder no file name needed\n",
    "df=df.drop([0],axis=0) #erste lehre zeile droppen"
   ]
  },
  {
   "cell_type": "code",
   "execution_count": 4,
   "id": "surprising-button",
   "metadata": {},
   "outputs": [
    {
     "data": {
      "text/html": [
       "<div>\n",
       "<style scoped>\n",
       "    .dataframe tbody tr th:only-of-type {\n",
       "        vertical-align: middle;\n",
       "    }\n",
       "\n",
       "    .dataframe tbody tr th {\n",
       "        vertical-align: top;\n",
       "    }\n",
       "\n",
       "    .dataframe thead th {\n",
       "        text-align: right;\n",
       "    }\n",
       "</style>\n",
       "<table border=\"1\" class=\"dataframe\">\n",
       "  <thead>\n",
       "    <tr style=\"text-align: right;\">\n",
       "      <th></th>\n",
       "      <th>Ordnung</th>\n",
       "      <th>13,8cm</th>\n",
       "      <th>23,8 cm</th>\n",
       "      <th>33,8cm</th>\n",
       "    </tr>\n",
       "  </thead>\n",
       "  <tbody>\n",
       "    <tr>\n",
       "      <th>1</th>\n",
       "      <td>1.0</td>\n",
       "      <td>2.1</td>\n",
       "      <td>2.7</td>\n",
       "      <td>3.3</td>\n",
       "    </tr>\n",
       "    <tr>\n",
       "      <th>2</th>\n",
       "      <td>2.0</td>\n",
       "      <td>4.3</td>\n",
       "      <td>5.6</td>\n",
       "      <td>6.8</td>\n",
       "    </tr>\n",
       "    <tr>\n",
       "      <th>3</th>\n",
       "      <td>3.0</td>\n",
       "      <td>6.6</td>\n",
       "      <td>8.5</td>\n",
       "      <td>10.2</td>\n",
       "    </tr>\n",
       "    <tr>\n",
       "      <th>4</th>\n",
       "      <td>4.0</td>\n",
       "      <td>8.9</td>\n",
       "      <td>11.3</td>\n",
       "      <td>13.8</td>\n",
       "    </tr>\n",
       "    <tr>\n",
       "      <th>5</th>\n",
       "      <td>5.0</td>\n",
       "      <td>11.3</td>\n",
       "      <td>14.4</td>\n",
       "      <td>17.4</td>\n",
       "    </tr>\n",
       "    <tr>\n",
       "      <th>6</th>\n",
       "      <td>6.0</td>\n",
       "      <td>13.9</td>\n",
       "      <td>17.7</td>\n",
       "      <td>NaN</td>\n",
       "    </tr>\n",
       "    <tr>\n",
       "      <th>7</th>\n",
       "      <td>7.0</td>\n",
       "      <td>16.7</td>\n",
       "      <td>NaN</td>\n",
       "      <td>NaN</td>\n",
       "    </tr>\n",
       "    <tr>\n",
       "      <th>8</th>\n",
       "      <td>-1.0</td>\n",
       "      <td>2.2</td>\n",
       "      <td>2.9</td>\n",
       "      <td>3.4</td>\n",
       "    </tr>\n",
       "    <tr>\n",
       "      <th>9</th>\n",
       "      <td>-2.0</td>\n",
       "      <td>4.4</td>\n",
       "      <td>5.7</td>\n",
       "      <td>6.8</td>\n",
       "    </tr>\n",
       "    <tr>\n",
       "      <th>10</th>\n",
       "      <td>-3.0</td>\n",
       "      <td>6.9</td>\n",
       "      <td>8.6</td>\n",
       "      <td>10.4</td>\n",
       "    </tr>\n",
       "    <tr>\n",
       "      <th>11</th>\n",
       "      <td>-4.0</td>\n",
       "      <td>9.2</td>\n",
       "      <td>11.6</td>\n",
       "      <td>13.9</td>\n",
       "    </tr>\n",
       "    <tr>\n",
       "      <th>12</th>\n",
       "      <td>-5.0</td>\n",
       "      <td>11.7</td>\n",
       "      <td>14.7</td>\n",
       "      <td>17.9</td>\n",
       "    </tr>\n",
       "    <tr>\n",
       "      <th>13</th>\n",
       "      <td>-6.0</td>\n",
       "      <td>14.3</td>\n",
       "      <td>18.2</td>\n",
       "      <td>NaN</td>\n",
       "    </tr>\n",
       "    <tr>\n",
       "      <th>14</th>\n",
       "      <td>-7.0</td>\n",
       "      <td>17.3</td>\n",
       "      <td>NaN</td>\n",
       "      <td>NaN</td>\n",
       "    </tr>\n",
       "  </tbody>\n",
       "</table>\n",
       "</div>"
      ],
      "text/plain": [
       "    Ordnung  13,8cm  23,8 cm  33,8cm\n",
       "1       1.0     2.1      2.7     3.3\n",
       "2       2.0     4.3      5.6     6.8\n",
       "3       3.0     6.6      8.5    10.2\n",
       "4       4.0     8.9     11.3    13.8\n",
       "5       5.0    11.3     14.4    17.4\n",
       "6       6.0    13.9     17.7     NaN\n",
       "7       7.0    16.7      NaN     NaN\n",
       "8      -1.0     2.2      2.9     3.4\n",
       "9      -2.0     4.4      5.7     6.8\n",
       "10     -3.0     6.9      8.6    10.4\n",
       "11     -4.0     9.2     11.6    13.9\n",
       "12     -5.0    11.7     14.7    17.9\n",
       "13     -6.0    14.3     18.2     NaN\n",
       "14     -7.0    17.3      NaN     NaN"
      ]
     },
     "execution_count": 4,
     "metadata": {},
     "output_type": "execute_result"
    }
   ],
   "source": [
    "df"
   ]
  },
  {
   "cell_type": "code",
   "execution_count": 5,
   "id": "constitutional-martin",
   "metadata": {},
   "outputs": [],
   "source": [
    "l0=71.26 #schirmposition\n",
    "l1=l0-13.3 #distance between grid and panel\n",
    "l2=l0-23.8\n",
    "l3=l0-33.8\n",
    "l1_u=ufloat(l1,0.5+0.05*l1) #5mm fehler plus 5 prozent\n",
    "l2_u=ufloat(l2,0.5+0.05*l2)\n",
    "l3_u=ufloat(l3,0.5+0.05*l3)"
   ]
  },
  {
   "cell_type": "code",
   "execution_count": 6,
   "id": "concrete-celebrity",
   "metadata": {},
   "outputs": [],
   "source": [
    "df['Ordnung'] = df['Ordnung'].apply(lambda x: np.abs(x)) #minus zeichen bei der Ordnung wegmachen\n",
    "df['Ordnung'] = df['Ordnung'].astype(int) #Ordung in integer transformieren\n",
    "\n",
    "s_13=distance('13,8cm',0.5)\n",
    "s_23=distance('23,8 cm',0.5)\n",
    "s_33=distance('33,8cm',0.5)\n",
    "\n",
    "tan1=s_13/l1_u\n",
    "tan2=s_23/l2_u\n",
    "tan3=s_33/l3_u\n",
    "\n",
    "sin1=unumpy.sin(unumpy.arctan(tan1)) #y axis of graph with sin(a)\n",
    "sin2=unumpy.sin(unumpy.arctan(tan2))\n",
    "sin3=unumpy.sin(unumpy.arctan(tan3))\n",
    "sin3\n",
    "\n",
    "x=df['Ordnung'].apply(lambda x: abs(x)) #x axis of graph\n",
    "xc=x\n",
    "\n",
    "y1_v, y1_u = [sin1[i].nominal_value for i in range(len(sin1))] , [sin1[i].s for i in range(len(sin1))]\n",
    "y2_v, y2_u = [sin2[i].nominal_value for i in range(len(sin2))] , [sin2[i].s for i in range(len(sin2))]\n",
    "y3_v, y3_u = [sin3[i].nominal_value for i in range(len(sin3))] , [sin3[i].s for i in range(len(sin3))]\n",
    "y1_cv,y1_cu = y1_v, y1_u #copies of original data,useful for later\n",
    "y2_cv,y2_cu = y2_v, y2_u\n",
    "y3_cv,y3_cu = y3_v, y3_u"
   ]
  },
  {
   "cell_type": "code",
   "execution_count": 7,
   "id": "orange-capacity",
   "metadata": {},
   "outputs": [
    {
     "data": {
      "image/png": "[encoded data removed]",
      "text/plain": [
       "<Figure size 432x288 with 1 Axes>"
      ]
     },
     "metadata": {
      "needs_background": "light"
     },
     "output_type": "display_data"
    }
   ],
   "source": [
    "plt.errorbar(x, y1_v, yerr=y1_u, fmt='o', c='r', label='13,8cm')\n",
    "plt.errorbar(x, y2_v, yerr=y2_u, fmt='o', c='g', label='23,8cm')\n",
    "plt.errorbar(x, y3_v, yerr=y3_u, fmt='o', c='y', label='33,8cm')\n",
    "plt.xlabel('Order of Minimum')\n",
    "plt.ylabel('sin(a)')\n",
    "plt.legend()\n",
    "plt.savefig('Orange_Minimum_vs_sin.png')"
   ]
  },
  {
   "cell_type": "code",
   "execution_count": 8,
   "id": "developed-republic",
   "metadata": {},
   "outputs": [],
   "source": [
    "df2=df.copy()\n",
    "df2['13,8cm'],df2['23,8 cm'],df2['33,8cm'] = y1_v,y2_v,y3_v\n",
    "df2['13,8cm_u'],df2['23,8 cm_u'],df2['33,8cm_u'] = y1_u,y2_u,y3_u\n",
    "x2,y2_v,y2_u=dropna_single_column(df2,'Ordnung','23,8 cm','23,8 cm_u')\n",
    "x3,y3_v,y3_u=dropna_single_column(df2,'Ordnung','33,8cm','33,8cm_u')"
   ]
  },
  {
   "cell_type": "code",
   "execution_count": 9,
   "id": "regulation-clothing",
   "metadata": {},
   "outputs": [
    {
     "data": {
      "image/png": "[encoded data removed]",
      "text/plain": [
       "<Figure size 432x288 with 1 Axes>"
      ]
     },
     "metadata": {
      "needs_background": "light"
     },
     "output_type": "display_data"
    },
    {
     "name": "stdout",
     "output_type": "stream",
     "text": [
      "The slope = 0.04026463190519013, with uncertainty 0.00045831250936919835\n",
      "The intercept = -0.004887976566811342, with uncertainty 0.001757637272524434\n"
     ]
    }
   ],
   "source": [
    "(slope1, d_slope1, inter1, d_inter1,x1,y1_fit) = data_fitting_error(linearFunc, x, y1_v, y1_u, 'Orange_13,8cm', \n",
    "                            'Order of Minimum', 'sin(arctan(s/l))', 'Order of Minimum vs sin(arctan(s/l)) fit')\n",
    "print(f'The slope = {slope1}, with uncertainty {d_slope1}')\n",
    "print(f'The intercept = {inter1}, with uncertainty {d_inter1}')"
   ]
  },
  {
   "cell_type": "code",
   "execution_count": 10,
   "id": "republican-premium",
   "metadata": {},
   "outputs": [
    {
     "data": {
      "image/png": "[encoded data removed]",
      "text/plain": [
       "<Figure size 432x288 with 1 Axes>"
      ]
     },
     "metadata": {
      "needs_background": "light"
     },
     "output_type": "display_data"
    },
    {
     "name": "stdout",
     "output_type": "stream",
     "text": [
      "The slope = 0.05872187853490177, with uncertainty 0.00046459064568451873\n",
      "The intercept = 0.0004210804621388975, with uncertainty 0.001578656434144232\n"
     ]
    }
   ],
   "source": [
    "(slope2, d_slope2, inter2, d_inter2,x2,y2_fit) = data_fitting_error(linearFunc, x2, y2_v, y2_u, 'Orange_23,8cm', \n",
    "                            'Order of Minimum', 'sin(arctan(s/l))', 'Order of Minimum vs sin(arctan(s/l)) fit')\n",
    "print(f'The slope = {slope2}, with uncertainty {d_slope2}')\n",
    "print(f'The intercept = {inter2}, with uncertainty {d_inter2}')"
   ]
  },
  {
   "cell_type": "code",
   "execution_count": 11,
   "id": "printable-hanging",
   "metadata": {},
   "outputs": [
    {
     "data": {
      "image/png": "[encoded data removed]",
      "text/plain": [
       "<Figure size 432x288 with 1 Axes>"
      ]
     },
     "metadata": {
      "needs_background": "light"
     },
     "output_type": "display_data"
    },
    {
     "name": "stdout",
     "output_type": "stream",
     "text": [
      "The slope = 0.08465035024944516, with uncertainty 0.0009502919532095104\n",
      "The intercept = 0.0072141688177044016, with uncertainty 0.0028538899789581594\n"
     ]
    }
   ],
   "source": [
    "(slope3, d_slope3, inter3, d_inter3,x3,y3_fit) = data_fitting_error(linearFunc, x3, y3_v, y3_u, 'Orange_33,8cm', \n",
    "                            'Order of Minimum', 'sin(arctan(s/l))', 'Order of Minimum vs sin(arctan(s/l)) fit')\n",
    "print(f'The slope = {slope3}, with uncertainty {d_slope3}')\n",
    "print(f'The intercept = {inter3}, with uncertainty {d_inter3}')"
   ]
  },
  {
   "cell_type": "code",
   "execution_count": 12,
   "id": "laden-genius",
   "metadata": {},
   "outputs": [
    {
     "data": {
      "image/png": "[encoded data removed]",
      "text/plain": [
       "<Figure size 432x288 with 1 Axes>"
      ]
     },
     "metadata": {
      "needs_background": "light"
     },
     "output_type": "display_data"
    }
   ],
   "source": [
    "plt.errorbar(xc, y1_cv, yerr=y1_cu, fmt='o', c='r', label='13,8cm')\n",
    "plt.errorbar(xc, y2_cv, yerr=y2_cu, fmt='o', c='g', label='23,8cm')\n",
    "plt.errorbar(xc, y3_cv, yerr=y3_cu, fmt='o', c='y', label='33,8cm')\n",
    "plt.plot(x,y1_fit,c='r')\n",
    "plt.plot(x2,y2_fit,c='g')\n",
    "plt.plot(x3,y3_fit,c='y')\n",
    "plt.xlabel('Order of Minimum')\n",
    "plt.ylabel('sin(a)')\n",
    "plt.legend()\n",
    "plt.savefig('Orange_Minimum_vs_sin_fit.png')"
   ]
  },
  {
   "cell_type": "code",
   "execution_count": 13,
   "id": "soviet-moses",
   "metadata": {},
   "outputs": [],
   "source": [
    "slope_arr_compl = np.array([ufloat(slope1 , d_slope1) , ufloat(slope2 , d_slope2) , ufloat(slope3 , d_slope3)])"
   ]
  },
  {
   "cell_type": "markdown",
   "id": "speaking-genetics",
   "metadata": {},
   "source": [
    "$$\\lambda = m \\cdot a $$\n",
    "mit m slope und a gitterkonstante"
   ]
  },
  {
   "cell_type": "code",
   "execution_count": 14,
   "id": "random-celtic",
   "metadata": {},
   "outputs": [],
   "source": [
    "a=ufloat(10,0.02) #in micrometer\n",
    "lam=a*slope_arr_compl\n",
    "lam_avg=np.mean(lam)*1000 #in nanometer"
   ]
  },
  {
   "cell_type": "code",
   "execution_count": 15,
   "id": "opposite-sustainability",
   "metadata": {},
   "outputs": [
    {
     "data": {
      "text/plain": [
       "612.1228689651235+/-4.032974649412335"
      ]
     },
     "execution_count": 15,
     "metadata": {},
     "output_type": "execute_result"
    }
   ],
   "source": [
    "lam_avg"
   ]
  },
  {
   "cell_type": "code",
   "execution_count": 20,
   "id": "pressing-collar",
   "metadata": {},
   "outputs": [
    {
     "name": "stdout",
     "output_type": "stream",
     "text": [
      "[40.264631905190136+/-0.4583125093691984\n",
      " 58.72187853490177+/-0.46459064568451874\n",
      " 84.65035024944515+/-0.9502919532095103]\n",
      "61.2+/-0.4\n"
     ]
    }
   ],
   "source": [
    "print(slope_arr_compl*1000)\n",
    "print(lam_avg/a)"
   ]
  },
  {
   "cell_type": "code",
   "execution_count": 17,
   "id": "intimate-timothy",
   "metadata": {},
   "outputs": [
    {
     "data": {
      "text/plain": [
       "array([-0.004887976566811342+/-0.001757637272524434,\n",
       "       0.0004210804621388975+/-0.001578656434144232,\n",
       "       0.0072141688177044016+/-0.0028538899789581594], dtype=object)"
      ]
     },
     "execution_count": 17,
     "metadata": {},
     "output_type": "execute_result"
    }
   ],
   "source": [
    "intercept_arr_compl = np.array([ufloat(inter1 , d_inter1) , ufloat(inter2 , d_inter2) , ufloat(inter3 , d_inter3)])\n",
    "intercept_arr_compl"
   ]
  },
  {
   "cell_type": "code",
   "execution_count": null,
   "id": "superior-automation",
   "metadata": {},
   "outputs": [],
   "source": []
  }
 ],
 "metadata": {
  "kernelspec": {
   "display_name": "Python 3",
   "language": "python",
   "name": "python3"
  },
  "language_info": {
   "codemirror_mode": {
    "name": "ipython",
    "version": 3
   },
   "file_extension": ".py",
   "mimetype": "text/x-python",
   "name": "python",
   "nbconvert_exporter": "python",
   "pygments_lexer": "ipython3",
   "version": "3.8.3"
  }
 },
 "nbformat": 4,
 "nbformat_minor": 5
}
