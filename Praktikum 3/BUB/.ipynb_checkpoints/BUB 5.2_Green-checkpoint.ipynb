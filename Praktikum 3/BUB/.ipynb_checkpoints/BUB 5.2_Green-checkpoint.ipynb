{
 "cells": [
  {
   "cell_type": "code",
   "execution_count": 1,
   "id": "conscious-miniature",
   "metadata": {},
   "outputs": [],
   "source": [
    "from uncertainties import *\n",
    "from uncertainties import unumpy #need to import unumpy like this otherwise calling functions like unumpy.tan \n",
    "# will be difficult since they are called the same as in numpy\n",
    "import pandas as pd\n",
    "import numpy as np\n",
    "import matplotlib.pyplot as plt\n",
    "%matplotlib inline\n",
    "from pylab import *\n",
    "from scipy.optimize import curve_fit"
   ]
  },
  {
   "cell_type": "code",
   "execution_count": 2,
   "id": "registered-intake",
   "metadata": {},
   "outputs": [],
   "source": [
    "def distance(col_name,err):\n",
    "    '''This function takes a given column and error and returns that as an earray filled with ufloats'''\n",
    "    arr = np.array([ufloat(df[col_name][1] , err + + 0.05*df[col_name][1])])\n",
    "    for i in range(2,len(df[col_name])+1):\n",
    "        x = [ufloat(df[col_name][i] , err + + 0.05*df[col_name][1])]\n",
    "        arr = np.append(arr,x)\n",
    "    return arr\n",
    "def linearFunc(x,intercept,slope):\n",
    "    y = intercept + slope * x\n",
    "    return y\n",
    "def data_fitting_error(linearFunc, freq,  Kmax, d_Kmax, Data, x_label, y_label, titlee):\n",
    "    '''freq= xdata\n",
    "        Kmax=ydata\n",
    "        d_Kmax=yerror\n",
    "        Data=name of dataset'''\n",
    "    a_fit,cov=curve_fit(linearFunc,freq,Kmax,sigma=d_Kmax)\n",
    "    inter = a_fit[0]\n",
    "    slope = a_fit[1]\n",
    "    d_inter = sqrt(cov[0][0])\n",
    "    d_slope = sqrt(cov[1][1])\n",
    "    # Create a graph showing the data.\n",
    "    errorbar(freq,Kmax,yerr=d_Kmax,fmt='r.',label=Data)\n",
    "\n",
    "    # Compute a best fit line from the fit intercept and slope.\n",
    "    Kmax_fit = inter + slope*freq\n",
    "\n",
    "    # Create a graph of the fit to the data. We just use the ordinary plot\n",
    "    # command for this.\n",
    "    plot(freq,Kmax_fit,label='Fit')\n",
    "\n",
    "    # Display a legend, label the x and y axes and title the graph.\n",
    "    legend()\n",
    "    xlabel(x_label)\n",
    "    ylabel(y_label)\n",
    "    title(titlee + ' ' + Data)\n",
    "\n",
    "    # Save the figure to a file\n",
    "    plt.savefig(Data+'.png')\n",
    "\n",
    "    # Show the graph in a new window on the users screen.\n",
    "    show()\n",
    "    return slope, d_slope, inter, d_inter,freq,Kmax_fit\n",
    "def dropna_single_column(df,x_name,col_name,err_name):\n",
    "    '''\n",
    "    df=dataframe\n",
    "    x_name=column of value for x axis\n",
    "    col_name=values of y axis\n",
    "    err_name=errors of y axis\n",
    "    '''\n",
    "    df=df.dropna(subset=[col_name])\n",
    "    v=df[col_name]\n",
    "    u=df[err_name]\n",
    "    x=df[x_name]\n",
    "    return x,v,u"
   ]
  },
  {
   "cell_type": "code",
   "execution_count": 3,
   "id": "tight-occupation",
   "metadata": {},
   "outputs": [],
   "source": [
    "df = pd.read_excel (r'BUB_Green.xlsx',sheet_name='blau')   #call dataframe df otherwise function distance wont work\n",
    "#write file name and path. \n",
    "#If in the same folder no file name needed\n",
    "df=df.drop([0],axis=0) #erste lehre zeile droppen\n"
   ]
  },
  {
   "cell_type": "code",
   "execution_count": 4,
   "id": "alleged-trail",
   "metadata": {},
   "outputs": [
    {
     "data": {
      "text/html": [
       "<div>\n",
       "<style scoped>\n",
       "    .dataframe tbody tr th:only-of-type {\n",
       "        vertical-align: middle;\n",
       "    }\n",
       "\n",
       "    .dataframe tbody tr th {\n",
       "        vertical-align: top;\n",
       "    }\n",
       "\n",
       "    .dataframe thead th {\n",
       "        text-align: right;\n",
       "    }\n",
       "</style>\n",
       "<table border=\"1\" class=\"dataframe\">\n",
       "  <thead>\n",
       "    <tr style=\"text-align: right;\">\n",
       "      <th></th>\n",
       "      <th>Ordnung</th>\n",
       "      <th>13,8cm</th>\n",
       "      <th>23,8 cm</th>\n",
       "      <th>33,8cm</th>\n",
       "    </tr>\n",
       "  </thead>\n",
       "  <tbody>\n",
       "    <tr>\n",
       "      <th>1</th>\n",
       "      <td>1.0</td>\n",
       "      <td>2.3</td>\n",
       "      <td>2.7</td>\n",
       "      <td>3.1</td>\n",
       "    </tr>\n",
       "    <tr>\n",
       "      <th>2</th>\n",
       "      <td>2.0</td>\n",
       "      <td>4.3</td>\n",
       "      <td>5.3</td>\n",
       "      <td>6.3</td>\n",
       "    </tr>\n",
       "    <tr>\n",
       "      <th>3</th>\n",
       "      <td>3.0</td>\n",
       "      <td>6.4</td>\n",
       "      <td>8.1</td>\n",
       "      <td>9.6</td>\n",
       "    </tr>\n",
       "    <tr>\n",
       "      <th>4</th>\n",
       "      <td>4.0</td>\n",
       "      <td>8.6</td>\n",
       "      <td>10.9</td>\n",
       "      <td>13.0</td>\n",
       "    </tr>\n",
       "    <tr>\n",
       "      <th>5</th>\n",
       "      <td>5.0</td>\n",
       "      <td>11.0</td>\n",
       "      <td>13.8</td>\n",
       "      <td>14.4</td>\n",
       "    </tr>\n",
       "    <tr>\n",
       "      <th>6</th>\n",
       "      <td>6.0</td>\n",
       "      <td>13.3</td>\n",
       "      <td>17.0</td>\n",
       "      <td>20.0</td>\n",
       "    </tr>\n",
       "    <tr>\n",
       "      <th>7</th>\n",
       "      <td>7.0</td>\n",
       "      <td>16.1</td>\n",
       "      <td>NaN</td>\n",
       "      <td>NaN</td>\n",
       "    </tr>\n",
       "    <tr>\n",
       "      <th>8</th>\n",
       "      <td>-1.0</td>\n",
       "      <td>2.0</td>\n",
       "      <td>2.6</td>\n",
       "      <td>3.2</td>\n",
       "    </tr>\n",
       "    <tr>\n",
       "      <th>9</th>\n",
       "      <td>-2.0</td>\n",
       "      <td>4.1</td>\n",
       "      <td>5.3</td>\n",
       "      <td>6.4</td>\n",
       "    </tr>\n",
       "    <tr>\n",
       "      <th>10</th>\n",
       "      <td>-3.0</td>\n",
       "      <td>6.3</td>\n",
       "      <td>8.0</td>\n",
       "      <td>9.7</td>\n",
       "    </tr>\n",
       "    <tr>\n",
       "      <th>11</th>\n",
       "      <td>-4.0</td>\n",
       "      <td>8.4</td>\n",
       "      <td>10.7</td>\n",
       "      <td>13.1</td>\n",
       "    </tr>\n",
       "    <tr>\n",
       "      <th>12</th>\n",
       "      <td>-5.0</td>\n",
       "      <td>10.7</td>\n",
       "      <td>13.5</td>\n",
       "      <td>16.8</td>\n",
       "    </tr>\n",
       "    <tr>\n",
       "      <th>13</th>\n",
       "      <td>-6.0</td>\n",
       "      <td>13.0</td>\n",
       "      <td>16.4</td>\n",
       "      <td>20.6</td>\n",
       "    </tr>\n",
       "    <tr>\n",
       "      <th>14</th>\n",
       "      <td>-7.0</td>\n",
       "      <td>15.3</td>\n",
       "      <td>NaN</td>\n",
       "      <td>NaN</td>\n",
       "    </tr>\n",
       "  </tbody>\n",
       "</table>\n",
       "</div>"
      ],
      "text/plain": [
       "    Ordnung  13,8cm  23,8 cm  33,8cm\n",
       "1       1.0     2.3      2.7     3.1\n",
       "2       2.0     4.3      5.3     6.3\n",
       "3       3.0     6.4      8.1     9.6\n",
       "4       4.0     8.6     10.9    13.0\n",
       "5       5.0    11.0     13.8    14.4\n",
       "6       6.0    13.3     17.0    20.0\n",
       "7       7.0    16.1      NaN     NaN\n",
       "8      -1.0     2.0      2.6     3.2\n",
       "9      -2.0     4.1      5.3     6.4\n",
       "10     -3.0     6.3      8.0     9.7\n",
       "11     -4.0     8.4     10.7    13.1\n",
       "12     -5.0    10.7     13.5    16.8\n",
       "13     -6.0    13.0     16.4    20.6\n",
       "14     -7.0    15.3      NaN     NaN"
      ]
     },
     "execution_count": 4,
     "metadata": {},
     "output_type": "execute_result"
    }
   ],
   "source": [
    "df"
   ]
  },
  {
   "cell_type": "code",
   "execution_count": 5,
   "id": "dependent-promotion",
   "metadata": {},
   "outputs": [],
   "source": [
    "l0=71.26 #schirmposition\n",
    "l1=l0-13.3 #distance between grid and panel\n",
    "l2=l0-23.8\n",
    "l3=l0-33.8\n",
    "l1_u=ufloat(l1,0.5+0.05*l1) #5mm fehler plus 5 prozent\n",
    "l2_u=ufloat(l2,0.5+0.05*l2)\n",
    "l3_u=ufloat(l3,0.5+0.05*l3)"
   ]
  },
  {
   "cell_type": "code",
   "execution_count": 6,
   "id": "compliant-burns",
   "metadata": {},
   "outputs": [],
   "source": [
    "df['Ordnung'] = df['Ordnung'].apply(lambda x: np.abs(x)) #minus zeichen bei der Ordnung wegmachen\n",
    "df['Ordnung'] = df['Ordnung'].astype(int) #Ordung in integer transformieren\n",
    "\n",
    "s_13=distance('13,8cm',0.5)\n",
    "s_23=distance('23,8 cm',0.5)\n",
    "s_33=distance('33,8cm',0.5)\n",
    "\n",
    "tan1=s_13/l1_u\n",
    "tan2=s_23/l2_u\n",
    "tan3=s_33/l3_u\n",
    "\n",
    "sin1=unumpy.sin(unumpy.arctan(tan1)) #y axis of graph with sin(a)\n",
    "sin2=unumpy.sin(unumpy.arctan(tan2))\n",
    "sin3=unumpy.sin(unumpy.arctan(tan3))\n",
    "sin3\n",
    "\n",
    "x=df['Ordnung'].apply(lambda x: abs(x)) #x axis of graph\n",
    "xc=x\n",
    "\n",
    "y1_v, y1_u = [sin1[i].nominal_value for i in range(len(sin1))] , [sin1[i].s for i in range(len(sin1))]\n",
    "y2_v, y2_u = [sin2[i].nominal_value for i in range(len(sin2))] , [sin2[i].s for i in range(len(sin2))]\n",
    "y3_v, y3_u = [sin3[i].nominal_value for i in range(len(sin3))] , [sin3[i].s for i in range(len(sin3))]\n",
    "y1_cv,y1_cu = y1_v, y1_u #copies of original data,useful for later\n",
    "y2_cv,y2_cu = y2_v, y2_u\n",
    "y3_cv,y3_cu = y3_v, y3_u"
   ]
  },
  {
   "cell_type": "code",
   "execution_count": 7,
   "id": "attempted-ranch",
   "metadata": {},
   "outputs": [
    {
     "data": {
      "image/png": "[encoded data removed]",
      "text/plain": [
       "<Figure size 432x288 with 1 Axes>"
      ]
     },
     "metadata": {
      "needs_background": "light"
     },
     "output_type": "display_data"
    }
   ],
   "source": [
    "plt.errorbar(x, y1_v, yerr=y1_u, fmt='o', c='r', label='13,8cm')\n",
    "plt.errorbar(x, y2_v, yerr=y2_u, fmt='o', c='g', label='23,8cm')\n",
    "plt.errorbar(x, y3_v, yerr=y3_u, fmt='o', c='y', label='33,8cm')\n",
    "plt.xlabel('Order of Minimum')\n",
    "plt.ylabel('sin(a)')\n",
    "plt.legend()\n",
    "plt.savefig('Green_Minimum_vs_sin.png')"
   ]
  },
  {
   "cell_type": "code",
   "execution_count": 8,
   "id": "charged-ticket",
   "metadata": {},
   "outputs": [],
   "source": [
    "df2=df.copy()\n",
    "df2['13,8cm'],df2['23,8 cm'],df2['33,8cm'] = y1_v,y2_v,y3_v\n",
    "df2['13,8cm_u'],df2['23,8 cm_u'],df2['33,8cm_u'] = y1_u,y2_u,y3_u\n",
    "x2,y2_v,y2_u=dropna_single_column(df2,'Ordnung','23,8 cm','23,8 cm_u')\n",
    "x3,y3_v,y3_u=dropna_single_column(df2,'Ordnung','33,8cm','33,8cm_u')"
   ]
  },
  {
   "cell_type": "code",
   "execution_count": 9,
   "id": "thick-destiny",
   "metadata": {},
   "outputs": [
    {
     "data": {
      "image/png": "[encoded data removed]",
      "text/plain": [
       "<Figure size 432x288 with 1 Axes>"
      ]
     },
     "metadata": {
      "needs_background": "light"
     },
     "output_type": "display_data"
    },
    {
     "name": "stdout",
     "output_type": "stream",
     "text": [
      "The slope = 0.03716554420134506, with uncertainty 0.00044473894395969136\n",
      "The intercept = -0.001636311462312773, with uncertainty 0.001732535512602425\n"
     ]
    }
   ],
   "source": [
    "(slope1, d_slope1, inter1, d_inter1,x1,y1_fit) = data_fitting_error(linearFunc, x, y1_v, y1_u, 'Green_13,8cm', \n",
    "                            'Order of Minimum', 'sin(arctan(s/l))', 'Order of Minimum vs sin(arctan(s/l)) fit')\n",
    "print(f'The slope = {slope1}, with uncertainty {d_slope1}')\n",
    "print(f'The intercept = {inter1}, with uncertainty {d_inter1}')"
   ]
  },
  {
   "cell_type": "code",
   "execution_count": 10,
   "id": "cloudy-vision",
   "metadata": {},
   "outputs": [
    {
     "data": {
      "image/png": "[encoded data removed]",
      "text/plain": [
       "<Figure size 432x288 with 1 Axes>"
      ]
     },
     "metadata": {
      "needs_background": "light"
     },
     "output_type": "display_data"
    },
    {
     "name": "stdout",
     "output_type": "stream",
     "text": [
      "The slope = 0.05522032529658578, with uncertainty 0.00042833964807718054\n",
      "The intercept = 0.0007481149625071848, with uncertainty 0.0014665722874811992\n"
     ]
    }
   ],
   "source": [
    "(slope2, d_slope2, inter2, d_inter2,x2,y2_fit) = data_fitting_error(linearFunc, x2, y2_v, y2_u, 'Green_23,8cm', \n",
    "                            'Order of Minimum', 'sin(arctan(s/l))', 'Order of Minimum vs sin(arctan(s/l)) fit')\n",
    "print(f'The slope = {slope2}, with uncertainty {d_slope2}')\n",
    "print(f'The intercept = {inter2}, with uncertainty {d_inter2}')"
   ]
  },
  {
   "cell_type": "code",
   "execution_count": 11,
   "id": "accompanied-joining",
   "metadata": {},
   "outputs": [
    {
     "data": {
      "image/png": "[encoded data removed]",
      "text/plain": [
       "<Figure size 432x288 with 1 Axes>"
      ]
     },
     "metadata": {
      "needs_background": "light"
     },
     "output_type": "display_data"
    },
    {
     "name": "stdout",
     "output_type": "stream",
     "text": [
      "The slope = 0.0772855050216573, with uncertainty 0.0021833743706215327\n",
      "The intercept = 0.01093255334196203, with uncertainty 0.007626029501621777\n"
     ]
    }
   ],
   "source": [
    "(slope3, d_slope3, inter3, d_inter3,x3,y3_fit) = data_fitting_error(linearFunc, x3, y3_v, y3_u, 'Green_33,8cm', \n",
    "                            'Order of Minimum', 'sin(arctan(s/l))', 'Order of Minimum vs sin(arctan(s/l)) fit')\n",
    "print(f'The slope = {slope3}, with uncertainty {d_slope3}')\n",
    "print(f'The intercept = {inter3}, with uncertainty {d_inter3}')"
   ]
  },
  {
   "cell_type": "code",
   "execution_count": 12,
   "id": "three-finding",
   "metadata": {
    "scrolled": true
   },
   "outputs": [
    {
     "data": {
      "image/png": "[encoded data removed]",
      "text/plain": [
       "<Figure size 432x288 with 1 Axes>"
      ]
     },
     "metadata": {
      "needs_background": "light"
     },
     "output_type": "display_data"
    }
   ],
   "source": [
    "plt.errorbar(xc, y1_cv, yerr=y1_cu, fmt='o', c='r', label='13,8cm')\n",
    "plt.errorbar(xc, y2_cv, yerr=y2_cu, fmt='o', c='g', label='23,8cm')\n",
    "plt.errorbar(xc, y3_cv, yerr=y3_cu, fmt='o', c='y', label='33,8cm')\n",
    "plt.plot(x,y1_fit,c='r')\n",
    "plt.plot(x2,y2_fit,c='g')\n",
    "plt.plot(x3,y3_fit,c='y')\n",
    "plt.xlabel('Order of Minimum')\n",
    "plt.ylabel('sin(a)')\n",
    "plt.legend()\n",
    "plt.savefig('Green_Minimum_vs_sin_fit.png')"
   ]
  },
  {
   "cell_type": "code",
   "execution_count": 13,
   "id": "resistant-austria",
   "metadata": {},
   "outputs": [],
   "source": [
    "slope_arr_compl = np.array([ufloat(slope1 , d_slope1) , ufloat(slope2 , d_slope2) , ufloat(slope3 , d_slope3)])"
   ]
  },
  {
   "cell_type": "markdown",
   "id": "orange-motorcycle",
   "metadata": {},
   "source": [
    "$$\\lambda = m \\cdot a $$\n",
    "mit m slope und a gitterkonstante"
   ]
  },
  {
   "cell_type": "code",
   "execution_count": 14,
   "id": "allied-bangkok",
   "metadata": {},
   "outputs": [],
   "source": [
    "a=ufloat(10,0.02) #in micrometer\n",
    "lam=a*slope_arr_compl\n",
    "lam_avg=np.mean(lam)*1000 #in nanometer"
   ]
  },
  {
   "cell_type": "code",
   "execution_count": 15,
   "id": "pregnant-archives",
   "metadata": {},
   "outputs": [
    {
     "data": {
      "text/plain": [
       "565.5712483986272+/-7.647472150253821"
      ]
     },
     "execution_count": 15,
     "metadata": {},
     "output_type": "execute_result"
    }
   ],
   "source": [
    "lam_avg"
   ]
  },
  {
   "cell_type": "code",
   "execution_count": 20,
   "id": "local-charity",
   "metadata": {},
   "outputs": [
    {
     "name": "stdout",
     "output_type": "stream",
     "text": [
      "[37.165544201345064+/-0.4447389439596914\n",
      " 55.22032529658578+/-0.42833964807718056\n",
      " 77.2855050216573+/-2.1833743706215327]\n"
     ]
    }
   ],
   "source": [
    "print(slope_arr_compl*1000)"
   ]
  },
  {
   "cell_type": "code",
   "execution_count": 21,
   "id": "measured-crash",
   "metadata": {},
   "outputs": [
    {
     "name": "stdout",
     "output_type": "stream",
     "text": [
      "56.6+/-0.8\n"
     ]
    }
   ],
   "source": [
    "print(lam_avg/a)"
   ]
  },
  {
   "cell_type": "code",
   "execution_count": 17,
   "id": "american-resident",
   "metadata": {},
   "outputs": [
    {
     "data": {
      "text/plain": [
       "array([-0.001636311462312773+/-0.001732535512602425,\n",
       "       0.0007481149625071848+/-0.0014665722874811992,\n",
       "       0.01093255334196203+/-0.007626029501621777], dtype=object)"
      ]
     },
     "execution_count": 17,
     "metadata": {},
     "output_type": "execute_result"
    }
   ],
   "source": [
    "intercept_arr_compl = np.array([ufloat(inter1 , d_inter1) , ufloat(inter2 , d_inter2) , ufloat(inter3 , d_inter3)])\n",
    "intercept_arr_compl"
   ]
  },
  {
   "cell_type": "code",
   "execution_count": null,
   "id": "ceramic-replication",
   "metadata": {},
   "outputs": [],
   "source": []
  }
 ],
 "metadata": {
  "kernelspec": {
   "display_name": "Python 3",
   "language": "python",
   "name": "python3"
  },
  "language_info": {
   "codemirror_mode": {
    "name": "ipython",
    "version": 3
   },
   "file_extension": ".py",
   "mimetype": "text/x-python",
   "name": "python",
   "nbconvert_exporter": "python",
   "pygments_lexer": "ipython3",
   "version": "3.8.3"
  }
 },
 "nbformat": 4,
 "nbformat_minor": 5
}
