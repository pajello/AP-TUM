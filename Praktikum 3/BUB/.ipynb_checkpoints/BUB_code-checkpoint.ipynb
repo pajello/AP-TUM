{
 "cells": [
  {
   "cell_type": "code",
   "execution_count": 1,
   "id": "genetic-subdivision",
   "metadata": {},
   "outputs": [],
   "source": [
    "from uncertainties import *\n",
    "import pandas as pd\n",
    "import numpy as np\n",
    "import matplotlib.pyplot as plt\n",
    "%matplotlib inline"
   ]
  },
  {
   "cell_type": "markdown",
   "id": "signal-export",
   "metadata": {},
   "source": [
    "Note: Wrote maxima everywhere, actually talking about minima"
   ]
  },
  {
   "cell_type": "code",
   "execution_count": 2,
   "id": "nutritional-management",
   "metadata": {},
   "outputs": [],
   "source": [
    "df = pd.read_excel (r'BUB.xlsx')  \n",
    "#write file name and path. \n",
    "#If in the same folder no file name needed"
   ]
  },
  {
   "cell_type": "code",
   "execution_count": 3,
   "id": "precious-iceland",
   "metadata": {},
   "outputs": [],
   "source": [
    "def change_header(df):\n",
    "    new_header = df.iloc[0] #grab the first row for the header\n",
    "    df = df[1:] #take the data less the header row\n",
    "    df.columns = new_header #set the header row as the df header\n",
    "    return df"
   ]
  },
  {
   "cell_type": "code",
   "execution_count": 4,
   "id": "forbidden-remains",
   "metadata": {},
   "outputs": [],
   "source": [
    "df=change_header(df) #do not apply more than once. Will mess up stuff"
   ]
  },
  {
   "cell_type": "code",
   "execution_count": 5,
   "id": "monetary-september",
   "metadata": {},
   "outputs": [
    {
     "data": {
      "text/html": [
       "<div>\n",
       "<style scoped>\n",
       "    .dataframe tbody tr th:only-of-type {\n",
       "        vertical-align: middle;\n",
       "    }\n",
       "\n",
       "    .dataframe tbody tr th {\n",
       "        vertical-align: top;\n",
       "    }\n",
       "\n",
       "    .dataframe thead th {\n",
       "        text-align: right;\n",
       "    }\n",
       "</style>\n",
       "<table border=\"1\" class=\"dataframe\">\n",
       "  <thead>\n",
       "    <tr style=\"text-align: right;\">\n",
       "      <th></th>\n",
       "      <th>Maxima</th>\n",
       "      <th>70cm</th>\n",
       "      <th>90cm</th>\n",
       "      <th>150cm</th>\n",
       "      <th>195cm</th>\n",
       "    </tr>\n",
       "  </thead>\n",
       "  <tbody>\n",
       "    <tr>\n",
       "      <th>1</th>\n",
       "      <td>1</td>\n",
       "      <td>1.5</td>\n",
       "      <td>2.5</td>\n",
       "      <td>6</td>\n",
       "      <td>6.5</td>\n",
       "    </tr>\n",
       "    <tr>\n",
       "      <th>2</th>\n",
       "      <td>2</td>\n",
       "      <td>3</td>\n",
       "      <td>5.5</td>\n",
       "      <td>10.5</td>\n",
       "      <td>12.5</td>\n",
       "    </tr>\n",
       "    <tr>\n",
       "      <th>3</th>\n",
       "      <td>3</td>\n",
       "      <td>5</td>\n",
       "      <td>7.5</td>\n",
       "      <td>15.5</td>\n",
       "      <td>19</td>\n",
       "    </tr>\n",
       "    <tr>\n",
       "      <th>4</th>\n",
       "      <td>4</td>\n",
       "      <td>6.5</td>\n",
       "      <td>10</td>\n",
       "      <td>20</td>\n",
       "      <td>25.5</td>\n",
       "    </tr>\n",
       "    <tr>\n",
       "      <th>5</th>\n",
       "      <td>5</td>\n",
       "      <td>8.5</td>\n",
       "      <td>12.5</td>\n",
       "      <td>25</td>\n",
       "      <td>33</td>\n",
       "    </tr>\n",
       "    <tr>\n",
       "      <th>6</th>\n",
       "      <td>6</td>\n",
       "      <td>10.5</td>\n",
       "      <td>15</td>\n",
       "      <td>30</td>\n",
       "      <td>40</td>\n",
       "    </tr>\n",
       "    <tr>\n",
       "      <th>7</th>\n",
       "      <td>7</td>\n",
       "      <td>12</td>\n",
       "      <td>NaN</td>\n",
       "      <td>35</td>\n",
       "      <td>45.5</td>\n",
       "    </tr>\n",
       "    <tr>\n",
       "      <th>8</th>\n",
       "      <td>-1</td>\n",
       "      <td>1.5</td>\n",
       "      <td>2.5</td>\n",
       "      <td>4.5</td>\n",
       "      <td>6.5</td>\n",
       "    </tr>\n",
       "    <tr>\n",
       "      <th>9</th>\n",
       "      <td>-2</td>\n",
       "      <td>3.5</td>\n",
       "      <td>5</td>\n",
       "      <td>9.5</td>\n",
       "      <td>13.5</td>\n",
       "    </tr>\n",
       "    <tr>\n",
       "      <th>10</th>\n",
       "      <td>-3</td>\n",
       "      <td>5.5</td>\n",
       "      <td>7.5</td>\n",
       "      <td>14</td>\n",
       "      <td>20</td>\n",
       "    </tr>\n",
       "    <tr>\n",
       "      <th>11</th>\n",
       "      <td>-4</td>\n",
       "      <td>7</td>\n",
       "      <td>9.5</td>\n",
       "      <td>19</td>\n",
       "      <td>26.5</td>\n",
       "    </tr>\n",
       "    <tr>\n",
       "      <th>12</th>\n",
       "      <td>-5</td>\n",
       "      <td>8.5</td>\n",
       "      <td>12</td>\n",
       "      <td>23.5</td>\n",
       "      <td>33.5</td>\n",
       "    </tr>\n",
       "    <tr>\n",
       "      <th>13</th>\n",
       "      <td>-6</td>\n",
       "      <td>10.5</td>\n",
       "      <td>14.5</td>\n",
       "      <td>28.5</td>\n",
       "      <td>40</td>\n",
       "    </tr>\n",
       "    <tr>\n",
       "      <th>14</th>\n",
       "      <td>-7</td>\n",
       "      <td>12</td>\n",
       "      <td>NaN</td>\n",
       "      <td>33.5</td>\n",
       "      <td>46.5</td>\n",
       "    </tr>\n",
       "  </tbody>\n",
       "</table>\n",
       "</div>"
      ],
      "text/plain": [
       "0  Maxima  70cm  90cm 150cm 195cm\n",
       "1       1   1.5   2.5     6   6.5\n",
       "2       2     3   5.5  10.5  12.5\n",
       "3       3     5   7.5  15.5    19\n",
       "4       4   6.5    10    20  25.5\n",
       "5       5   8.5  12.5    25    33\n",
       "6       6  10.5    15    30    40\n",
       "7       7    12   NaN    35  45.5\n",
       "8      -1   1.5   2.5   4.5   6.5\n",
       "9      -2   3.5     5   9.5  13.5\n",
       "10     -3   5.5   7.5    14    20\n",
       "11     -4     7   9.5    19  26.5\n",
       "12     -5   8.5    12  23.5  33.5\n",
       "13     -6  10.5  14.5  28.5    40\n",
       "14     -7    12   NaN  33.5  46.5"
      ]
     },
     "execution_count": 5,
     "metadata": {},
     "output_type": "execute_result"
    }
   ],
   "source": [
    "df"
   ]
  },
  {
   "cell_type": "code",
   "execution_count": 6,
   "id": "superior-denver",
   "metadata": {},
   "outputs": [],
   "source": [
    " def distance_maxima(col_name):\n",
    "    arr = np.array([ufloat(df[col_name][1] , 1.5) + 0.05*df[col_name][1]])\n",
    "    for i in range(2,len(df[col_name])+1):\n",
    "        x = [ufloat(df[col_name][i] , 1.5 + 0.05*df[col_name][1])]\n",
    "        arr = np.append(arr,x)\n",
    "    for i in range(len(df[col_name])):\n",
    "        arr[i] /= np.abs(df['Maxima'][i+1])\n",
    "    return arr"
   ]
  },
  {
   "cell_type": "code",
   "execution_count": 7,
   "id": "configured-conspiracy",
   "metadata": {},
   "outputs": [],
   "source": [
    "arr70 = distance_maxima('70cm')\n",
    "arr90 = distance_maxima('90cm')\n",
    "arr150 = distance_maxima('150cm')\n",
    "arr195 = distance_maxima('195cm')"
   ]
  },
  {
   "cell_type": "code",
   "execution_count": 8,
   "id": "popular-maria",
   "metadata": {},
   "outputs": [],
   "source": [
    "avg_dst70 = np.mean(arr70)\n",
    "avg_dst90 = np.mean(arr90)\n",
    "avg_dst150 = np.mean(arr150)\n",
    "avg_dst195 = np.mean(arr195)"
   ]
  },
  {
   "cell_type": "markdown",
   "id": "extraordinary-archives",
   "metadata": {},
   "source": [
    "# Auswertung 5.1.2\n",
    "## 2.\n",
    "Tragen Sie alle Ihre Einzelmessungen in einem Diagramm s/l gegen die Beugungsordnung n auf.\n"
   ]
  },
  {
   "cell_type": "code",
   "execution_count": 9,
   "id": "demographic-jurisdiction",
   "metadata": {},
   "outputs": [],
   "source": [
    " def distance(col_name):\n",
    "    arr = np.array([ufloat(df[col_name][1] , 1 + + 0.05*df[col_name][1])])\n",
    "    for i in range(2,len(df[col_name])+1):\n",
    "        x = [ufloat(df[col_name][i] , 1 + + 0.05*df[col_name][1])]\n",
    "        arr = np.append(arr,x)\n",
    "    return arr"
   ]
  },
  {
   "cell_type": "code",
   "execution_count": 10,
   "id": "attached-album",
   "metadata": {},
   "outputs": [],
   "source": [
    "#Abstand Zentrum- Minima mit Fehler\n",
    "d70 = distance('70cm')\n",
    "d90 = distance('90cm')\n",
    "d150 = distance('150cm')\n",
    "d195 = distance('195cm')"
   ]
  },
  {
   "cell_type": "code",
   "execution_count": 11,
   "id": "editorial-diana",
   "metadata": {},
   "outputs": [],
   "source": [
    "#Abstand papier-Laser mit Fehler\n",
    "lenght70 = [ufloat(700,7) for i in range(len(d70))]\n",
    "lenght90 = [ufloat(900,7) for i in range(len(d90))]\n",
    "lenght150 = [ufloat(1500,7) for i in range(len(d150))]\n",
    "lenght195 = [ufloat(1950,7) for i in range(len(d195))]"
   ]
  },
  {
   "cell_type": "code",
   "execution_count": 12,
   "id": "southwest-feeding",
   "metadata": {},
   "outputs": [],
   "source": [
    "def y(col,l): #column name and lenght in mm\n",
    "    return col/l"
   ]
  },
  {
   "cell_type": "code",
   "execution_count": 13,
   "id": "numerous-conflict",
   "metadata": {},
   "outputs": [],
   "source": [
    "x = np.abs(df['Maxima'])\n",
    "y1 = y(d70,lenght70)\n",
    "y2 = y(d90,lenght90)\n",
    "y3 = y(d150,lenght150)\n",
    "y4 = y(d195,lenght195)"
   ]
  },
  {
   "cell_type": "code",
   "execution_count": 14,
   "id": "center-print",
   "metadata": {},
   "outputs": [],
   "source": [
    "#Separating value and error\n",
    "y1_v, y1_u = [y1[i].nominal_value for i in range(len(y1))] , [y1[i].s for i in range(len(y1))]\n",
    "y2_v, y2_u = [y2[i].nominal_value for i in range(len(y2))] , [y2[i].s for i in range(len(y2))]\n",
    "y3_v, y3_u = [y3[i].nominal_value for i in range(len(y3))] , [y3[i].s for i in range(len(y3))]\n",
    "y4_v, y4_u = [y4[i].nominal_value for i in range(len(y4))] , [y4[i].s for i in range(len(y4))]"
   ]
  },
  {
   "cell_type": "code",
   "execution_count": 15,
   "id": "alone-butter",
   "metadata": {},
   "outputs": [
    {
     "data": {
      "image/png": "[encoded data removed]",
      "text/plain": [
       "<Figure size 432x288 with 1 Axes>"
      ]
     },
     "metadata": {
      "needs_background": "light"
     },
     "output_type": "display_data"
    }
   ],
   "source": [
    "plt.errorbar(x, y1_v, yerr=y1_u, fmt='o', c='r', label='70cm')\n",
    "plt.errorbar(x, y2_v, yerr=y2_u, fmt='o', c='g', label='90cm')\n",
    "plt.errorbar(x, y3_v, yerr=y3_u, fmt='o', c='y', label='150cm')\n",
    "plt.errorbar(x, y4_v, yerr=y4_u, fmt='o', c='b', label='195cm')\n",
    "plt.xlabel('Order of Minimum')\n",
    "plt.ylabel('tan(a)')\n",
    "plt.legend()\n",
    "plt.savefig('Minimum_vs_tan.png')"
   ]
  },
  {
   "cell_type": "markdown",
   "id": "peripheral-bracelet",
   "metadata": {},
   "source": [
    "# 3.\n",
    "Ermitteln Sie die Steigung der resultierenden Ausgleichsgerade sowie deren Unsicherheit"
   ]
  },
  {
   "cell_type": "code",
   "execution_count": 16,
   "id": "judicial-vampire",
   "metadata": {},
   "outputs": [],
   "source": [
    "from pylab import *\n",
    "from scipy.optimize import curve_fit"
   ]
  },
  {
   "cell_type": "code",
   "execution_count": 17,
   "id": "electoral-traffic",
   "metadata": {},
   "outputs": [],
   "source": [
    "def linearFunc(x,intercept,slope):\n",
    "    y = intercept + slope * x\n",
    "    return y"
   ]
  },
  {
   "cell_type": "code",
   "execution_count": 18,
   "id": "assumed-mystery",
   "metadata": {},
   "outputs": [],
   "source": [
    "def data_fitting_error(linearFunc, freq,  Kmax, d_Kmax, Data, x_label, y_label, titlee):\n",
    "    '''freq= xdata\n",
    "        Kmax=ydata\n",
    "        d_Kmax=yerror\n",
    "        Data=name of dataset'''\n",
    "    a_fit,cov=curve_fit(linearFunc,freq,Kmax,sigma=d_Kmax)\n",
    "    inter = a_fit[0]\n",
    "    slope = a_fit[1]\n",
    "    d_inter = sqrt(cov[0][0])\n",
    "    d_slope = sqrt(cov[1][1])\n",
    "    # Create a graph showing the data.\n",
    "    errorbar(freq,Kmax,yerr=d_Kmax,fmt='r.',label=Data)\n",
    "\n",
    "    # Compute a best fit line from the fit intercept and slope.\n",
    "    Kmax_fit = inter + slope*freq\n",
    "\n",
    "    # Create a graph of the fit to the data. We just use the ordinary plot\n",
    "    # command for this.\n",
    "    plot(freq,Kmax_fit,label='Fit')\n",
    "\n",
    "    # Display a legend, label the x and y axes and title the graph.\n",
    "    legend()\n",
    "    xlabel(x_label)\n",
    "    ylabel(y_label)\n",
    "    title(titlee + ' ' + Data)\n",
    "\n",
    "    # Save the figure to a file\n",
    "    plt.savefig(Data+'.png')\n",
    "\n",
    "    # Show the graph in a new window on the users screen.\n",
    "    show()\n",
    "    return slope, d_slope, inter, d_inter"
   ]
  },
  {
   "cell_type": "code",
   "execution_count": 19,
   "id": "august-latitude",
   "metadata": {},
   "outputs": [
    {
     "data": {
      "image/png": "[encoded data removed]",
      "text/plain": [
       "<Figure size 432x288 with 1 Axes>"
      ]
     },
     "metadata": {
      "needs_background": "light"
     },
     "output_type": "display_data"
    },
    {
     "name": "stdout",
     "output_type": "stream",
     "text": [
      "The slope = 0.002512833962991891, with uncertainty 4.0883324089953064e-05\n",
      "The intercept = -0.00030645429472373495, with uncertainty 0.00018252126136774222\n"
     ]
    }
   ],
   "source": [
    "(slope1, d_slope1, inter1, d_inter1) = data_fitting_error(linearFunc, x, y1_v, y1_u, '70cm', 'Order of Minimum', \n",
    "                                                         'tan(a)', 'Order of Minimum vs tan(a) fit')\n",
    "print(f'The slope = {slope1}, with uncertainty {d_slope1}')\n",
    "print(f'The intercept = {inter1}, with uncertainty {d_inter1}')"
   ]
  },
  {
   "cell_type": "code",
   "execution_count": 20,
   "id": "adolescent-mailing",
   "metadata": {
    "scrolled": true
   },
   "outputs": [],
   "source": [
    "# the second data set had some missing numbers, this code gets rid of them\n",
    "df2= df.copy()\n",
    "df2['y2_v'] = y2_v\n",
    "df2['y2_u'] = y2_u\n",
    "df2 = df2.dropna()\n",
    "x2 = np.abs(df2['Maxima'])\n",
    "y2_v = df2['y2_v']\n",
    "y2_u = df2['y2_u']"
   ]
  },
  {
   "cell_type": "code",
   "execution_count": 21,
   "id": "independent-design",
   "metadata": {},
   "outputs": [
    {
     "data": {
      "image/png": "[encoded data removed]",
      "text/plain": [
       "<Figure size 432x288 with 1 Axes>"
      ]
     },
     "metadata": {
      "needs_background": "light"
     },
     "output_type": "display_data"
    },
    {
     "name": "stdout",
     "output_type": "stream",
     "text": [
      "The slope = 0.002682508784405057, with uncertainty 4.823387713193953e-05\n",
      "The intercept = 0.00024080307171272462, with uncertainty 0.00018758169066106898\n"
     ]
    }
   ],
   "source": [
    "(slope2, d_slope2, inter2, d_inter2) = data_fitting_error(linearFunc, x2, y2_v, y2_u, '90cm', 'Order of Minimum', \n",
    "                                                         'tan(a)', 'Order of Minimum vs tan(a) fit')\n",
    "print(f'The slope = {slope2}, with uncertainty {d_slope2}')\n",
    "print(f'The intercept = {inter2}, with uncertainty {d_inter2}')"
   ]
  },
  {
   "cell_type": "code",
   "execution_count": 22,
   "id": "classical-florence",
   "metadata": {},
   "outputs": [
    {
     "data": {
      "image/png": "[encoded data removed]",
      "text/plain": [
       "<Figure size 432x288 with 1 Axes>"
      ]
     },
     "metadata": {
      "needs_background": "light"
     },
     "output_type": "display_data"
    },
    {
     "name": "stdout",
     "output_type": "stream",
     "text": [
      "The slope = 0.003214079391366752, with uncertainty 6.709046319973064e-05\n",
      "The intercept = 0.00021486959490475007, with uncertainty 0.0002994264587284809\n"
     ]
    }
   ],
   "source": [
    "(slope3, d_slope3, inter3, d_inter3) = data_fitting_error(linearFunc, x, y3_v, y3_u, '150cm', 'Order of Minimum', \n",
    "                                                         'tan(a)', 'Order of Minimum vs tan(a) fit')\n",
    "print(f'The slope = {slope3}, with uncertainty {d_slope3}')\n",
    "print(f'The intercept = {inter3}, with uncertainty {d_inter3}')"
   ]
  },
  {
   "cell_type": "code",
   "execution_count": 23,
   "id": "boxed-passport",
   "metadata": {},
   "outputs": [
    {
     "data": {
      "image/png": "[encoded data removed]",
      "text/plain": [
       "<Figure size 432x288 with 1 Axes>"
      ]
     },
     "metadata": {
      "needs_background": "light"
     },
     "output_type": "display_data"
    },
    {
     "name": "stdout",
     "output_type": "stream",
     "text": [
      "The slope = 0.0034111908463447162, with uncertainty 3.434664031076219e-05\n",
      "The intercept = -0.00014664731461238844, with uncertainty 0.0001532748546065428\n"
     ]
    }
   ],
   "source": [
    "(slope4, d_slope4, inter4, d_inter4) = data_fitting_error(linearFunc, x, y4_v, y4_u, '195cm', 'Order of Minimum', \n",
    "                                                         'tan(a)', 'Order of Minimum vs tan(a) fit')\n",
    "print(f'The slope = {slope4}, with uncertainty {d_slope4}')\n",
    "print(f'The intercept = {inter4}, with uncertainty {d_inter4}')"
   ]
  },
  {
   "cell_type": "code",
   "execution_count": 24,
   "id": "fatty-quantum",
   "metadata": {},
   "outputs": [],
   "source": [
    "slope_arr_compl = np.array([ufloat(slope1 , d_slope1) , ufloat(slope2 , d_slope2) , ufloat(slope3 , d_slope3) ,\n",
    "                     ufloat(slope4 , d_slope4)])\n",
    "numb = np.array([1,2,3,4])\n",
    "slope_arr = np.array([slope1,slope2,slope3,slope4])\n",
    "slope_err = np.array([d_slope1,d_slope2, d_slope3, d_slope4])"
   ]
  },
  {
   "cell_type": "code",
   "execution_count": 25,
   "id": "oriented-sector",
   "metadata": {},
   "outputs": [
    {
     "data": {
      "text/plain": [
       "array([0.002512833962991891+/-4.0883324089953064e-05,\n",
       "       0.002682508784405057+/-4.823387713193953e-05,\n",
       "       0.003214079391366752+/-6.709046319973064e-05,\n",
       "       0.0034111908463447162+/-3.434664031076219e-05], dtype=object)"
      ]
     },
     "execution_count": 25,
     "metadata": {},
     "output_type": "execute_result"
    },
    {
     "data": {
      "image/png": "[encoded data removed]",
      "text/plain": [
       "<Figure size 432x288 with 1 Axes>"
      ]
     },
     "metadata": {
      "needs_background": "light"
     },
     "output_type": "display_data"
    }
   ],
   "source": [
    "errorbar(numb,slope_arr, yerr=slope_err)\n",
    "slope_arr_compl"
   ]
  },
  {
   "cell_type": "markdown",
   "id": "comprehensive-treatment",
   "metadata": {},
   "source": [
    "Solving $ n \\cdot \\lambda = d \\sin a$  for $d = \\frac{ n \\cdot \\lambda}{\\sin a}$ with $\\frac{n}{\\sin a}$ being  one over the angular coefficient we can determine d"
   ]
  },
  {
   "cell_type": "markdown",
   "id": "immediate-newport",
   "metadata": {},
   "source": [
    "λ = (532 ± 1) nm."
   ]
  },
  {
   "cell_type": "code",
   "execution_count": 26,
   "id": "resident-reconstruction",
   "metadata": {},
   "outputs": [],
   "source": [
    "lam= ufloat(532,1) #in nanometers\n",
    "lam*=10**(-6)"
   ]
  },
  {
   "cell_type": "code",
   "execution_count": 27,
   "id": "initial-buddy",
   "metadata": {},
   "outputs": [
    {
     "name": "stdout",
     "output_type": "stream",
     "text": [
      "The mean width of the slit is 182.9+/-1.6 micrometers\n"
     ]
    }
   ],
   "source": [
    "d = lam/slope_arr_compl\n",
    "d_avg=np.mean(d)*1000\n",
    "print(f'The mean width of the slit is {d_avg} micrometers')"
   ]
  },
  {
   "cell_type": "code",
   "execution_count": 28,
   "id": "sublime-difference",
   "metadata": {},
   "outputs": [
    {
     "name": "stdout",
     "output_type": "stream",
     "text": [
      "[2.512833962991891+/-0.040883324089953064\n",
      " 2.6825087844050572+/-0.04823387713193953\n",
      " 3.214079391366752+/-0.06709046319973064\n",
      " 3.411190846344716+/-0.03434664031076219]\n"
     ]
    }
   ],
   "source": [
    "print(slope_arr_compl*1000)"
   ]
  },
  {
   "cell_type": "code",
   "execution_count": null,
   "id": "hispanic-sustainability",
   "metadata": {},
   "outputs": [],
   "source": []
  }
 ],
 "metadata": {
  "kernelspec": {
   "display_name": "Python 3",
   "language": "python",
   "name": "python3"
  },
  "language_info": {
   "codemirror_mode": {
    "name": "ipython",
    "version": 3
   },
   "file_extension": ".py",
   "mimetype": "text/x-python",
   "name": "python",
   "nbconvert_exporter": "python",
   "pygments_lexer": "ipython3",
   "version": "3.8.3"
  }
 },
 "nbformat": 4,
 "nbformat_minor": 5
}
