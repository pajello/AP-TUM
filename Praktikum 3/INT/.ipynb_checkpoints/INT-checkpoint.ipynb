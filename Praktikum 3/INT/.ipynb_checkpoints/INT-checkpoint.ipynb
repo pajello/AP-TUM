{
 "cells": [
  {
   "cell_type": "code",
   "execution_count": 1,
   "id": "broken-documentation",
   "metadata": {},
   "outputs": [],
   "source": [
    "import pandas as pd\n",
    "import matplotlib.pyplot as plt\n",
    "import numpy as np\n",
    "from uncertainties import *\n",
    "from pylab import *\n",
    "from scipy.optimize import curve_fit\n",
    "from scipy.odr import *\n",
    "%matplotlib inline"
   ]
  },
  {
   "cell_type": "code",
   "execution_count": 2,
   "id": "unlikely-gardening",
   "metadata": {},
   "outputs": [
    {
     "data": {
      "text/html": [
       "<div>\n",
       "<style scoped>\n",
       "    .dataframe tbody tr th:only-of-type {\n",
       "        vertical-align: middle;\n",
       "    }\n",
       "\n",
       "    .dataframe tbody tr th {\n",
       "        vertical-align: top;\n",
       "    }\n",
       "\n",
       "    .dataframe thead th {\n",
       "        text-align: right;\n",
       "    }\n",
       "</style>\n",
       "<table border=\"1\" class=\"dataframe\">\n",
       "  <thead>\n",
       "    <tr style=\"text-align: right;\">\n",
       "      <th></th>\n",
       "      <th>Druck1</th>\n",
       "      <th>Druck2</th>\n",
       "    </tr>\n",
       "  </thead>\n",
       "  <tbody>\n",
       "    <tr>\n",
       "      <th>0</th>\n",
       "      <td>0.000</td>\n",
       "      <td>0.00</td>\n",
       "    </tr>\n",
       "    <tr>\n",
       "      <th>1</th>\n",
       "      <td>0.075</td>\n",
       "      <td>0.05</td>\n",
       "    </tr>\n",
       "    <tr>\n",
       "      <th>2</th>\n",
       "      <td>0.100</td>\n",
       "      <td>0.12</td>\n",
       "    </tr>\n",
       "    <tr>\n",
       "      <th>3</th>\n",
       "      <td>0.160</td>\n",
       "      <td>0.18</td>\n",
       "    </tr>\n",
       "    <tr>\n",
       "      <th>4</th>\n",
       "      <td>0.220</td>\n",
       "      <td>0.26</td>\n",
       "    </tr>\n",
       "    <tr>\n",
       "      <th>5</th>\n",
       "      <td>0.300</td>\n",
       "      <td>0.34</td>\n",
       "    </tr>\n",
       "    <tr>\n",
       "      <th>6</th>\n",
       "      <td>0.380</td>\n",
       "      <td>0.40</td>\n",
       "    </tr>\n",
       "    <tr>\n",
       "      <th>7</th>\n",
       "      <td>0.460</td>\n",
       "      <td>0.48</td>\n",
       "    </tr>\n",
       "    <tr>\n",
       "      <th>8</th>\n",
       "      <td>0.520</td>\n",
       "      <td>0.55</td>\n",
       "    </tr>\n",
       "    <tr>\n",
       "      <th>9</th>\n",
       "      <td>0.600</td>\n",
       "      <td>0.62</td>\n",
       "    </tr>\n",
       "    <tr>\n",
       "      <th>10</th>\n",
       "      <td>0.700</td>\n",
       "      <td>0.70</td>\n",
       "    </tr>\n",
       "    <tr>\n",
       "      <th>11</th>\n",
       "      <td>0.760</td>\n",
       "      <td>0.77</td>\n",
       "    </tr>\n",
       "    <tr>\n",
       "      <th>12</th>\n",
       "      <td>0.820</td>\n",
       "      <td>NaN</td>\n",
       "    </tr>\n",
       "  </tbody>\n",
       "</table>\n",
       "</div>"
      ],
      "text/plain": [
       "    Druck1  Druck2\n",
       "0    0.000    0.00\n",
       "1    0.075    0.05\n",
       "2    0.100    0.12\n",
       "3    0.160    0.18\n",
       "4    0.220    0.26\n",
       "5    0.300    0.34\n",
       "6    0.380    0.40\n",
       "7    0.460    0.48\n",
       "8    0.520    0.55\n",
       "9    0.600    0.62\n",
       "10   0.700    0.70\n",
       "11   0.760    0.77\n",
       "12   0.820     NaN"
      ]
     },
     "execution_count": 2,
     "metadata": {},
     "output_type": "execute_result"
    }
   ],
   "source": [
    "df = pd.read_excel (r'INT_druck.xlsx',sheet_name='4.3')\n",
    "df"
   ]
  },
  {
   "cell_type": "code",
   "execution_count": 3,
   "id": "employed-motel",
   "metadata": {
    "scrolled": true
   },
   "outputs": [],
   "source": [
    "y1=[3*i for i in range(len(df['Druck1']))]\n",
    "y2=[3*i for i in range(len(df['Druck2']))]"
   ]
  },
  {
   "cell_type": "code",
   "execution_count": 4,
   "id": "lucky-judgment",
   "metadata": {},
   "outputs": [],
   "source": [
    "def u_array_creation(col_name,err):\n",
    "    '''This function takes a given column and error and returns that as an earray filled with ufloats'''\n",
    "    arr = np.array([ufloat(df[col_name][0] , err + 0.05*df[col_name][0])])\n",
    "    for i in range(1,len(df[col_name])):\n",
    "        x = [ufloat(df[col_name][i] , err + 0.05*df[col_name][1])]\n",
    "        arr = np.append(arr,x)\n",
    "    return arr"
   ]
  },
  {
   "cell_type": "code",
   "execution_count": 5,
   "id": "offshore-madagascar",
   "metadata": {},
   "outputs": [],
   "source": [
    "druck1=u_array_creation('Druck1',0.2) #0.2 bar plus 5% error\n",
    "druck2=u_array_creation('Druck2',0.2)"
   ]
  },
  {
   "cell_type": "code",
   "execution_count": 6,
   "id": "sweet-dover",
   "metadata": {},
   "outputs": [],
   "source": [
    "x1_v, x1_u = [druck1[i].nominal_value for i in range(len(druck1))],[druck1[i].s for i in range(len(druck1))]\n",
    "x2_v, x2_u = [druck2[i].nominal_value for i in range(len(druck2))],[druck2[i].s for i in range(len(druck2))]"
   ]
  },
  {
   "cell_type": "code",
   "execution_count": 7,
   "id": "requested-mongolia",
   "metadata": {},
   "outputs": [
    {
     "data": {
      "text/plain": [
       "<ErrorbarContainer object of 3 artists>"
      ]
     },
     "execution_count": 7,
     "metadata": {},
     "output_type": "execute_result"
    },
    {
     "data": {
      "image/png": "[encoded data removed]",
      "text/plain": [
       "<Figure size 432x288 with 1 Axes>"
      ]
     },
     "metadata": {
      "needs_background": "light"
     },
     "output_type": "display_data"
    }
   ],
   "source": [
    "plt.errorbar(x1_v,y1,xerr=x1_u)"
   ]
  },
  {
   "cell_type": "code",
   "execution_count": null,
   "id": "protected-denver",
   "metadata": {},
   "outputs": [],
   "source": []
  },
  {
   "cell_type": "code",
   "execution_count": null,
   "id": "instructional-jamaica",
   "metadata": {},
   "outputs": [],
   "source": []
  },
  {
   "cell_type": "code",
   "execution_count": null,
   "id": "precise-hazard",
   "metadata": {},
   "outputs": [],
   "source": []
  },
  {
   "cell_type": "code",
   "execution_count": 8,
   "id": "prescription-collar",
   "metadata": {},
   "outputs": [
    {
     "name": "stdout",
     "output_type": "stream",
     "text": [
      "Beta: [42.59246112  1.30328839]\n",
      "Beta Std Error: [0.99612616 0.46986252]\n",
      "Beta Covariance: [[ 83.89997589 -32.78826756]\n",
      " [-32.78826756  18.66700929]]\n",
      "Residual Variance: 0.011826789291842256\n",
      "Inverse Condition #: 0.11005298590575607\n",
      "Reason(s) for Halting:\n",
      "  Sum of squares convergence\n"
     ]
    }
   ],
   "source": [
    "def linear_func(B, x):\n",
    "    return B[0]*x+B[1]\n",
    "\n",
    "x_data=x1_v\n",
    "y_data=y1\n",
    "x_err=x1_u\n",
    "\n",
    "linear=Model(linear_func)\n",
    "data=RealData(x_data, y_data, sx=x_err)\n",
    "odr=ODR(data, linear, beta0=[1.0, 0.0])\n",
    "out=odr.run()\n",
    "out.pprint()"
   ]
  },
  {
   "cell_type": "code",
   "execution_count": null,
   "id": "promotional-report",
   "metadata": {},
   "outputs": [],
   "source": []
  }
 ],
 "metadata": {
  "kernelspec": {
   "display_name": "Python 3",
   "language": "python",
   "name": "python3"
  },
  "language_info": {
   "codemirror_mode": {
    "name": "ipython",
    "version": 3
   },
   "file_extension": ".py",
   "mimetype": "text/x-python",
   "name": "python",
   "nbconvert_exporter": "python",
   "pygments_lexer": "ipython3",
   "version": "3.8.3"
  }
 },
 "nbformat": 4,
 "nbformat_minor": 5
}
