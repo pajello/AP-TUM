{
 "cells": [
  {
   "cell_type": "code",
   "execution_count": 1,
   "id": "distant-science",
   "metadata": {},
   "outputs": [],
   "source": [
    "import pandas as pd\n",
    "import matplotlib.pyplot as plt\n",
    "import numpy as np\n",
    "from uncertainties import unumpy as unp\n",
    "from uncertainties import *\n",
    "from pylab import *\n",
    "from scipy.optimize import curve_fit\n",
    "from scipy.odr import *\n",
    "%matplotlib inline"
   ]
  },
  {
   "cell_type": "markdown",
   "id": "vulnerable-patrol",
   "metadata": {},
   "source": [
    "$\\lambda$= 633nm"
   ]
  },
  {
   "cell_type": "code",
   "execution_count": 2,
   "id": "auburn-humanity",
   "metadata": {},
   "outputs": [],
   "source": [
    "lamb= 633*10**(-9) #wavelength in meters\n",
    "l=ufloat(5,0.1) *10**(-2)\n",
    "T=ufloat(27,0.2) #Raumtemperatur in Celsius"
   ]
  },
  {
   "cell_type": "code",
   "execution_count": 3,
   "id": "loved-roads",
   "metadata": {},
   "outputs": [],
   "source": [
    "dn=lambda N:N*lamb/(2*l)"
   ]
  },
  {
   "cell_type": "code",
   "execution_count": 4,
   "id": "thermal-admission",
   "metadata": {},
   "outputs": [
    {
     "data": {
      "text/html": [
       "<div>\n",
       "<style scoped>\n",
       "    .dataframe tbody tr th:only-of-type {\n",
       "        vertical-align: middle;\n",
       "    }\n",
       "\n",
       "    .dataframe tbody tr th {\n",
       "        vertical-align: top;\n",
       "    }\n",
       "\n",
       "    .dataframe thead th {\n",
       "        text-align: right;\n",
       "    }\n",
       "</style>\n",
       "<table border=\"1\" class=\"dataframe\">\n",
       "  <thead>\n",
       "    <tr style=\"text-align: right;\">\n",
       "      <th></th>\n",
       "      <th>Druck1</th>\n",
       "      <th>Druck2</th>\n",
       "      <th>N</th>\n",
       "      <th>Deltap1</th>\n",
       "      <th>Deltap2</th>\n",
       "    </tr>\n",
       "  </thead>\n",
       "  <tbody>\n",
       "    <tr>\n",
       "      <th>0</th>\n",
       "      <td>0.000</td>\n",
       "      <td>0.00</td>\n",
       "      <td>0</td>\n",
       "      <td>1.000</td>\n",
       "      <td>1.00</td>\n",
       "    </tr>\n",
       "    <tr>\n",
       "      <th>1</th>\n",
       "      <td>0.075</td>\n",
       "      <td>0.05</td>\n",
       "      <td>3</td>\n",
       "      <td>0.925</td>\n",
       "      <td>0.95</td>\n",
       "    </tr>\n",
       "    <tr>\n",
       "      <th>2</th>\n",
       "      <td>0.100</td>\n",
       "      <td>0.12</td>\n",
       "      <td>6</td>\n",
       "      <td>0.900</td>\n",
       "      <td>0.88</td>\n",
       "    </tr>\n",
       "    <tr>\n",
       "      <th>3</th>\n",
       "      <td>0.160</td>\n",
       "      <td>0.18</td>\n",
       "      <td>9</td>\n",
       "      <td>0.840</td>\n",
       "      <td>0.82</td>\n",
       "    </tr>\n",
       "    <tr>\n",
       "      <th>4</th>\n",
       "      <td>0.220</td>\n",
       "      <td>0.26</td>\n",
       "      <td>12</td>\n",
       "      <td>0.780</td>\n",
       "      <td>0.74</td>\n",
       "    </tr>\n",
       "    <tr>\n",
       "      <th>5</th>\n",
       "      <td>0.300</td>\n",
       "      <td>0.34</td>\n",
       "      <td>15</td>\n",
       "      <td>0.700</td>\n",
       "      <td>0.66</td>\n",
       "    </tr>\n",
       "    <tr>\n",
       "      <th>6</th>\n",
       "      <td>0.380</td>\n",
       "      <td>0.40</td>\n",
       "      <td>18</td>\n",
       "      <td>0.620</td>\n",
       "      <td>0.60</td>\n",
       "    </tr>\n",
       "    <tr>\n",
       "      <th>7</th>\n",
       "      <td>0.460</td>\n",
       "      <td>0.48</td>\n",
       "      <td>21</td>\n",
       "      <td>0.540</td>\n",
       "      <td>0.52</td>\n",
       "    </tr>\n",
       "    <tr>\n",
       "      <th>8</th>\n",
       "      <td>0.520</td>\n",
       "      <td>0.55</td>\n",
       "      <td>24</td>\n",
       "      <td>0.480</td>\n",
       "      <td>0.45</td>\n",
       "    </tr>\n",
       "    <tr>\n",
       "      <th>9</th>\n",
       "      <td>0.600</td>\n",
       "      <td>0.62</td>\n",
       "      <td>27</td>\n",
       "      <td>0.400</td>\n",
       "      <td>0.38</td>\n",
       "    </tr>\n",
       "    <tr>\n",
       "      <th>10</th>\n",
       "      <td>0.700</td>\n",
       "      <td>0.70</td>\n",
       "      <td>30</td>\n",
       "      <td>0.300</td>\n",
       "      <td>0.30</td>\n",
       "    </tr>\n",
       "    <tr>\n",
       "      <th>11</th>\n",
       "      <td>0.760</td>\n",
       "      <td>0.77</td>\n",
       "      <td>33</td>\n",
       "      <td>0.240</td>\n",
       "      <td>0.23</td>\n",
       "    </tr>\n",
       "    <tr>\n",
       "      <th>12</th>\n",
       "      <td>0.820</td>\n",
       "      <td>NaN</td>\n",
       "      <td>36</td>\n",
       "      <td>0.180</td>\n",
       "      <td>NaN</td>\n",
       "    </tr>\n",
       "  </tbody>\n",
       "</table>\n",
       "</div>"
      ],
      "text/plain": [
       "    Druck1  Druck2   N  Deltap1  Deltap2\n",
       "0    0.000    0.00   0    1.000     1.00\n",
       "1    0.075    0.05   3    0.925     0.95\n",
       "2    0.100    0.12   6    0.900     0.88\n",
       "3    0.160    0.18   9    0.840     0.82\n",
       "4    0.220    0.26  12    0.780     0.74\n",
       "5    0.300    0.34  15    0.700     0.66\n",
       "6    0.380    0.40  18    0.620     0.60\n",
       "7    0.460    0.48  21    0.540     0.52\n",
       "8    0.520    0.55  24    0.480     0.45\n",
       "9    0.600    0.62  27    0.400     0.38\n",
       "10   0.700    0.70  30    0.300     0.30\n",
       "11   0.760    0.77  33    0.240     0.23\n",
       "12   0.820     NaN  36    0.180      NaN"
      ]
     },
     "execution_count": 4,
     "metadata": {},
     "output_type": "execute_result"
    }
   ],
   "source": [
    "df = pd.read_excel (r'INT_druck.xlsx',sheet_name='4.3')\n",
    "df['N']= [3*i for i in range(len(df['Druck1']))]\n",
    "df['Deltap1']=1-df['Druck1'] #da der atmospheren druck 1 ist ist was uns interessiert 1- der druck den wir gemessen haben\n",
    "df['Deltap2']=1-df['Druck2']\n",
    "df"
   ]
  },
  {
   "cell_type": "code",
   "execution_count": 5,
   "id": "dynamic-casino",
   "metadata": {},
   "outputs": [],
   "source": [
    "def u_array_creation(col_name,err):\n",
    "    '''This function takes a given column and error and returns that as an earray filled with ufloats'''\n",
    "    arr = np.array([ufloat(df[col_name][0] , err + 0.05*df[col_name][0])])\n",
    "    for i in range(1,len(df[col_name])):\n",
    "        x = [ufloat(df[col_name][i] , err + 0.05*df[col_name][1])]\n",
    "        arr = np.append(arr,x)\n",
    "    return arr"
   ]
  },
  {
   "cell_type": "code",
   "execution_count": 6,
   "id": "killing-equipment",
   "metadata": {},
   "outputs": [],
   "source": [
    "dn_arr=dn(df['N']) #berechnung von Delta n \n",
    "Deltap1_mit_u= u_array_creation('Deltap1', 0.02)\n",
    "Deltap2_mit_u= u_array_creation('Deltap2', 0.02)\n",
    "dn_arr=dn_arr.drop(labels=0,axis=0)\n",
    "Deltap1_mit_u=np.delete(Deltap1_mit_u,[0])\n",
    "Deltap2_mit_u=np.delete(Deltap2_mit_u,[0])"
   ]
  },
  {
   "cell_type": "code",
   "execution_count": 7,
   "id": "particular-slovakia",
   "metadata": {},
   "outputs": [
    {
     "data": {
      "text/plain": [
       "12"
      ]
     },
     "execution_count": 7,
     "metadata": {},
     "output_type": "execute_result"
    }
   ],
   "source": [
    "len(Deltap2_mit_u)"
   ]
  },
  {
   "cell_type": "code",
   "execution_count": 8,
   "id": "still-government",
   "metadata": {},
   "outputs": [],
   "source": [
    "#y_temp=lambda x: x - 1  # Auf der y-achse kommt Delta n -1 hin\n",
    "y=dn_arr\n",
    "x1= Deltap1_mit_u/T #Delta p/T\n",
    "x2= Deltap2_mit_u/T #Delta p/T"
   ]
  },
  {
   "cell_type": "code",
   "execution_count": 9,
   "id": "opened-supply",
   "metadata": {},
   "outputs": [],
   "source": [
    "y_v, y_u = [y[i].nominal_value for i in range(1,len(y)+1)],[y[i].s for i in range(1,len(y)+1)]\n",
    "x1_v, x1_u =[x1[i].nominal_value for i in range(len(x1))],[x1[i].s for i in range(len(x1))]\n",
    "x2_v, x2_u =[x2[i].nominal_value for i in range(len(x2))],[x2[i].s for i in range(len(x2))]"
   ]
  },
  {
   "cell_type": "code",
   "execution_count": 10,
   "id": "female-manhattan",
   "metadata": {},
   "outputs": [
    {
     "data": {
      "text/plain": [
       "Text(0.5, 1.0, 'First series of measurements')"
      ]
     },
     "execution_count": 10,
     "metadata": {},
     "output_type": "execute_result"
    },
    {
     "data": {
      "image/png": "[encoded data removed]",
      "text/plain": [
       "<Figure size 432x288 with 1 Axes>"
      ]
     },
     "metadata": {
      "needs_background": "light"
     },
     "output_type": "display_data"
    }
   ],
   "source": [
    "plt.errorbar(x1_v , y_v , y_u , x1_u,fmt='o', c='r')\n",
    "plt.xlabel('Delta p/T [bar/C]')\n",
    "plt.ylabel('Delta n')\n",
    "plt.title('First series of measurements')"
   ]
  },
  {
   "cell_type": "code",
   "execution_count": 11,
   "id": "suitable-zimbabwe",
   "metadata": {},
   "outputs": [
    {
     "name": "stdout",
     "output_type": "stream",
     "text": [
      "Beta: [-0.00713732  0.00027556]\n",
      "Beta Std Error: [1.69807352e-04 3.96390976e-06]\n",
      "Beta Covariance: [[ 3.13134437e-07 -6.72216763e-09]\n",
      " [-6.72216763e-09  1.70633921e-10]]\n",
      "Residual Variance: 0.09208356990632269\n",
      "Inverse Condition #: 0.19921183585055194\n",
      "Reason(s) for Halting:\n",
      "  Sum of squares convergence\n"
     ]
    }
   ],
   "source": [
    "def linear_func(B, x):\n",
    "    return B[0]*x+B[1]\n",
    "\n",
    "x_data=x1_v\n",
    "y_data=y_v\n",
    "x_err=x1_u\n",
    "y_err=y_u\n",
    "\n",
    "linear=Model(linear_func)\n",
    "data=RealData(x_data, y_data, sx=x_err, sy=y_err)\n",
    "odr=ODR(data, linear, beta0=[-0.01, 0.0003])\n",
    "out=odr.run()\n",
    "out.pprint()"
   ]
  },
  {
   "cell_type": "code",
   "execution_count": 12,
   "id": "clear-setup",
   "metadata": {},
   "outputs": [
    {
     "data": {
      "text/plain": [
       "Text(0.5, 1.0, 'Second series of measurements')"
      ]
     },
     "execution_count": 12,
     "metadata": {},
     "output_type": "execute_result"
    },
    {
     "data": {
      "image/png": "[encoded data removed]",
      "text/plain": [
       "<Figure size 432x288 with 1 Axes>"
      ]
     },
     "metadata": {
      "needs_background": "light"
     },
     "output_type": "display_data"
    }
   ],
   "source": [
    "plt.errorbar(x2_v , y_v , y_u , x2_u,fmt='o', c='r')\n",
    "plt.xlabel('Delta p/T [bar/C]')\n",
    "plt.ylabel('Delta n')\n",
    "plt.title('Second series of measurements')"
   ]
  },
  {
   "cell_type": "code",
   "execution_count": 13,
   "id": "severe-farming",
   "metadata": {},
   "outputs": [
    {
     "name": "stdout",
     "output_type": "stream",
     "text": [
      "Beta: [-0.00713732  0.00027556]\n",
      "Beta Std Error: [1.6980738e-04 3.9639102e-06]\n",
      "Beta Covariance: [[ 3.13134540e-07 -6.72216958e-09]\n",
      " [-6.72216958e-09  1.70633958e-10]]\n",
      "Residual Variance: 0.09208356990632405\n",
      "Inverse Condition #: 0.15962270721896854\n",
      "Reason(s) for Halting:\n",
      "  Sum of squares convergence\n"
     ]
    }
   ],
   "source": [
    "def linear_func(B, x):\n",
    "    return B[0]*x+B[1]\n",
    "x2_data=x2_v\n",
    "y_data=y_v\n",
    "x2_err=x2_u\n",
    "y_err=y_u\n",
    "\n",
    "linear=Model(linear_func)\n",
    "data=RealData(x_data, y_data, sx=x_err, sy=y_err)\n",
    "odr=ODR(data, linear, beta0=[-0.007, 0.0003])\n",
    "out=odr.run()\n",
    "out.pprint()"
   ]
  },
  {
   "cell_type": "code",
   "execution_count": 82,
   "id": "paperback-oliver",
   "metadata": {},
   "outputs": [],
   "source": [
    "ksi1=ufloat(0.00713732,1.69807352*10**(-4))\n",
    "b1=ufloat(0.00027556,3.96390976*10**(-6))\n",
    "ksi2=ufloat(0.00713732,1.6980738*10**(-4))\n",
    "b2=ufloat(0.00027046,3.9639102*10**(-6))\n",
    "p=1\n",
    "n_minus1_1=ksi1*p/T\n",
    "n_minus1_2=ksi2*p/T"
   ]
  },
  {
   "cell_type": "code",
   "execution_count": 83,
   "id": "hired-construction",
   "metadata": {},
   "outputs": [],
   "source": [
    "def weighted_average(a,b):\n",
    "    wavg =ufloat((a.n/a.s**2 + b.n/b.s**2)/(1/a.s**2 + 1/b.s**2), \n",
    "                     np.sqrt(2/(1/a.s**2 + 1/b.s**2)))\n",
    "    return wavg"
   ]
  },
  {
   "cell_type": "code",
   "execution_count": 84,
   "id": "accessory-console",
   "metadata": {},
   "outputs": [
    {
     "data": {
      "text/plain": [
       "0.0002643451851851852+/-6.586938547674342e-06"
      ]
     },
     "execution_count": 84,
     "metadata": {},
     "output_type": "execute_result"
    }
   ],
   "source": [
    "n_minus1_avg=weighted_average(n_minus1_1,n_minus1_2)\n",
    "n_minus1_avg"
   ]
  },
  {
   "cell_type": "code",
   "execution_count": 85,
   "id": "respective-arena",
   "metadata": {},
   "outputs": [],
   "source": [
    "def linearFunc(x,intercept,slope):\n",
    "    y = intercept + slope * x\n",
    "    return y"
   ]
  },
  {
   "cell_type": "code",
   "execution_count": 86,
   "id": "controlling-progress",
   "metadata": {},
   "outputs": [],
   "source": [
    "#x1_v=np.array(x1_v)\n",
    "#x2_v=np.array(x2_v)\n",
    "x1_v_lp=np.linspace(x1_v[-1],x1_v[0]+0.002,100)\n",
    "x2_v_lp=np.linspace(0.007,x2_v[0]+0.002,100)"
   ]
  },
  {
   "cell_type": "code",
   "execution_count": 87,
   "id": "norwegian-alliance",
   "metadata": {
    "scrolled": false
   },
   "outputs": [],
   "source": [
    "y1_fit=linearFunc(x1_v_lp,float(b1.nominal_value),-float(ksi1.nominal_value))\n",
    "y2_fit=linearFunc(x2_v_lp,float(b2.nominal_value),-float(ksi2.nominal_value))"
   ]
  },
  {
   "cell_type": "code",
   "execution_count": 88,
   "id": "serious-musician",
   "metadata": {},
   "outputs": [
    {
     "data": {
      "image/png": "[encoded data removed]",
      "text/plain": [
       "<Figure size 432x288 with 1 Axes>"
      ]
     },
     "metadata": {
      "needs_background": "light"
     },
     "output_type": "display_data"
    }
   ],
   "source": [
    "plt.errorbar(x1_v , y_v , y_u , x1_u,fmt='o', c='r')\n",
    "plt.plot(x1_v_lp,y1_fit)\n",
    "plt.xlabel('Delta p/T [bar/C]')\n",
    "plt.ylabel('Delta n')\n",
    "#plt.title('First series of measurements')\n",
    "plt.savefig('Deltan_vs_Delp_1.png',bbox_inches=\"tight\")"
   ]
  },
  {
   "cell_type": "code",
   "execution_count": 89,
   "id": "offensive-security",
   "metadata": {},
   "outputs": [
    {
     "data": {
      "image/png": "[encoded data removed]",
      "text/plain": [
       "<Figure size 432x288 with 1 Axes>"
      ]
     },
     "metadata": {
      "needs_background": "light"
     },
     "output_type": "display_data"
    }
   ],
   "source": [
    "plt.errorbar(x2_v , y_v , y_u , x2_u,fmt='o', c='r')\n",
    "plt.plot(x2_v_lp,y2_fit)\n",
    "plt.xlabel('Delta p/T [bar/C]')\n",
    "plt.ylabel('Delta n')\n",
    "#plt.title('Second series of measurements')\n",
    "plt.savefig('Deltan_vsDel_2.png',bbox_inches=\"tight\")"
   ]
  },
  {
   "cell_type": "code",
   "execution_count": null,
   "id": "extended-physics",
   "metadata": {},
   "outputs": [],
   "source": []
  }
 ],
 "metadata": {
  "kernelspec": {
   "display_name": "Python 3",
   "language": "python",
   "name": "python3"
  },
  "language_info": {
   "codemirror_mode": {
    "name": "ipython",
    "version": 3
   },
   "file_extension": ".py",
   "mimetype": "text/x-python",
   "name": "python",
   "nbconvert_exporter": "python",
   "pygments_lexer": "ipython3",
   "version": "3.8.3"
  }
 },
 "nbformat": 4,
 "nbformat_minor": 5
}
