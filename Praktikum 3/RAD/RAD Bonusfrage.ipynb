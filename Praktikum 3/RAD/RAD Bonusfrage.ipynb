{
 "cells": [
  {
   "cell_type": "code",
   "execution_count": 26,
   "id": "ignored-train",
   "metadata": {},
   "outputs": [],
   "source": [
    "from scipy.integrate import quad\n",
    "import numpy as np\n",
    "import matplotlib.pyplot as plt"
   ]
  },
  {
   "cell_type": "code",
   "execution_count": 7,
   "id": "infrared-williams",
   "metadata": {},
   "outputs": [
    {
     "data": {
      "text/plain": [
       "2.48217271725e-09"
      ]
     },
     "execution_count": 7,
     "metadata": {},
     "output_type": "execute_result"
    }
   ],
   "source": [
    "wasser= 1.2e9 #liter wasser\n",
    "becq= 1e15 #groessenordnung an becquerel, decays per second\n",
    "beq_liter=becq/wasser #becquerel per liter; zerfaelle pro sekunde per Liter\n",
    "zerfall_energie= 18.591e3 # Energie in evolt von einem zerfall\n",
    "E_sec_lit= zerfall_energie*beq_liter*1.602177e-19 #Energie pro sekunde pro liter in Joule\n",
    "E_sec_lit"
   ]
  },
  {
   "cell_type": "code",
   "execution_count": 12,
   "id": "precise-business",
   "metadata": {},
   "outputs": [],
   "source": [
    "def function(t):\n",
    "    return np.exp(-np.log(2)*t/12.32)"
   ]
  },
  {
   "cell_type": "code",
   "execution_count": 22,
   "id": "governing-enterprise",
   "metadata": {},
   "outputs": [],
   "source": [
    "a=10\n",
    "b=np.inf"
   ]
  },
  {
   "cell_type": "code",
   "execution_count": 23,
   "id": "associate-assumption",
   "metadata": {},
   "outputs": [
    {
     "name": "stderr",
     "output_type": "stream",
     "text": [
      "<ipython-input-23-66189edacb8b>:1: IntegrationWarning: The integral is probably divergent, or slowly convergent.\n",
      "  Integral=quad(function,a,b)\n"
     ]
    },
    {
     "data": {
      "text/plain": [
       "(-0.9999999782319599, 1.4444671014857136e-08)"
      ]
     },
     "execution_count": 23,
     "metadata": {},
     "output_type": "execute_result"
    }
   ],
   "source": [
    "Integral=quad(function,a,b)\n",
    "Integral"
   ]
  },
  {
   "cell_type": "code",
   "execution_count": 27,
   "id": "ideal-exercise",
   "metadata": {},
   "outputs": [
    {
     "data": {
      "text/plain": [
       "[<matplotlib.lines.Line2D at 0x2a1d80290a0>]"
      ]
     },
     "execution_count": 27,
     "metadata": {},
     "output_type": "execute_result"
    },
    {
     "data": {
      "image/png": "[encoded data removed]",
      "text/plain": [
       "<Figure size 432x288 with 1 Axes>"
      ]
     },
     "metadata": {
      "needs_background": "light"
     },
     "output_type": "display_data"
    }
   ],
   "source": [
    "x=np.linspace(0,1000,1000)\n",
    "plt.plot(x,function(x))"
   ]
  },
  {
   "cell_type": "code",
   "execution_count": null,
   "id": "norman-sodium",
   "metadata": {},
   "outputs": [],
   "source": []
  }
 ],
 "metadata": {
  "kernelspec": {
   "display_name": "Python 3",
   "language": "python",
   "name": "python3"
  },
  "language_info": {
   "codemirror_mode": {
    "name": "ipython",
    "version": 3
   },
   "file_extension": ".py",
   "mimetype": "text/x-python",
   "name": "python",
   "nbconvert_exporter": "python",
   "pygments_lexer": "ipython3",
   "version": "3.8.3"
  }
 },
 "nbformat": 4,
 "nbformat_minor": 5
}
