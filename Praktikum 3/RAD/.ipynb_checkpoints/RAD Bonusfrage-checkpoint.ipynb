{
 "cells": [
  {
   "cell_type": "code",
   "execution_count": 7,
   "id": "infrared-williams",
   "metadata": {},
   "outputs": [
    {
     "data": {
      "text/plain": [
       "2.48217271725e-09"
      ]
     },
     "execution_count": 7,
     "metadata": {},
     "output_type": "execute_result"
    }
   ],
   "source": [
    "wasser= 1.2e9 #liter wasser\n",
    "becq= 1e15 #groessenordnung an becquerel, decays per second\n",
    "beq_liter=becq/wasser #becquerel per liter; zerfaelle pro sekunde per Liter\n",
    "zerfall_energie= 18.591e3 # Energie in evolt von einem zerfall\n",
    "E_sec_lit= zerfall_energie*beq_liter*1.602177e-19 #Energie pro sekunde pro liter in Joule\n",
    "E_sec_lit"
   ]
  },
  {
   "cell_type": "code",
   "execution_count": null,
   "id": "secure-joining",
   "metadata": {},
   "outputs": [],
   "source": []
  }
 ],
 "metadata": {
  "kernelspec": {
   "display_name": "Python 3",
   "language": "python",
   "name": "python3"
  },
  "language_info": {
   "codemirror_mode": {
    "name": "ipython",
    "version": 3
   },
   "file_extension": ".py",
   "mimetype": "text/x-python",
   "name": "python",
   "nbconvert_exporter": "python",
   "pygments_lexer": "ipython3",
   "version": "3.8.3"
  }
 },
 "nbformat": 4,
 "nbformat_minor": 5
}
