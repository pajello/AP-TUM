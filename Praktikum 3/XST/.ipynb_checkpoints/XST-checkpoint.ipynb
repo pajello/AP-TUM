{
 "cells": [
  {
   "cell_type": "code",
   "execution_count": 240,
   "id": "overall-enemy",
   "metadata": {},
   "outputs": [],
   "source": [
    "import pandas as pd\n",
    "import matplotlib.pyplot as plt\n",
    "import numpy as np\n",
    "from uncertainties import unumpy as unp\n",
    "from uncertainties import *\n",
    "from pylab import *\n",
    "from scipy.signal import savgol_filter, find_peaks, peak_widths\n",
    "from scipy.odr import *\n",
    "%matplotlib inline"
   ]
  },
  {
   "cell_type": "code",
   "execution_count": 241,
   "id": "swedish-locking",
   "metadata": {},
   "outputs": [
    {
     "data": {
      "text/html": [
       "<div>\n",
       "<style scoped>\n",
       "    .dataframe tbody tr th:only-of-type {\n",
       "        vertical-align: middle;\n",
       "    }\n",
       "\n",
       "    .dataframe tbody tr th {\n",
       "        vertical-align: top;\n",
       "    }\n",
       "\n",
       "    .dataframe thead th {\n",
       "        text-align: right;\n",
       "    }\n",
       "</style>\n",
       "<table border=\"1\" class=\"dataframe\">\n",
       "  <thead>\n",
       "    <tr style=\"text-align: right;\">\n",
       "      <th></th>\n",
       "      <th>Winkel NaCl</th>\n",
       "      <th>NaCl</th>\n",
       "      <th>Winkel Zirk</th>\n",
       "      <th>Zirk</th>\n",
       "      <th>Winkel NaCl.1</th>\n",
       "      <th>NaCl180</th>\n",
       "      <th>LiF</th>\n",
       "      <th>Strom</th>\n",
       "      <th>R_0</th>\n",
       "      <th>R_1</th>\n",
       "      <th>...</th>\n",
       "      <th>R_9</th>\n",
       "      <th>Unnamed: 18</th>\n",
       "      <th>Unnamed: 19</th>\n",
       "      <th>&amp;b / °</th>\n",
       "      <th>R_0 / 1/s</th>\n",
       "      <th>R_1 / 1/s</th>\n",
       "      <th>R_2 / 1/s</th>\n",
       "      <th>R_3 / 1/s</th>\n",
       "      <th>R_4 / 1/s</th>\n",
       "      <th>R_5 / 1/s</th>\n",
       "    </tr>\n",
       "  </thead>\n",
       "  <tbody>\n",
       "    <tr>\n",
       "      <th>0</th>\n",
       "      <td>2.0</td>\n",
       "      <td>6.0</td>\n",
       "      <td>4.0</td>\n",
       "      <td>96.0</td>\n",
       "      <td>2.0</td>\n",
       "      <td>4.0</td>\n",
       "      <td>2</td>\n",
       "      <td>8.0</td>\n",
       "      <td>20.5</td>\n",
       "      <td>51.8</td>\n",
       "      <td>...</td>\n",
       "      <td>249.0</td>\n",
       "      <td>NaN</td>\n",
       "      <td>NaN</td>\n",
       "      <td>4.0</td>\n",
       "      <td>16.1</td>\n",
       "      <td>NaN</td>\n",
       "      <td>NaN</td>\n",
       "      <td>NaN</td>\n",
       "      <td>NaN</td>\n",
       "      <td>NaN</td>\n",
       "    </tr>\n",
       "    <tr>\n",
       "      <th>1</th>\n",
       "      <td>2.1</td>\n",
       "      <td>4.0</td>\n",
       "      <td>4.1</td>\n",
       "      <td>103.0</td>\n",
       "      <td>2.1</td>\n",
       "      <td>4.0</td>\n",
       "      <td>3</td>\n",
       "      <td>8.1</td>\n",
       "      <td>25.8</td>\n",
       "      <td>52.8</td>\n",
       "      <td>...</td>\n",
       "      <td>251.0</td>\n",
       "      <td>NaN</td>\n",
       "      <td>NaN</td>\n",
       "      <td>4.1</td>\n",
       "      <td>15.4</td>\n",
       "      <td>NaN</td>\n",
       "      <td>NaN</td>\n",
       "      <td>NaN</td>\n",
       "      <td>NaN</td>\n",
       "      <td>NaN</td>\n",
       "    </tr>\n",
       "    <tr>\n",
       "      <th>2</th>\n",
       "      <td>2.2</td>\n",
       "      <td>5.0</td>\n",
       "      <td>4.2</td>\n",
       "      <td>93.0</td>\n",
       "      <td>2.2</td>\n",
       "      <td>3.0</td>\n",
       "      <td>7</td>\n",
       "      <td>8.2</td>\n",
       "      <td>24.5</td>\n",
       "      <td>53.8</td>\n",
       "      <td>...</td>\n",
       "      <td>239.8</td>\n",
       "      <td>NaN</td>\n",
       "      <td>NaN</td>\n",
       "      <td>4.2</td>\n",
       "      <td>14.9</td>\n",
       "      <td>NaN</td>\n",
       "      <td>NaN</td>\n",
       "      <td>NaN</td>\n",
       "      <td>NaN</td>\n",
       "      <td>NaN</td>\n",
       "    </tr>\n",
       "    <tr>\n",
       "      <th>3</th>\n",
       "      <td>2.3</td>\n",
       "      <td>8.0</td>\n",
       "      <td>4.3</td>\n",
       "      <td>152.0</td>\n",
       "      <td>2.3</td>\n",
       "      <td>4.0</td>\n",
       "      <td>8</td>\n",
       "      <td>8.3</td>\n",
       "      <td>28.3</td>\n",
       "      <td>49.0</td>\n",
       "      <td>...</td>\n",
       "      <td>227.5</td>\n",
       "      <td>NaN</td>\n",
       "      <td>NaN</td>\n",
       "      <td>4.3</td>\n",
       "      <td>17.3</td>\n",
       "      <td>NaN</td>\n",
       "      <td>NaN</td>\n",
       "      <td>NaN</td>\n",
       "      <td>NaN</td>\n",
       "      <td>NaN</td>\n",
       "    </tr>\n",
       "    <tr>\n",
       "      <th>4</th>\n",
       "      <td>2.4</td>\n",
       "      <td>7.0</td>\n",
       "      <td>4.4</td>\n",
       "      <td>130.0</td>\n",
       "      <td>2.4</td>\n",
       "      <td>6.0</td>\n",
       "      <td>8</td>\n",
       "      <td>8.4</td>\n",
       "      <td>24.8</td>\n",
       "      <td>52.0</td>\n",
       "      <td>...</td>\n",
       "      <td>236.3</td>\n",
       "      <td>NaN</td>\n",
       "      <td>NaN</td>\n",
       "      <td>4.4</td>\n",
       "      <td>18.0</td>\n",
       "      <td>NaN</td>\n",
       "      <td>NaN</td>\n",
       "      <td>NaN</td>\n",
       "      <td>NaN</td>\n",
       "      <td>NaN</td>\n",
       "    </tr>\n",
       "  </tbody>\n",
       "</table>\n",
       "<p>5 rows × 27 columns</p>\n",
       "</div>"
      ],
      "text/plain": [
       "   Winkel NaCl  NaCl  Winkel Zirk   Zirk  Winkel NaCl.1  NaCl180  LiF  Strom  \\\n",
       "0          2.0   6.0          4.0   96.0            2.0      4.0    2    8.0   \n",
       "1          2.1   4.0          4.1  103.0            2.1      4.0    3    8.1   \n",
       "2          2.2   5.0          4.2   93.0            2.2      3.0    7    8.2   \n",
       "3          2.3   8.0          4.3  152.0            2.3      4.0    8    8.3   \n",
       "4          2.4   7.0          4.4  130.0            2.4      6.0    8    8.4   \n",
       "\n",
       "   R_0   R_1   ...   R_9   Unnamed: 18  Unnamed: 19  &b / °  R_0 / 1/s  \\\n",
       "0  20.5  51.8  ...  249.0          NaN          NaN     4.0       16.1   \n",
       "1  25.8  52.8  ...  251.0          NaN          NaN     4.1       15.4   \n",
       "2  24.5  53.8  ...  239.8          NaN          NaN     4.2       14.9   \n",
       "3  28.3  49.0  ...  227.5          NaN          NaN     4.3       17.3   \n",
       "4  24.8  52.0  ...  236.3          NaN          NaN     4.4       18.0   \n",
       "\n",
       "   R_1 / 1/s  R_2 / 1/s  R_3 / 1/s  R_4 / 1/s  R_5 / 1/s  \n",
       "0        NaN        NaN        NaN        NaN        NaN  \n",
       "1        NaN        NaN        NaN        NaN        NaN  \n",
       "2        NaN        NaN        NaN        NaN        NaN  \n",
       "3        NaN        NaN        NaN        NaN        NaN  \n",
       "4        NaN        NaN        NaN        NaN        NaN  \n",
       "\n",
       "[5 rows x 27 columns]"
      ]
     },
     "execution_count": 241,
     "metadata": {},
     "output_type": "execute_result"
    }
   ],
   "source": [
    "df = pd.read_excel (r'XST_Daten.xlsx')\n",
    "#df = df.drop(0,0)\n",
    "df.head()"
   ]
  },
  {
   "cell_type": "markdown",
   "id": "tight-denial",
   "metadata": {},
   "source": [
    "Aufgabe 1, comparison von NaCl mit sichselbst gedreht fuer unsicherheit"
   ]
  },
  {
   "cell_type": "code",
   "execution_count": 242,
   "id": "damaged-giant",
   "metadata": {
    "scrolled": false
   },
   "outputs": [
    {
     "data": {
      "image/png": "[encoded data removed]",
      "text/plain": [
       "<Figure size 432x288 with 1 Axes>"
      ]
     },
     "metadata": {
      "needs_background": "light"
     },
     "output_type": "display_data"
    }
   ],
   "source": [
    "plt.plot(df['Winkel NaCl'],df['NaCl'])\n",
    "plt.plot(df['Winkel NaCl'],df['NaCl180'])\n",
    "dist=8\n",
    "prom=80\n",
    "(peak_pos, properties) = find_peaks(df['NaCl'],distance=dist,prominence=prom, width=1)\n",
    "(peak_pos180, properties180) = find_peaks(df['NaCl180'],distance=dist,prominence=prom, width=1)\n",
    "x_list=[]\n",
    "y_list=[]\n",
    "x_list180 =[]\n",
    "y_list180=[]\n",
    "for pos in peak_pos:\n",
    "    x_list.append(df['Winkel NaCl'][pos])\n",
    "    y_list.append(df['NaCl'][pos])\n",
    "for pos in peak_pos180:\n",
    "    x_list180.append(df['Winkel NaCl.1'][pos])\n",
    "    y_list180.append(df['NaCl180'][pos])\n",
    "x_list=x_list[:2]\n",
    "y_list=y_list[:2]\n",
    "plt.scatter(x_list,y_list,color='Green')\n",
    "plt.xlabel('Angle [deg]')\n",
    "plt.ylabel('Intensity')\n",
    "plt.savefig('Aufgabe 1',bbox_inches=\"tight\")"
   ]
  },
  {
   "cell_type": "code",
   "execution_count": 57,
   "id": "nervous-hurricane",
   "metadata": {},
   "outputs": [],
   "source": [
    "widths,widths180= properties['widths'],properties180['widths']\n",
    "widths,widths180=np.array(widths[:2]),np.array(widths)\n",
    "halfwidths,halfwidths180= widths/2,widths180/2"
   ]
  },
  {
   "cell_type": "code",
   "execution_count": 63,
   "id": "disabled-title",
   "metadata": {},
   "outputs": [
    {
     "data": {
      "text/plain": [
       "array([1.35518368, 1.64872073])"
      ]
     },
     "execution_count": 63,
     "metadata": {},
     "output_type": "execute_result"
    }
   ],
   "source": [
    "halfwidths"
   ]
  },
  {
   "cell_type": "code",
   "execution_count": 58,
   "id": "personal-memorabilia",
   "metadata": {},
   "outputs": [],
   "source": [
    "def unc(value,err):\n",
    "    return ufloat(value,err)"
   ]
  },
  {
   "cell_type": "code",
   "execution_count": 68,
   "id": "proprietary-filling",
   "metadata": {},
   "outputs": [],
   "source": [
    "winkel_1=unc(x_list[0],0.05) \n",
    "winkel_2=unc(x_list[1],0.05)\n",
    "winkel180_1=unc(x_list180[0],0.05) \n",
    "winkel180_2=unc(x_list180[1],0.05)"
   ]
  },
  {
   "cell_type": "code",
   "execution_count": 69,
   "id": "black-basic",
   "metadata": {},
   "outputs": [
    {
     "name": "stdout",
     "output_type": "stream",
     "text": [
      "6.40+/-0.05 7.20+/-0.05\n",
      "6.30+/-0.05 7.20+/-0.05\n"
     ]
    }
   ],
   "source": [
    "print(winkel_1,winkel_2)\n",
    "print(winkel180_1,winkel180_2)"
   ]
  },
  {
   "cell_type": "code",
   "execution_count": 70,
   "id": "exposed-civilization",
   "metadata": {},
   "outputs": [],
   "source": [
    "winkelfehler=(winkel_1-winkel180_1)/2"
   ]
  },
  {
   "cell_type": "code",
   "execution_count": 243,
   "id": "viral-temperature",
   "metadata": {},
   "outputs": [
    {
     "data": {
      "text/plain": [
       "0.08"
      ]
     },
     "execution_count": 243,
     "metadata": {},
     "output_type": "execute_result"
    }
   ],
   "source": [
    "winkelfehler\n",
    "0.05+0.03"
   ]
  },
  {
   "cell_type": "markdown",
   "id": "respected-yesterday",
   "metadata": {},
   "source": [
    " # Aufgabe 9\n",
    " Transmission der Zirkonium-Folie"
   ]
  },
  {
   "cell_type": "code",
   "execution_count": 367,
   "id": "closed-weekly",
   "metadata": {},
   "outputs": [
    {
     "name": "stdout",
     "output_type": "stream",
     "text": [
      "0.50+/-0.05\n"
     ]
    },
    {
     "data": {
      "image/png": "[encoded data removed]",
      "text/plain": [
       "<Figure size 432x288 with 1 Axes>"
      ]
     },
     "metadata": {
      "needs_background": "light"
     },
     "output_type": "display_data"
    }
   ],
   "source": [
    "I0=np.array(df['NaCl'])\n",
    "x=np.array(df['Winkel Zirk'])/(2*np.pi)\n",
    "I0=I0[20:]\n",
    "I=np.array(df['Zirk'])\n",
    "I,x=I[0:len(I0)],x[0:len(I0)]\n",
    "Trans=I/I0\n",
    "Abs=1-Trans\n",
    "d=564.02e-12\n",
    "#I0=I0[0:]\n",
    "mu= (-1/d)*np.log(Abs/I0)\n",
    "x = x[np.logical_not(np.isnan(x))]\n",
    "Abs =Abs[np.logical_not(np.isnan(Abs))]\n",
    "lam=d*np.sin(x)*10**9\n",
    "lam_abs=d*np.sin(1.1)*10**9\n",
    "lam_abs=ufloat(lam_abs,lam_abs*0.1)\n",
    "plt.xlabel('Wawelenghts [nm]')\n",
    "plt.ylabel('Absorptioncoefficient')\n",
    "plt.title('Absorptionedge')\n",
    "plt.scatter(lam,Abs)\n",
    "plt.savefig('Absorptionskante',bbox_inches=\"tight\")\n",
    "print(lam_abs)"
   ]
  },
  {
   "cell_type": "code",
   "execution_count": 148,
   "id": "particular-section",
   "metadata": {},
   "outputs": [
    {
     "data": {
      "text/plain": [
       "2.010635100887403+/-0.20106351008874032"
      ]
     },
     "execution_count": 148,
     "metadata": {},
     "output_type": "execute_result"
    }
   ],
   "source": [
    "h=6.62607004\n",
    "c=3\n",
    "ten=-34+8+9+19\n",
    "lam_abs"
   ]
  },
  {
   "cell_type": "code",
   "execution_count": 149,
   "id": "unavailable-particular",
   "metadata": {},
   "outputs": [
    {
     "data": {
      "text/plain": [
       "617.1368865462822+/-61.71368865462823"
      ]
     },
     "execution_count": 149,
     "metadata": {},
     "output_type": "execute_result"
    }
   ],
   "source": [
    "E=(h*c*10**ten)/(lam_abs*1.602)\n",
    "E"
   ]
  },
  {
   "cell_type": "markdown",
   "id": "bored-billy",
   "metadata": {},
   "source": [
    "# Aufgabe 8"
   ]
  },
  {
   "cell_type": "code",
   "execution_count": 258,
   "id": "thick-interface",
   "metadata": {},
   "outputs": [
    {
     "data": {
      "image/png": "[encoded data removed]",
      "text/plain": [
       "<Figure size 432x288 with 1 Axes>"
      ]
     },
     "metadata": {
      "needs_background": "light"
     },
     "output_type": "display_data"
    }
   ],
   "source": [
    "#A1\n",
    "winkel=df['Winkel NaCl']\n",
    "intensi=df['NaCl']\n",
    "\n",
    "\n",
    "#find peaks\n",
    "peaks1=[]\n",
    "peaks2=[]\n",
    "peaks3=[]\n",
    "prom1=50\n",
    "dist1=1\n",
    "peaks_1,propertiesx=find_peaks(intensi,distance=dist1,prominence=prom1, width=1)\n",
    "x_list2=[]\n",
    "y_list2=[]\n",
    "for pos in peaks_1:\n",
    "    x_list2.append(df['Winkel NaCl'][pos])\n",
    "    y_list2.append(df['NaCl'][pos])\n",
    "x_list2=x_list2[1:]\n",
    "x_list2=np.array(x_list2)\n",
    "y_list2=y_list2[1:]\n",
    "widths=propertiesx['widths']\n",
    "plt.scatter(x_list2,y_list2,color='Green')\n",
    "plt.plot(winkel,intensi)\n",
    "plt.xlabel(\"Angle [°]\")\n",
    "plt.ylabel(\"Particles detected\")\n",
    "#plt.title(titel[i])\n",
    "#plt.legend()\n",
    "plt.savefig(\"A4.jpg\", dpi=150)"
   ]
  },
  {
   "cell_type": "code",
   "execution_count": 296,
   "id": "stretch-premises",
   "metadata": {},
   "outputs": [],
   "source": [
    "x_list2_err=[]\n",
    "for i in x_list2:\n",
    "    x=ufloat(i,0.08)\n",
    "    x_list2_err.append(x)\n",
    "x_list2_err=np.array(x_list2_err)\n",
    "d=564.02e-12\n",
    "lam1=np.array(d*unp.sin(unp.radians(x_list2_err[0:2])))\n",
    "lam2=np.array(d*unp.sin(unp.radians(x_list2_err[2:4])))/2\n",
    "lam3=np.array(d*unp.sin(unp.radians(x_list2_err[-1])))/3"
   ]
  },
  {
   "cell_type": "code",
   "execution_count": 297,
   "id": "sunset-flesh",
   "metadata": {},
   "outputs": [
    {
     "name": "stdout",
     "output_type": "stream",
     "text": [
      "[6.28707071430117e-11+/-7.826125924503457e-13\n",
      " 7.069045039493889e-11+/-7.813106495323968e-13]\n",
      "[6.295876521624839e-11+/-3.8382220360381043e-13\n",
      " 7.060966494339303e-11+/-3.8121804905464626e-13]\n",
      "(7.073+/-0.024)e-11\n"
     ]
    }
   ],
   "source": [
    "print(lam1)\n",
    "print(lam2)\n",
    "print(lam3)"
   ]
  },
  {
   "cell_type": "code",
   "execution_count": 308,
   "id": "martial-yukon",
   "metadata": {
    "scrolled": true
   },
   "outputs": [
    {
     "name": "stdout",
     "output_type": "stream",
     "text": [
      "[19.73633099624275+/-0.24567722979945075\n",
      " 17.553107657539556+/-0.19400682650348777]\n",
      "[19.708726527280856+/-0.12015240165436933\n",
      " 17.573190400168123+/-0.09487677593978978]\n",
      "17.54+/-0.06\n"
     ]
    }
   ],
   "source": [
    "E1=(h*c*10**ten)/(lam1*10**12*1.602) #in eV\n",
    "E2=(h*c*10**ten)/(lam2*10**12*1.602) #in eV\n",
    "E3=(h*c*10**ten)/(lam3*10**12*1.602) #in eV\n",
    "print(E1)\n",
    "print(E2)\n",
    "print(E3)"
   ]
  },
  {
   "cell_type": "code",
   "execution_count": 372,
   "id": "caroline-summary",
   "metadata": {},
   "outputs": [
    {
     "name": "stdout",
     "output_type": "stream",
     "text": [
      "The weighted average of the K-beta line is at 62.94169146453737 +- 0.4611444505442989 pm\n",
      "The weighted average of the K-alpha line is at 70.69665747358628 +- 0.31524122186798864 pm\n"
     ]
    }
   ],
   "source": [
    "#weighted average lamda\n",
    "lam=np.concatenate((lam1,lam2)) \n",
    "lam= np.append(lam,lam3)\n",
    "lam*=10**12 #in pm\n",
    "lam_val=unp.nominal_values(lam)\n",
    "lam_err=unp.std_devs(lam)\n",
    "weight= 1/(unp.std_devs(lam))**2\n",
    "lam_beta=np.array([lam_val[0],lam_val[2]])\n",
    "lam_alpha=np.array([lam_val[1],lam_val[3],lam_val[-1]])\n",
    "lam_err_beta=np.array([lam_err[0],lam_err[2]])\n",
    "lam_err_alpha=np.array([lam_err[1],lam_err[3],lam_err[-1]])\n",
    "w_beta=np.array([weight[0],weight[2]])\n",
    "w_alpha=np.array([weight[1],weight[3],weight[-1]])\n",
    "avg_beta_lam=np.average(lam_beta,weights=w_beta)\n",
    "avg_err_beta_lam=np.average(lam_err_beta,weights=w_beta)\n",
    "avg_alpha_lam=np.average(lam_alpha,weights=w_alpha)\n",
    "avg_err_alpha_lam=np.average(lam_err_alpha,weights=w_alpha)\n",
    "print(f'The weighted average of the K-beta line is at {avg_beta_lam} +- {avg_err_beta_lam} pm')\n",
    "print(f'The weighted average of the K-alpha line is at {avg_alpha_lam} +- {avg_err_alpha_lam} pm')"
   ]
  },
  {
   "cell_type": "code",
   "execution_count": 358,
   "id": "divided-favorite",
   "metadata": {},
   "outputs": [
    {
     "name": "stdout",
     "output_type": "stream",
     "text": [
      "The weighted average of the K-beta line is at 19.714054697915184 +- 0.14438100406381743 keV\n",
      "The weighted average of the K-alpha line is at 17.551535849482228 +- 0.07823907746611375 keV\n"
     ]
    }
   ],
   "source": [
    "#weighted average energies\n",
    "#everything is called lambda but we are working with energies\n",
    "lam=np.concatenate((E1,E2)) \n",
    "lam= np.append(lam,E3)\n",
    "lam_val=unp.nominal_values(lam)\n",
    "lam_err=unp.std_devs(lam)\n",
    "weight= 1/(unp.std_devs(lam))**2\n",
    "lam_beta=np.array([lam_val[0],lam_val[2]])\n",
    "lam_alpha=np.array([lam_val[1],lam_val[3],lam_val[-1]])\n",
    "lam_err_beta=np.array([lam_err[0],lam_err[2]])\n",
    "lam_err_alpha=np.array([lam_err[1],lam_err[3],lam_err[-1]])\n",
    "w_beta=np.array([weight[0],weight[2]])\n",
    "w_alpha=np.array([weight[1],weight[3],weight[-1]])\n",
    "avg_beta=np.average(lam_beta,weights=w_beta)\n",
    "avg_err_beta=np.average(lam_err_beta,weights=w_beta)\n",
    "avg_alpha=np.average(lam_alpha,weights=w_alpha)\n",
    "avg_err_alpha=np.average(lam_err_alpha,weights=w_alpha)\n",
    "print(f'The weighted average of the K-beta line is at {avg_beta} +- {avg_err_beta} keV')\n",
    "print(f'The weighted average of the K-alpha line is at {avg_alpha} +- {avg_err_alpha} keV')"
   ]
  }
 ],
 "metadata": {
  "kernelspec": {
   "display_name": "Python 3",
   "language": "python",
   "name": "python3"
  },
  "language_info": {
   "codemirror_mode": {
    "name": "ipython",
    "version": 3
   },
   "file_extension": ".py",
   "mimetype": "text/x-python",
   "name": "python",
   "nbconvert_exporter": "python",
   "pygments_lexer": "ipython3",
   "version": "3.8.3"
  }
 },
 "nbformat": 4,
 "nbformat_minor": 5
}
