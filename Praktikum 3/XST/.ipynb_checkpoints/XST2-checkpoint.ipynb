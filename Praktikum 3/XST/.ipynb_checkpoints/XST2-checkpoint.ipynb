{
 "cells": [
  {
   "cell_type": "code",
   "execution_count": 1,
   "id": "homeless-prototype",
   "metadata": {},
   "outputs": [
    {
     "ename": "ModuleNotFoundError",
     "evalue": "No module named 'uncertainties'",
     "output_type": "error",
     "traceback": [
      "\u001b[1;31m---------------------------------------------------------------------------\u001b[0m",
      "\u001b[1;31mModuleNotFoundError\u001b[0m                       Traceback (most recent call last)",
      "\u001b[1;32m~\\AppData\\Local\\Temp/ipykernel_59428/2074902806.py\u001b[0m in \u001b[0;36m<module>\u001b[1;34m\u001b[0m\n\u001b[0;32m      2\u001b[0m \u001b[1;32mimport\u001b[0m \u001b[0mmatplotlib\u001b[0m\u001b[1;33m.\u001b[0m\u001b[0mpyplot\u001b[0m \u001b[1;32mas\u001b[0m \u001b[0mplt\u001b[0m\u001b[1;33m\u001b[0m\u001b[1;33m\u001b[0m\u001b[0m\n\u001b[0;32m      3\u001b[0m \u001b[1;32mimport\u001b[0m \u001b[0mnumpy\u001b[0m \u001b[1;32mas\u001b[0m \u001b[0mnp\u001b[0m\u001b[1;33m\u001b[0m\u001b[1;33m\u001b[0m\u001b[0m\n\u001b[1;32m----> 4\u001b[1;33m \u001b[1;32mfrom\u001b[0m \u001b[0muncertainties\u001b[0m \u001b[1;32mimport\u001b[0m \u001b[0munumpy\u001b[0m \u001b[1;32mas\u001b[0m \u001b[0munp\u001b[0m\u001b[1;33m\u001b[0m\u001b[1;33m\u001b[0m\u001b[0m\n\u001b[0m\u001b[0;32m      5\u001b[0m \u001b[1;32mfrom\u001b[0m \u001b[0muncertainties\u001b[0m \u001b[1;32mimport\u001b[0m \u001b[1;33m*\u001b[0m\u001b[1;33m\u001b[0m\u001b[1;33m\u001b[0m\u001b[0m\n\u001b[0;32m      6\u001b[0m \u001b[1;32mfrom\u001b[0m \u001b[0mpylab\u001b[0m \u001b[1;32mimport\u001b[0m \u001b[1;33m*\u001b[0m\u001b[1;33m\u001b[0m\u001b[1;33m\u001b[0m\u001b[0m\n",
      "\u001b[1;31mModuleNotFoundError\u001b[0m: No module named 'uncertainties'"
     ]
    }
   ],
   "source": [
    "import pandas as pd\n",
    "import matplotlib.pyplot as plt\n",
    "import numpy as np\n",
    "#from uncertainties import unumpy as unp\n",
    "#from uncertainties import *\n",
    "from pylab import *\n",
    "from scipy.signal import savgol_filter, find_peaks, peak_widths\n",
    "from scipy.optimize import curve_fit\n",
    "import lmfit\n",
    "from lmfit import Model, Parameter, report_fit\n",
    "%matplotlib inline"
   ]
  },
  {
   "cell_type": "code",
   "execution_count": 39,
   "id": "instant-weekly",
   "metadata": {},
   "outputs": [
    {
     "data": {
      "text/html": [
       "<div>\n",
       "<style scoped>\n",
       "    .dataframe tbody tr th:only-of-type {\n",
       "        vertical-align: middle;\n",
       "    }\n",
       "\n",
       "    .dataframe tbody tr th {\n",
       "        vertical-align: top;\n",
       "    }\n",
       "\n",
       "    .dataframe thead th {\n",
       "        text-align: right;\n",
       "    }\n",
       "</style>\n",
       "<table border=\"1\" class=\"dataframe\">\n",
       "  <thead>\n",
       "    <tr style=\"text-align: right;\">\n",
       "      <th></th>\n",
       "      <th>Winkel NaCl</th>\n",
       "      <th>NaCl</th>\n",
       "      <th>Winkel Zirk</th>\n",
       "      <th>Zirk</th>\n",
       "      <th>Winkel NaCl.1</th>\n",
       "      <th>NaCl180</th>\n",
       "      <th>LiF</th>\n",
       "      <th>Winkel Strom</th>\n",
       "      <th>R_0</th>\n",
       "      <th>R_1</th>\n",
       "      <th>...</th>\n",
       "      <th>R_9</th>\n",
       "      <th>Unnamed: 18</th>\n",
       "      <th>Unnamed: 19</th>\n",
       "      <th>&amp;b / °</th>\n",
       "      <th>R_0 / 1/s</th>\n",
       "      <th>R_1 / 1/s</th>\n",
       "      <th>R_2 / 1/s</th>\n",
       "      <th>R_3 / 1/s</th>\n",
       "      <th>R_4 / 1/s</th>\n",
       "      <th>R_5 / 1/s</th>\n",
       "    </tr>\n",
       "  </thead>\n",
       "  <tbody>\n",
       "    <tr>\n",
       "      <th>0</th>\n",
       "      <td>2.0</td>\n",
       "      <td>6.0</td>\n",
       "      <td>4.0</td>\n",
       "      <td>96.0</td>\n",
       "      <td>2.0</td>\n",
       "      <td>4.0</td>\n",
       "      <td>2</td>\n",
       "      <td>8.0</td>\n",
       "      <td>20.5</td>\n",
       "      <td>51.8</td>\n",
       "      <td>...</td>\n",
       "      <td>249.0</td>\n",
       "      <td>NaN</td>\n",
       "      <td>NaN</td>\n",
       "      <td>4.0</td>\n",
       "      <td>16.1</td>\n",
       "      <td>NaN</td>\n",
       "      <td>NaN</td>\n",
       "      <td>NaN</td>\n",
       "      <td>NaN</td>\n",
       "      <td>NaN</td>\n",
       "    </tr>\n",
       "    <tr>\n",
       "      <th>1</th>\n",
       "      <td>2.1</td>\n",
       "      <td>4.0</td>\n",
       "      <td>4.1</td>\n",
       "      <td>103.0</td>\n",
       "      <td>2.1</td>\n",
       "      <td>4.0</td>\n",
       "      <td>3</td>\n",
       "      <td>8.1</td>\n",
       "      <td>25.8</td>\n",
       "      <td>52.8</td>\n",
       "      <td>...</td>\n",
       "      <td>251.0</td>\n",
       "      <td>NaN</td>\n",
       "      <td>NaN</td>\n",
       "      <td>4.1</td>\n",
       "      <td>15.4</td>\n",
       "      <td>NaN</td>\n",
       "      <td>NaN</td>\n",
       "      <td>NaN</td>\n",
       "      <td>NaN</td>\n",
       "      <td>NaN</td>\n",
       "    </tr>\n",
       "    <tr>\n",
       "      <th>2</th>\n",
       "      <td>2.2</td>\n",
       "      <td>5.0</td>\n",
       "      <td>4.2</td>\n",
       "      <td>93.0</td>\n",
       "      <td>2.2</td>\n",
       "      <td>3.0</td>\n",
       "      <td>7</td>\n",
       "      <td>8.2</td>\n",
       "      <td>24.5</td>\n",
       "      <td>53.8</td>\n",
       "      <td>...</td>\n",
       "      <td>239.8</td>\n",
       "      <td>NaN</td>\n",
       "      <td>NaN</td>\n",
       "      <td>4.2</td>\n",
       "      <td>14.9</td>\n",
       "      <td>NaN</td>\n",
       "      <td>NaN</td>\n",
       "      <td>NaN</td>\n",
       "      <td>NaN</td>\n",
       "      <td>NaN</td>\n",
       "    </tr>\n",
       "    <tr>\n",
       "      <th>3</th>\n",
       "      <td>2.3</td>\n",
       "      <td>8.0</td>\n",
       "      <td>4.3</td>\n",
       "      <td>152.0</td>\n",
       "      <td>2.3</td>\n",
       "      <td>4.0</td>\n",
       "      <td>8</td>\n",
       "      <td>8.3</td>\n",
       "      <td>28.3</td>\n",
       "      <td>49.0</td>\n",
       "      <td>...</td>\n",
       "      <td>227.5</td>\n",
       "      <td>NaN</td>\n",
       "      <td>NaN</td>\n",
       "      <td>4.3</td>\n",
       "      <td>17.3</td>\n",
       "      <td>NaN</td>\n",
       "      <td>NaN</td>\n",
       "      <td>NaN</td>\n",
       "      <td>NaN</td>\n",
       "      <td>NaN</td>\n",
       "    </tr>\n",
       "    <tr>\n",
       "      <th>4</th>\n",
       "      <td>2.4</td>\n",
       "      <td>7.0</td>\n",
       "      <td>4.4</td>\n",
       "      <td>130.0</td>\n",
       "      <td>2.4</td>\n",
       "      <td>6.0</td>\n",
       "      <td>8</td>\n",
       "      <td>8.4</td>\n",
       "      <td>24.8</td>\n",
       "      <td>52.0</td>\n",
       "      <td>...</td>\n",
       "      <td>236.3</td>\n",
       "      <td>NaN</td>\n",
       "      <td>NaN</td>\n",
       "      <td>4.4</td>\n",
       "      <td>18.0</td>\n",
       "      <td>NaN</td>\n",
       "      <td>NaN</td>\n",
       "      <td>NaN</td>\n",
       "      <td>NaN</td>\n",
       "      <td>NaN</td>\n",
       "    </tr>\n",
       "  </tbody>\n",
       "</table>\n",
       "<p>5 rows × 27 columns</p>\n",
       "</div>"
      ],
      "text/plain": [
       "   Winkel NaCl  NaCl  Winkel Zirk   Zirk  Winkel NaCl.1  NaCl180  LiF  \\\n",
       "0          2.0   6.0          4.0   96.0            2.0      4.0    2   \n",
       "1          2.1   4.0          4.1  103.0            2.1      4.0    3   \n",
       "2          2.2   5.0          4.2   93.0            2.2      3.0    7   \n",
       "3          2.3   8.0          4.3  152.0            2.3      4.0    8   \n",
       "4          2.4   7.0          4.4  130.0            2.4      6.0    8   \n",
       "\n",
       "   Winkel Strom  R_0   R_1   ...   R_9   Unnamed: 18  Unnamed: 19  &b / °  \\\n",
       "0           8.0  20.5  51.8  ...  249.0          NaN          NaN     4.0   \n",
       "1           8.1  25.8  52.8  ...  251.0          NaN          NaN     4.1   \n",
       "2           8.2  24.5  53.8  ...  239.8          NaN          NaN     4.2   \n",
       "3           8.3  28.3  49.0  ...  227.5          NaN          NaN     4.3   \n",
       "4           8.4  24.8  52.0  ...  236.3          NaN          NaN     4.4   \n",
       "\n",
       "   R_0 / 1/s  R_1 / 1/s  R_2 / 1/s  R_3 / 1/s  R_4 / 1/s  R_5 / 1/s  \n",
       "0       16.1        NaN        NaN        NaN        NaN        NaN  \n",
       "1       15.4        NaN        NaN        NaN        NaN        NaN  \n",
       "2       14.9        NaN        NaN        NaN        NaN        NaN  \n",
       "3       17.3        NaN        NaN        NaN        NaN        NaN  \n",
       "4       18.0        NaN        NaN        NaN        NaN        NaN  \n",
       "\n",
       "[5 rows x 27 columns]"
      ]
     },
     "execution_count": 39,
     "metadata": {},
     "output_type": "execute_result"
    }
   ],
   "source": [
    "df = pd.read_excel (r'XST_Daten.xlsx')\n",
    "#df = df.drop(0,0)\n",
    "cols={'Strom':'Winkel Strom'}\n",
    "df.rename(columns=cols,inplace=True)\n",
    "df.head()"
   ]
  },
  {
   "cell_type": "code",
   "execution_count": 79,
   "id": "sitting-wells",
   "metadata": {},
   "outputs": [
    {
     "data": {
      "image/png": "[encoded data removed]",
      "text/plain": [
       "<Figure size 432x288 with 1 Axes>"
      ]
     },
     "metadata": {
      "needs_background": "light"
     },
     "output_type": "display_data"
    }
   ],
   "source": [
    "plt.plot(df['Winkel NaCl'],df['LiF'])\n",
    "dist=8\n",
    "prom=80\n",
    "(peak_pos, properties) = find_peaks(df['LiF'],distance=dist,prominence=prom, width=1)\n",
    "x_list=[]\n",
    "y_list=[]\n",
    "for pos in peak_pos:\n",
    "    x_list.append(df['Winkel NaCl'][pos])\n",
    "    y_list.append(df['LiF'][pos])\n",
    "plt.scatter(x_list,y_list,color='Green')\n",
    "plt.xlabel('Angle [deg]')\n",
    "plt.ylabel('particles detected')\n",
    "plt.savefig('LiF Spektrum',bbox_inches=\"tight\")"
   ]
  },
  {
   "cell_type": "code",
   "execution_count": 80,
   "id": "delayed-brook",
   "metadata": {
    "scrolled": true
   },
   "outputs": [
    {
     "name": "stdout",
     "output_type": "stream",
     "text": [
      "[397.51370948937625+/-6.027433999805011\n",
      " 395.3530438870728+/-5.3157250336059985\n",
      " 397.68299399799105+/-2.591755542036165]\n"
     ]
    }
   ],
   "source": [
    "#Berechnung der Gitterkonstante von LiF \n",
    "lam_K_beta1=ufloat(62.87,0.78) #in pm\n",
    "lam_K_alpha1=ufloat(70.69,0.78)\n",
    "lam_K_alpha2=ufloat(70.61,0.38)\n",
    "lam=np.array([lam_K_beta1,lam_K_alpha1,lam_K_alpha2])\n",
    "n=np.array([1,1,2])\n",
    "deg_ulist=[]\n",
    "for ang in x_list:\n",
    "    x=ufloat(ang,0.08)\n",
    "    deg_ulist.append(x)\n",
    "d=n*lam/(2*unp.sin(unp.radians(deg_ulist)))\n",
    "a=np.array(2*d)\n",
    "print(a)"
   ]
  },
  {
   "cell_type": "code",
   "execution_count": 26,
   "id": "activated-stack",
   "metadata": {},
   "outputs": [
    {
     "name": "stdout",
     "output_type": "stream",
     "text": [
      "[9.1, 10.3, 20.8]\n"
     ]
    }
   ],
   "source": [
    "print(x_list)"
   ]
  },
  {
   "cell_type": "code",
   "execution_count": 81,
   "id": "compound-token",
   "metadata": {},
   "outputs": [
    {
     "name": "stdout",
     "output_type": "stream",
     "text": [
      "397.2716578261351+-3.4934590633744516\n"
     ]
    }
   ],
   "source": [
    "#weighted average\n",
    "weight= 1/(unp.std_devs(a))**2\n",
    "a_val=unp.nominal_values(a)\n",
    "a_u=unp.std_devs(a)\n",
    "a_avg=np.average(a_val,weights=weight)\n",
    "au_avg=np.average(a_u,weights=weight)\n",
    "print(f'{a_avg}+-{au_avg}')"
   ]
  },
  {
   "cell_type": "markdown",
   "id": "historical-absence",
   "metadata": {},
   "source": [
    "# Aufgabe 11 \n",
    "T is wie lange der detektor gelaufen ist\n",
    "R ereignisrate, wie viele zerfaelle wurden gemessen\n",
    "I strom geht von 0.1 zu 1 in schritten von 10"
   ]
  },
  {
   "cell_type": "code",
   "execution_count": 2,
   "id": "corresponding-florida",
   "metadata": {},
   "outputs": [
    {
     "data": {
      "text/html": [
       "<div>\n",
       "<style scoped>\n",
       "    .dataframe tbody tr th:only-of-type {\n",
       "        vertical-align: middle;\n",
       "    }\n",
       "\n",
       "    .dataframe tbody tr th {\n",
       "        vertical-align: top;\n",
       "    }\n",
       "\n",
       "    .dataframe thead th {\n",
       "        text-align: right;\n",
       "    }\n",
       "</style>\n",
       "<table border=\"1\" class=\"dataframe\">\n",
       "  <thead>\n",
       "    <tr style=\"text-align: right;\">\n",
       "      <th></th>\n",
       "      <th>0.1</th>\n",
       "      <th>0.2</th>\n",
       "      <th>0.3</th>\n",
       "      <th>0.4</th>\n",
       "      <th>0.5</th>\n",
       "      <th>0.6</th>\n",
       "      <th>0.7</th>\n",
       "      <th>0.8</th>\n",
       "      <th>0.9</th>\n",
       "      <th>1.0</th>\n",
       "    </tr>\n",
       "  </thead>\n",
       "  <tbody>\n",
       "    <tr>\n",
       "      <th>0</th>\n",
       "      <td>1350.1</td>\n",
       "      <td>2680.5</td>\n",
       "      <td>4068.3</td>\n",
       "      <td>5362.8</td>\n",
       "      <td>6630.1</td>\n",
       "      <td>7920.9</td>\n",
       "      <td>9039.9</td>\n",
       "      <td>10275.9</td>\n",
       "      <td>11417.7</td>\n",
       "      <td>12455.8</td>\n",
       "    </tr>\n",
       "  </tbody>\n",
       "</table>\n",
       "</div>"
      ],
      "text/plain": [
       "      0.1     0.2     0.3     0.4     0.5     0.6     0.7      0.8      0.9  \\\n",
       "0  1350.1  2680.5  4068.3  5362.8  6630.1  7920.9  9039.9  10275.9  11417.7   \n",
       "\n",
       "       1.0  \n",
       "0  12455.8  "
      ]
     },
     "execution_count": 2,
     "metadata": {},
     "output_type": "execute_result"
    }
   ],
   "source": [
    "df2 = pd.read_excel (r'XST Daten2.xlsx',sheet_name='Ereignissrate')\n",
    "#label Strom\n",
    "#Zahl ist ereignissrate\n",
    "df2.head()"
   ]
  },
  {
   "cell_type": "code",
   "execution_count": 3,
   "id": "written-factor",
   "metadata": {},
   "outputs": [],
   "source": [
    "T=4\n",
    "R=np.array(df2.iloc[0])/T\n",
    "I=np.linspace(0.1,1,10)\n",
    "p0=(4000,7)"
   ]
  },
  {
   "cell_type": "markdown",
   "id": "another-warehouse",
   "metadata": {},
   "source": [
    "Funtion to fit $R_Z=r\\cdot I\\cdot e^{-r\\cdot t \\cdot I}$ fit parameter r and t"
   ]
  },
  {
   "cell_type": "code",
   "execution_count": 4,
   "id": "macro-wells",
   "metadata": {},
   "outputs": [],
   "source": [
    "def expf(I,r,t):\n",
    "    return r*I*np.exp(-r*I*t)"
   ]
  },
  {
   "cell_type": "code",
   "execution_count": 37,
   "id": "played-qatar",
   "metadata": {},
   "outputs": [
    {
     "name": "stdout",
     "output_type": "stream",
     "text": [
      "{'r': 3514.235113149523, 't': 3.325653243732369e-05}\n"
     ]
    },
    {
     "data": {
      "text/html": [
       "<table><tr><th> name </th><th> value </th><th> standard error </th><th> relative error </th><th> initial value </th><th> min </th><th> max </th><th> vary </th></tr><tr><td> r </td><td>  3514.23511 </td><td>  23.2580888 </td><td> (0.66%) </td><td> 0.5 </td><td>        -inf </td><td>         inf </td><td> True </td></tr><tr><td> t </td><td>  3.3257e-05 </td><td>  2.1337e-06 </td><td> (6.42%) </td><td> 9e-08 </td><td>        -inf </td><td>         inf </td><td> True </td></tr></table>"
      ],
      "text/plain": [
       "Parameters([('r',\n",
       "             <Parameter 'r', value=3514.235113149523 +/- 23.3, bounds=[-inf:inf]>),\n",
       "            ('t',\n",
       "             <Parameter 't', value=3.325653243732369e-05 +/- 2.13e-06, bounds=[-inf:inf]>)])"
      ]
     },
     "execution_count": 37,
     "metadata": {},
     "output_type": "execute_result"
    },
    {
     "data": {
      "image/png": "[encoded data removed]",
      "text/plain": [
       "<Figure size 432x288 with 1 Axes>"
      ]
     },
     "metadata": {
      "needs_background": "light"
     },
     "output_type": "display_data"
    }
   ],
   "source": [
    "model = Model(expf, independent_vars=['I'])\n",
    "result = model.fit(R, I=I, r=0.5, t=90e-9)\n",
    "print(result.values)\n",
    "result.plot_fit()\n",
    "plt.xlabel('Current[A]')\n",
    "plt.ylabel('Decay rate [1/s]')\n",
    "plt.title('')\n",
    "plt.savefig('Aufgabe 11')\n",
    "result.params"
   ]
  },
  {
   "cell_type": "markdown",
   "id": "dramatic-closer",
   "metadata": {},
   "source": [
    "# Aufgabe 12"
   ]
  },
  {
   "cell_type": "code",
   "execution_count": 40,
   "id": "rural-detective",
   "metadata": {},
   "outputs": [
    {
     "data": {
      "text/html": [
       "<div>\n",
       "<style scoped>\n",
       "    .dataframe tbody tr th:only-of-type {\n",
       "        vertical-align: middle;\n",
       "    }\n",
       "\n",
       "    .dataframe tbody tr th {\n",
       "        vertical-align: top;\n",
       "    }\n",
       "\n",
       "    .dataframe thead th {\n",
       "        text-align: right;\n",
       "    }\n",
       "</style>\n",
       "<table border=\"1\" class=\"dataframe\">\n",
       "  <thead>\n",
       "    <tr style=\"text-align: right;\">\n",
       "      <th></th>\n",
       "      <th>Winkel NaCl</th>\n",
       "      <th>NaCl</th>\n",
       "      <th>Winkel Zirk</th>\n",
       "      <th>Zirk</th>\n",
       "      <th>Winkel NaCl.1</th>\n",
       "      <th>NaCl180</th>\n",
       "      <th>LiF</th>\n",
       "      <th>Winkel Strom</th>\n",
       "      <th>R_0</th>\n",
       "      <th>R_1</th>\n",
       "      <th>...</th>\n",
       "      <th>R_9</th>\n",
       "      <th>Unnamed: 18</th>\n",
       "      <th>Unnamed: 19</th>\n",
       "      <th>&amp;b / °</th>\n",
       "      <th>R_0 / 1/s</th>\n",
       "      <th>R_1 / 1/s</th>\n",
       "      <th>R_2 / 1/s</th>\n",
       "      <th>R_3 / 1/s</th>\n",
       "      <th>R_4 / 1/s</th>\n",
       "      <th>R_5 / 1/s</th>\n",
       "    </tr>\n",
       "  </thead>\n",
       "  <tbody>\n",
       "    <tr>\n",
       "      <th>0</th>\n",
       "      <td>2.0</td>\n",
       "      <td>6.0</td>\n",
       "      <td>4.0</td>\n",
       "      <td>96.0</td>\n",
       "      <td>2.0</td>\n",
       "      <td>4.0</td>\n",
       "      <td>2</td>\n",
       "      <td>8.0</td>\n",
       "      <td>20.5</td>\n",
       "      <td>51.8</td>\n",
       "      <td>...</td>\n",
       "      <td>249.0</td>\n",
       "      <td>NaN</td>\n",
       "      <td>NaN</td>\n",
       "      <td>4.0</td>\n",
       "      <td>16.1</td>\n",
       "      <td>NaN</td>\n",
       "      <td>NaN</td>\n",
       "      <td>NaN</td>\n",
       "      <td>NaN</td>\n",
       "      <td>NaN</td>\n",
       "    </tr>\n",
       "    <tr>\n",
       "      <th>1</th>\n",
       "      <td>2.1</td>\n",
       "      <td>4.0</td>\n",
       "      <td>4.1</td>\n",
       "      <td>103.0</td>\n",
       "      <td>2.1</td>\n",
       "      <td>4.0</td>\n",
       "      <td>3</td>\n",
       "      <td>8.1</td>\n",
       "      <td>25.8</td>\n",
       "      <td>52.8</td>\n",
       "      <td>...</td>\n",
       "      <td>251.0</td>\n",
       "      <td>NaN</td>\n",
       "      <td>NaN</td>\n",
       "      <td>4.1</td>\n",
       "      <td>15.4</td>\n",
       "      <td>NaN</td>\n",
       "      <td>NaN</td>\n",
       "      <td>NaN</td>\n",
       "      <td>NaN</td>\n",
       "      <td>NaN</td>\n",
       "    </tr>\n",
       "    <tr>\n",
       "      <th>2</th>\n",
       "      <td>2.2</td>\n",
       "      <td>5.0</td>\n",
       "      <td>4.2</td>\n",
       "      <td>93.0</td>\n",
       "      <td>2.2</td>\n",
       "      <td>3.0</td>\n",
       "      <td>7</td>\n",
       "      <td>8.2</td>\n",
       "      <td>24.5</td>\n",
       "      <td>53.8</td>\n",
       "      <td>...</td>\n",
       "      <td>239.8</td>\n",
       "      <td>NaN</td>\n",
       "      <td>NaN</td>\n",
       "      <td>4.2</td>\n",
       "      <td>14.9</td>\n",
       "      <td>NaN</td>\n",
       "      <td>NaN</td>\n",
       "      <td>NaN</td>\n",
       "      <td>NaN</td>\n",
       "      <td>NaN</td>\n",
       "    </tr>\n",
       "    <tr>\n",
       "      <th>3</th>\n",
       "      <td>2.3</td>\n",
       "      <td>8.0</td>\n",
       "      <td>4.3</td>\n",
       "      <td>152.0</td>\n",
       "      <td>2.3</td>\n",
       "      <td>4.0</td>\n",
       "      <td>8</td>\n",
       "      <td>8.3</td>\n",
       "      <td>28.3</td>\n",
       "      <td>49.0</td>\n",
       "      <td>...</td>\n",
       "      <td>227.5</td>\n",
       "      <td>NaN</td>\n",
       "      <td>NaN</td>\n",
       "      <td>4.3</td>\n",
       "      <td>17.3</td>\n",
       "      <td>NaN</td>\n",
       "      <td>NaN</td>\n",
       "      <td>NaN</td>\n",
       "      <td>NaN</td>\n",
       "      <td>NaN</td>\n",
       "    </tr>\n",
       "    <tr>\n",
       "      <th>4</th>\n",
       "      <td>2.4</td>\n",
       "      <td>7.0</td>\n",
       "      <td>4.4</td>\n",
       "      <td>130.0</td>\n",
       "      <td>2.4</td>\n",
       "      <td>6.0</td>\n",
       "      <td>8</td>\n",
       "      <td>8.4</td>\n",
       "      <td>24.8</td>\n",
       "      <td>52.0</td>\n",
       "      <td>...</td>\n",
       "      <td>236.3</td>\n",
       "      <td>NaN</td>\n",
       "      <td>NaN</td>\n",
       "      <td>4.4</td>\n",
       "      <td>18.0</td>\n",
       "      <td>NaN</td>\n",
       "      <td>NaN</td>\n",
       "      <td>NaN</td>\n",
       "      <td>NaN</td>\n",
       "      <td>NaN</td>\n",
       "    </tr>\n",
       "  </tbody>\n",
       "</table>\n",
       "<p>5 rows × 27 columns</p>\n",
       "</div>"
      ],
      "text/plain": [
       "   Winkel NaCl  NaCl  Winkel Zirk   Zirk  Winkel NaCl.1  NaCl180  LiF  \\\n",
       "0          2.0   6.0          4.0   96.0            2.0      4.0    2   \n",
       "1          2.1   4.0          4.1  103.0            2.1      4.0    3   \n",
       "2          2.2   5.0          4.2   93.0            2.2      3.0    7   \n",
       "3          2.3   8.0          4.3  152.0            2.3      4.0    8   \n",
       "4          2.4   7.0          4.4  130.0            2.4      6.0    8   \n",
       "\n",
       "   Winkel Strom  R_0   R_1   ...   R_9   Unnamed: 18  Unnamed: 19  &b / °  \\\n",
       "0           8.0  20.5  51.8  ...  249.0          NaN          NaN     4.0   \n",
       "1           8.1  25.8  52.8  ...  251.0          NaN          NaN     4.1   \n",
       "2           8.2  24.5  53.8  ...  239.8          NaN          NaN     4.2   \n",
       "3           8.3  28.3  49.0  ...  227.5          NaN          NaN     4.3   \n",
       "4           8.4  24.8  52.0  ...  236.3          NaN          NaN     4.4   \n",
       "\n",
       "   R_0 / 1/s  R_1 / 1/s  R_2 / 1/s  R_3 / 1/s  R_4 / 1/s  R_5 / 1/s  \n",
       "0       16.1        NaN        NaN        NaN        NaN        NaN  \n",
       "1       15.4        NaN        NaN        NaN        NaN        NaN  \n",
       "2       14.9        NaN        NaN        NaN        NaN        NaN  \n",
       "3       17.3        NaN        NaN        NaN        NaN        NaN  \n",
       "4       18.0        NaN        NaN        NaN        NaN        NaN  \n",
       "\n",
       "[5 rows x 27 columns]"
      ]
     },
     "execution_count": 40,
     "metadata": {},
     "output_type": "execute_result"
    }
   ],
   "source": [
    "df.head()"
   ]
  },
  {
   "cell_type": "code",
   "execution_count": 113,
   "id": "administrative-accent",
   "metadata": {},
   "outputs": [
    {
     "data": {
      "image/png": "[encoded data removed]",
      "text/plain": [
       "<Figure size 432x288 with 1 Axes>"
      ]
     },
     "metadata": {
      "needs_background": "light"
     },
     "output_type": "display_data"
    }
   ],
   "source": [
    "plt.plot(df['&b / °'],df['R_0 / 1/s'],label='U=35,0kV')\n",
    "plt.plot(df['&b / °'],df['R_1 / 1/s'],label='U=32,5kV')\n",
    "plt.plot(df['&b / °'],df['R_2 / 1/s'],label='U=30,0kV')\n",
    "plt.plot(df['&b / °'],df['R_3 / 1/s'],label='U=28,0kV')\n",
    "plt.plot(df['&b / °'],df['R_4 / 1/s'],label='U=26,0kV')\n",
    "plt.plot(df['&b / °'],df['R_5 / 1/s'],label='U=24,0kV')\n",
    "plt.scatter(5.2,19)\n",
    "plt.scatter(5.7,16.9)\n",
    "plt.scatter(6.1,12.5)\n",
    "plt.scatter(6.5,11)\n",
    "plt.scatter(7,8.69)\n",
    "plt.scatter(7.7,8.13)\n",
    "plt.xlabel('Angle [deg]')\n",
    "plt.ylabel('Decays')\n",
    "plt.legend()\n",
    "plt.savefig('Aufgabe 12')"
   ]
  },
  {
   "cell_type": "code",
   "execution_count": 108,
   "id": "quiet-jaguar",
   "metadata": {},
   "outputs": [],
   "source": [
    "crit_ang=np.array([ufloat(5.2,5.2*0.05),ufloat(5.7,5.7*0.05),ufloat(6.1,6.1*0.05),ufloat(6.5,6.5*0.05),ufloat(7,7*0.05),ufloat(7.7,7.7*0.05)])\n",
    "a=ufloat(a_avg,au_avg)*10**(-12)\n",
    "e=1.60217662e-19\n",
    "c=3e8\n",
    "U=np.array([35,32.5,30,28,26,24])*10**3"
   ]
  },
  {
   "cell_type": "code",
   "execution_count": 109,
   "id": "changing-administrator",
   "metadata": {},
   "outputs": [],
   "source": [
    "crit_lam=a*unp.sin(unp.radians(crit_ang)) #bragg bedingung n=1"
   ]
  },
  {
   "cell_type": "code",
   "execution_count": 112,
   "id": "decent-syracuse",
   "metadata": {},
   "outputs": [
    {
     "name": "stdout",
     "output_type": "stream",
     "text": [
      "The planck constant is 6.76878728640923e-34 pm 3.4223726237231486e-35\n"
     ]
    }
   ],
   "source": [
    "h=e*U*crit_lam/c\n",
    "h=unp.matrix(h) #necessay for next step\n",
    "h_avg=np.average(h.nominal_values)\n",
    "h_avg_u=np.average(h.std_devs)\n",
    "print(f'The planck constant is {h_avg} pm {h_avg_u}')"
   ]
  },
  {
   "cell_type": "markdown",
   "id": "recent-elder",
   "metadata": {},
   "source": [
    "Question about $L_\\alpha$ line"
   ]
  },
  {
   "cell_type": "code",
   "execution_count": 114,
   "id": "green-referral",
   "metadata": {},
   "outputs": [
    {
     "name": "stdout",
     "output_type": "stream",
     "text": [
      "2.15+/-0.16\n"
     ]
    }
   ],
   "source": [
    "b=ufloat(19.71,0.14)\n",
    "a=ufloat(17.56,0.08)\n",
    "print(b-a)"
   ]
  },
  {
   "cell_type": "code",
   "execution_count": null,
   "id": "affiliated-correlation",
   "metadata": {},
   "outputs": [],
   "source": []
  }
 ],
 "metadata": {
  "kernelspec": {
   "display_name": "Python 3 (ipykernel)",
   "language": "python",
   "name": "python3"
  },
  "language_info": {
   "codemirror_mode": {
    "name": "ipython",
    "version": 3
   },
   "file_extension": ".py",
   "mimetype": "text/x-python",
   "name": "python",
   "nbconvert_exporter": "python",
   "pygments_lexer": "ipython3",
   "version": "3.9.7"
  }
 },
 "nbformat": 4,
 "nbformat_minor": 5
}
